{
 "cells": [
  {
   "cell_type": "code",
   "execution_count": 1,
   "id": "931bdd8f",
   "metadata": {},
   "outputs": [],
   "source": [
    "import pandas as pd"
   ]
  },
  {
   "cell_type": "markdown",
   "id": "0d78a86a",
   "metadata": {},
   "source": [
    "RIDE LENGHT OF EACH MONTH GREATER THAN OR EQUALS TO 0.1"
   ]
  },
  {
   "cell_type": "code",
   "execution_count": 131,
   "id": "11aec84e",
   "metadata": {},
   "outputs": [],
   "source": [
    "RL1 = pd.read_csv('C:/Users/LILIAN/Desktop/Exported Datasets from R/All_RideLength/RideLenght_Jan_df.csv')"
   ]
  },
  {
   "cell_type": "code",
   "execution_count": 132,
   "id": "40419ef0",
   "metadata": {},
   "outputs": [
    {
     "data": {
      "text/html": [
       "<div>\n",
       "<style scoped>\n",
       "    .dataframe tbody tr th:only-of-type {\n",
       "        vertical-align: middle;\n",
       "    }\n",
       "\n",
       "    .dataframe tbody tr th {\n",
       "        vertical-align: top;\n",
       "    }\n",
       "\n",
       "    .dataframe thead th {\n",
       "        text-align: right;\n",
       "    }\n",
       "</style>\n",
       "<table border=\"1\" class=\"dataframe\">\n",
       "  <thead>\n",
       "    <tr style=\"text-align: right;\">\n",
       "      <th></th>\n",
       "      <th>Unnamed: 0</th>\n",
       "      <th>Ride_ID</th>\n",
       "      <th>Rideable_Type</th>\n",
       "      <th>Time_Diff1</th>\n",
       "      <th>Lat1</th>\n",
       "      <th>Ride_Lng1</th>\n",
       "      <th>Status</th>\n",
       "    </tr>\n",
       "  </thead>\n",
       "  <tbody>\n",
       "    <tr>\n",
       "      <th>0</th>\n",
       "      <td>1</td>\n",
       "      <td>4B3238841FB982FD</td>\n",
       "      <td>electric_bike</td>\n",
       "      <td>3240</td>\n",
       "      <td>-0.02</td>\n",
       "      <td>0.12</td>\n",
       "      <td>member</td>\n",
       "    </tr>\n",
       "    <tr>\n",
       "      <th>1</th>\n",
       "      <td>2</td>\n",
       "      <td>739FDF9435C1BBA5</td>\n",
       "      <td>electric_bike</td>\n",
       "      <td>1860</td>\n",
       "      <td>0.04</td>\n",
       "      <td>0.11</td>\n",
       "      <td>casual</td>\n",
       "    </tr>\n",
       "    <tr>\n",
       "      <th>2</th>\n",
       "      <td>3</td>\n",
       "      <td>3A4D8A0D73FE76C5</td>\n",
       "      <td>electric_bike</td>\n",
       "      <td>1920</td>\n",
       "      <td>0.04</td>\n",
       "      <td>0.11</td>\n",
       "      <td>casual</td>\n",
       "    </tr>\n",
       "  </tbody>\n",
       "</table>\n",
       "</div>"
      ],
      "text/plain": [
       "   Unnamed: 0           Ride_ID  Rideable_Type  Time_Diff1  Lat1  Ride_Lng1  \\\n",
       "0           1  4B3238841FB982FD  electric_bike        3240 -0.02       0.12   \n",
       "1           2  739FDF9435C1BBA5  electric_bike        1860  0.04       0.11   \n",
       "2           3  3A4D8A0D73FE76C5  electric_bike        1920  0.04       0.11   \n",
       "\n",
       "   Status  \n",
       "0  member  \n",
       "1  casual  \n",
       "2  casual  "
      ]
     },
     "execution_count": 132,
     "metadata": {},
     "output_type": "execute_result"
    }
   ],
   "source": [
    "RL1.head(3)"
   ]
  },
  {
   "cell_type": "code",
   "execution_count": 133,
   "id": "ec1860dd",
   "metadata": {},
   "outputs": [
    {
     "data": {
      "text/plain": [
       "(25, 7)"
      ]
     },
     "execution_count": 133,
     "metadata": {},
     "output_type": "execute_result"
    }
   ],
   "source": [
    "#number of rows and columns\n",
    "RL1.shape"
   ]
  },
  {
   "cell_type": "code",
   "execution_count": 134,
   "id": "f13026a7",
   "metadata": {},
   "outputs": [],
   "source": [
    "#import dataset\n",
    "RL2 = pd.read_csv('C:/Users/LILIAN/Desktop/Exported Datasets from R/All_RideLength/RideLength_Feb_df.csv')"
   ]
  },
  {
   "cell_type": "code",
   "execution_count": 135,
   "id": "4b421e74",
   "metadata": {},
   "outputs": [
    {
     "data": {
      "text/html": [
       "<div>\n",
       "<style scoped>\n",
       "    .dataframe tbody tr th:only-of-type {\n",
       "        vertical-align: middle;\n",
       "    }\n",
       "\n",
       "    .dataframe tbody tr th {\n",
       "        vertical-align: top;\n",
       "    }\n",
       "\n",
       "    .dataframe thead th {\n",
       "        text-align: right;\n",
       "    }\n",
       "</style>\n",
       "<table border=\"1\" class=\"dataframe\">\n",
       "  <thead>\n",
       "    <tr style=\"text-align: right;\">\n",
       "      <th></th>\n",
       "      <th>Unnamed: 0</th>\n",
       "      <th>Ride_ID</th>\n",
       "      <th>Rideable_Type</th>\n",
       "      <th>Time_Diff2</th>\n",
       "      <th>Lat2</th>\n",
       "      <th>Ride_Lng2</th>\n",
       "      <th>Status</th>\n",
       "    </tr>\n",
       "  </thead>\n",
       "  <tbody>\n",
       "    <tr>\n",
       "      <th>0</th>\n",
       "      <td>1</td>\n",
       "      <td>FD108A9603BD8F58</td>\n",
       "      <td>classic_bike</td>\n",
       "      <td>3180</td>\n",
       "      <td>-0.007602</td>\n",
       "      <td>0.139261</td>\n",
       "      <td>member</td>\n",
       "    </tr>\n",
       "    <tr>\n",
       "      <th>1</th>\n",
       "      <td>2</td>\n",
       "      <td>79F80E4445B0AE48</td>\n",
       "      <td>electric_bike</td>\n",
       "      <td>3420</td>\n",
       "      <td>-0.066209</td>\n",
       "      <td>0.102705</td>\n",
       "      <td>casual</td>\n",
       "    </tr>\n",
       "    <tr>\n",
       "      <th>2</th>\n",
       "      <td>3</td>\n",
       "      <td>EF465651214DAFB4</td>\n",
       "      <td>electric_bike</td>\n",
       "      <td>2460</td>\n",
       "      <td>-0.062417</td>\n",
       "      <td>0.111015</td>\n",
       "      <td>member</td>\n",
       "    </tr>\n",
       "  </tbody>\n",
       "</table>\n",
       "</div>"
      ],
      "text/plain": [
       "   Unnamed: 0           Ride_ID  Rideable_Type  Time_Diff2      Lat2  \\\n",
       "0           1  FD108A9603BD8F58   classic_bike        3180 -0.007602   \n",
       "1           2  79F80E4445B0AE48  electric_bike        3420 -0.066209   \n",
       "2           3  EF465651214DAFB4  electric_bike        2460 -0.062417   \n",
       "\n",
       "   Ride_Lng2  Status  \n",
       "0   0.139261  member  \n",
       "1   0.102705  casual  \n",
       "2   0.111015  member  "
      ]
     },
     "execution_count": 135,
     "metadata": {},
     "output_type": "execute_result"
    }
   ],
   "source": [
    "#view few rows of the dataset\n",
    "RL2.head(3)"
   ]
  },
  {
   "cell_type": "code",
   "execution_count": 136,
   "id": "6c1a88c0",
   "metadata": {},
   "outputs": [
    {
     "data": {
      "text/plain": [
       "(29, 7)"
      ]
     },
     "execution_count": 136,
     "metadata": {},
     "output_type": "execute_result"
    }
   ],
   "source": [
    "RL2.shape"
   ]
  },
  {
   "cell_type": "code",
   "execution_count": 137,
   "id": "5ebe9bdc",
   "metadata": {},
   "outputs": [],
   "source": [
    "#import dataset\n",
    "RL3 = pd.read_csv('C:/Users/LILIAN/Desktop/Exported Datasets from R/All_RideLength/RideLength_Mar_df.csv')"
   ]
  },
  {
   "cell_type": "code",
   "execution_count": 138,
   "id": "61c94a13",
   "metadata": {},
   "outputs": [
    {
     "data": {
      "text/plain": [
       "(7, 7)"
      ]
     },
     "execution_count": 138,
     "metadata": {},
     "output_type": "execute_result"
    }
   ],
   "source": [
    "#number of rows and columns\n",
    "RL3.shape"
   ]
  },
  {
   "cell_type": "code",
   "execution_count": 139,
   "id": "5a93a53a",
   "metadata": {},
   "outputs": [
    {
     "data": {
      "text/html": [
       "<div>\n",
       "<style scoped>\n",
       "    .dataframe tbody tr th:only-of-type {\n",
       "        vertical-align: middle;\n",
       "    }\n",
       "\n",
       "    .dataframe tbody tr th {\n",
       "        vertical-align: top;\n",
       "    }\n",
       "\n",
       "    .dataframe thead th {\n",
       "        text-align: right;\n",
       "    }\n",
       "</style>\n",
       "<table border=\"1\" class=\"dataframe\">\n",
       "  <thead>\n",
       "    <tr style=\"text-align: right;\">\n",
       "      <th></th>\n",
       "      <th>Unnamed: 0</th>\n",
       "      <th>Ride_ID</th>\n",
       "      <th>Rideable_Type</th>\n",
       "      <th>Time_Diff3</th>\n",
       "      <th>Lat3</th>\n",
       "      <th>Ride_Lng3</th>\n",
       "      <th>Status</th>\n",
       "    </tr>\n",
       "  </thead>\n",
       "  <tbody>\n",
       "    <tr>\n",
       "      <th>0</th>\n",
       "      <td>1</td>\n",
       "      <td>98CD950D1A56A71E</td>\n",
       "      <td>electric_bike</td>\n",
       "      <td>2520</td>\n",
       "      <td>-0.068835</td>\n",
       "      <td>0.112534</td>\n",
       "      <td>member</td>\n",
       "    </tr>\n",
       "    <tr>\n",
       "      <th>1</th>\n",
       "      <td>2</td>\n",
       "      <td>57157E8322677857</td>\n",
       "      <td>classic_bike</td>\n",
       "      <td>3420</td>\n",
       "      <td>-0.007602</td>\n",
       "      <td>0.139261</td>\n",
       "      <td>member</td>\n",
       "    </tr>\n",
       "    <tr>\n",
       "      <th>2</th>\n",
       "      <td>3</td>\n",
       "      <td>360C19A9D936DDF4</td>\n",
       "      <td>electric_bike</td>\n",
       "      <td>6840</td>\n",
       "      <td>0.023332</td>\n",
       "      <td>0.135774</td>\n",
       "      <td>casual</td>\n",
       "    </tr>\n",
       "  </tbody>\n",
       "</table>\n",
       "</div>"
      ],
      "text/plain": [
       "   Unnamed: 0           Ride_ID  Rideable_Type  Time_Diff3      Lat3  \\\n",
       "0           1  98CD950D1A56A71E  electric_bike        2520 -0.068835   \n",
       "1           2  57157E8322677857   classic_bike        3420 -0.007602   \n",
       "2           3  360C19A9D936DDF4  electric_bike        6840  0.023332   \n",
       "\n",
       "   Ride_Lng3  Status  \n",
       "0   0.112534  member  \n",
       "1   0.139261  member  \n",
       "2   0.135774  casual  "
      ]
     },
     "execution_count": 139,
     "metadata": {},
     "output_type": "execute_result"
    }
   ],
   "source": [
    "#view few rows of the dataset\n",
    "RL3.head(3)"
   ]
  },
  {
   "cell_type": "code",
   "execution_count": 140,
   "id": "a53050dc",
   "metadata": {},
   "outputs": [],
   "source": [
    "#import dataset\n",
    "RL4 = pd.read_csv('C:/Users/LILIAN/Desktop/Exported Datasets from R/All_RideLength/RideLength_Apr_df.csv')"
   ]
  },
  {
   "cell_type": "code",
   "execution_count": 141,
   "id": "d1f02a2b",
   "metadata": {},
   "outputs": [
    {
     "data": {
      "text/plain": [
       "(56, 7)"
      ]
     },
     "execution_count": 141,
     "metadata": {},
     "output_type": "execute_result"
    }
   ],
   "source": [
    "#number of rows and columns\n",
    "RL4.shape"
   ]
  },
  {
   "cell_type": "code",
   "execution_count": 142,
   "id": "78726ad0",
   "metadata": {},
   "outputs": [
    {
     "data": {
      "text/html": [
       "<div>\n",
       "<style scoped>\n",
       "    .dataframe tbody tr th:only-of-type {\n",
       "        vertical-align: middle;\n",
       "    }\n",
       "\n",
       "    .dataframe tbody tr th {\n",
       "        vertical-align: top;\n",
       "    }\n",
       "\n",
       "    .dataframe thead th {\n",
       "        text-align: right;\n",
       "    }\n",
       "</style>\n",
       "<table border=\"1\" class=\"dataframe\">\n",
       "  <thead>\n",
       "    <tr style=\"text-align: right;\">\n",
       "      <th></th>\n",
       "      <th>Unnamed: 0</th>\n",
       "      <th>Ride_ID</th>\n",
       "      <th>Rideable_Type</th>\n",
       "      <th>Time_Diff4</th>\n",
       "      <th>Lat4</th>\n",
       "      <th>Ride_Lng4</th>\n",
       "      <th>Status</th>\n",
       "    </tr>\n",
       "  </thead>\n",
       "  <tbody>\n",
       "    <tr>\n",
       "      <th>0</th>\n",
       "      <td>1</td>\n",
       "      <td>B9C3793C2C203216</td>\n",
       "      <td>electric_bike</td>\n",
       "      <td>2460</td>\n",
       "      <td>-0.020000</td>\n",
       "      <td>0.120000</td>\n",
       "      <td>member</td>\n",
       "    </tr>\n",
       "    <tr>\n",
       "      <th>1</th>\n",
       "      <td>2</td>\n",
       "      <td>E24FD2C13EE74170</td>\n",
       "      <td>electric_bike</td>\n",
       "      <td>4140</td>\n",
       "      <td>-0.105680</td>\n",
       "      <td>0.100383</td>\n",
       "      <td>member</td>\n",
       "    </tr>\n",
       "    <tr>\n",
       "      <th>2</th>\n",
       "      <td>3</td>\n",
       "      <td>05731F09B881908C</td>\n",
       "      <td>electric_bike</td>\n",
       "      <td>1920</td>\n",
       "      <td>0.007225</td>\n",
       "      <td>0.101891</td>\n",
       "      <td>casual</td>\n",
       "    </tr>\n",
       "  </tbody>\n",
       "</table>\n",
       "</div>"
      ],
      "text/plain": [
       "   Unnamed: 0           Ride_ID  Rideable_Type  Time_Diff4      Lat4  \\\n",
       "0           1  B9C3793C2C203216  electric_bike        2460 -0.020000   \n",
       "1           2  E24FD2C13EE74170  electric_bike        4140 -0.105680   \n",
       "2           3  05731F09B881908C  electric_bike        1920  0.007225   \n",
       "\n",
       "   Ride_Lng4  Status  \n",
       "0   0.120000  member  \n",
       "1   0.100383  member  \n",
       "2   0.101891  casual  "
      ]
     },
     "execution_count": 142,
     "metadata": {},
     "output_type": "execute_result"
    }
   ],
   "source": [
    "#view few rows of the dataset\n",
    "RL4.head(3)"
   ]
  },
  {
   "cell_type": "code",
   "execution_count": 143,
   "id": "d4d54125",
   "metadata": {},
   "outputs": [],
   "source": [
    "#import dataset\n",
    "RL5 = pd.read_csv('C:/Users/LILIAN/Desktop/Exported Datasets from R/All_RideLength/RideLength_May_df.csv')"
   ]
  },
  {
   "cell_type": "code",
   "execution_count": 144,
   "id": "94afc42a",
   "metadata": {},
   "outputs": [
    {
     "data": {
      "text/plain": [
       "(81, 7)"
      ]
     },
     "execution_count": 144,
     "metadata": {},
     "output_type": "execute_result"
    }
   ],
   "source": [
    "#number of rows and columns\n",
    "RL5.shape"
   ]
  },
  {
   "cell_type": "code",
   "execution_count": 145,
   "id": "dc6cdb6a",
   "metadata": {},
   "outputs": [
    {
     "data": {
      "text/html": [
       "<div>\n",
       "<style scoped>\n",
       "    .dataframe tbody tr th:only-of-type {\n",
       "        vertical-align: middle;\n",
       "    }\n",
       "\n",
       "    .dataframe tbody tr th {\n",
       "        vertical-align: top;\n",
       "    }\n",
       "\n",
       "    .dataframe thead th {\n",
       "        text-align: right;\n",
       "    }\n",
       "</style>\n",
       "<table border=\"1\" class=\"dataframe\">\n",
       "  <thead>\n",
       "    <tr style=\"text-align: right;\">\n",
       "      <th></th>\n",
       "      <th>Unnamed: 0</th>\n",
       "      <th>Ride_ID</th>\n",
       "      <th>Rideable_Type</th>\n",
       "      <th>Time_Diff5</th>\n",
       "      <th>Lat5</th>\n",
       "      <th>Ride_Lng5</th>\n",
       "      <th>Status</th>\n",
       "    </tr>\n",
       "  </thead>\n",
       "  <tbody>\n",
       "    <tr>\n",
       "      <th>0</th>\n",
       "      <td>1</td>\n",
       "      <td>4FE00E8C8B69B235</td>\n",
       "      <td>classic_bike</td>\n",
       "      <td>5280</td>\n",
       "      <td>-0.103206</td>\n",
       "      <td>0.105881</td>\n",
       "      <td>casual</td>\n",
       "    </tr>\n",
       "    <tr>\n",
       "      <th>1</th>\n",
       "      <td>2</td>\n",
       "      <td>0F3910CE7613FA8E</td>\n",
       "      <td>electric_bike</td>\n",
       "      <td>31538580</td>\n",
       "      <td>-0.009211</td>\n",
       "      <td>0.101687</td>\n",
       "      <td>casual</td>\n",
       "    </tr>\n",
       "    <tr>\n",
       "      <th>2</th>\n",
       "      <td>3</td>\n",
       "      <td>8291EB95FEAB3762</td>\n",
       "      <td>electric_bike</td>\n",
       "      <td>2940</td>\n",
       "      <td>-0.083455</td>\n",
       "      <td>0.129175</td>\n",
       "      <td>member</td>\n",
       "    </tr>\n",
       "  </tbody>\n",
       "</table>\n",
       "</div>"
      ],
      "text/plain": [
       "   Unnamed: 0           Ride_ID  Rideable_Type  Time_Diff5      Lat5  \\\n",
       "0           1  4FE00E8C8B69B235   classic_bike        5280 -0.103206   \n",
       "1           2  0F3910CE7613FA8E  electric_bike    31538580 -0.009211   \n",
       "2           3  8291EB95FEAB3762  electric_bike        2940 -0.083455   \n",
       "\n",
       "   Ride_Lng5  Status  \n",
       "0   0.105881  casual  \n",
       "1   0.101687  casual  \n",
       "2   0.129175  member  "
      ]
     },
     "execution_count": 145,
     "metadata": {},
     "output_type": "execute_result"
    }
   ],
   "source": [
    "#view few rows of the dataset\n",
    "RL5.head(3)"
   ]
  },
  {
   "cell_type": "code",
   "execution_count": 146,
   "id": "757c275d",
   "metadata": {},
   "outputs": [],
   "source": [
    "#import dataset\n",
    "RL6 = pd.read_csv('C:/Users/LILIAN/Desktop/Exported Datasets from R/All_RideLength/RideLength_Jun_df.csv')"
   ]
  },
  {
   "cell_type": "code",
   "execution_count": 147,
   "id": "c0757896",
   "metadata": {},
   "outputs": [
    {
     "data": {
      "text/plain": [
       "(81, 7)"
      ]
     },
     "execution_count": 147,
     "metadata": {},
     "output_type": "execute_result"
    }
   ],
   "source": [
    "#number of rows and columns\n",
    "RL6.shape"
   ]
  },
  {
   "cell_type": "code",
   "execution_count": 148,
   "id": "269fd52d",
   "metadata": {},
   "outputs": [
    {
     "data": {
      "text/html": [
       "<div>\n",
       "<style scoped>\n",
       "    .dataframe tbody tr th:only-of-type {\n",
       "        vertical-align: middle;\n",
       "    }\n",
       "\n",
       "    .dataframe tbody tr th {\n",
       "        vertical-align: top;\n",
       "    }\n",
       "\n",
       "    .dataframe thead th {\n",
       "        text-align: right;\n",
       "    }\n",
       "</style>\n",
       "<table border=\"1\" class=\"dataframe\">\n",
       "  <thead>\n",
       "    <tr style=\"text-align: right;\">\n",
       "      <th></th>\n",
       "      <th>Unnamed: 0</th>\n",
       "      <th>Ride_ID</th>\n",
       "      <th>Rideable_Type</th>\n",
       "      <th>Time_Diff6</th>\n",
       "      <th>Lat6</th>\n",
       "      <th>Ride_Lng6</th>\n",
       "      <th>Status</th>\n",
       "    </tr>\n",
       "  </thead>\n",
       "  <tbody>\n",
       "    <tr>\n",
       "      <th>0</th>\n",
       "      <td>1</td>\n",
       "      <td>4FE00E8C8B69B235</td>\n",
       "      <td>classic_bike</td>\n",
       "      <td>5280</td>\n",
       "      <td>-0.103206</td>\n",
       "      <td>0.105881</td>\n",
       "      <td>casual</td>\n",
       "    </tr>\n",
       "    <tr>\n",
       "      <th>1</th>\n",
       "      <td>2</td>\n",
       "      <td>0F3910CE7613FA8E</td>\n",
       "      <td>electric_bike</td>\n",
       "      <td>31538580</td>\n",
       "      <td>-0.009211</td>\n",
       "      <td>0.101687</td>\n",
       "      <td>casual</td>\n",
       "    </tr>\n",
       "    <tr>\n",
       "      <th>2</th>\n",
       "      <td>3</td>\n",
       "      <td>8291EB95FEAB3762</td>\n",
       "      <td>electric_bike</td>\n",
       "      <td>2940</td>\n",
       "      <td>-0.083455</td>\n",
       "      <td>0.129175</td>\n",
       "      <td>member</td>\n",
       "    </tr>\n",
       "  </tbody>\n",
       "</table>\n",
       "</div>"
      ],
      "text/plain": [
       "   Unnamed: 0           Ride_ID  Rideable_Type  Time_Diff6      Lat6  \\\n",
       "0           1  4FE00E8C8B69B235   classic_bike        5280 -0.103206   \n",
       "1           2  0F3910CE7613FA8E  electric_bike    31538580 -0.009211   \n",
       "2           3  8291EB95FEAB3762  electric_bike        2940 -0.083455   \n",
       "\n",
       "   Ride_Lng6  Status  \n",
       "0   0.105881  casual  \n",
       "1   0.101687  casual  \n",
       "2   0.129175  member  "
      ]
     },
     "execution_count": 148,
     "metadata": {},
     "output_type": "execute_result"
    }
   ],
   "source": [
    "#view few rows of the dataset\n",
    "RL6.head(3)"
   ]
  },
  {
   "cell_type": "code",
   "execution_count": 149,
   "id": "40b79346",
   "metadata": {},
   "outputs": [],
   "source": [
    "#import dataset\n",
    "RL7 = pd.read_csv('C:/Users/LILIAN/Desktop/Exported Datasets from R/All_RideLength/RideLength_Jul_df.csv')"
   ]
  },
  {
   "cell_type": "code",
   "execution_count": 150,
   "id": "c7f8201a",
   "metadata": {},
   "outputs": [
    {
     "data": {
      "text/plain": [
       "(123, 7)"
      ]
     },
     "execution_count": 150,
     "metadata": {},
     "output_type": "execute_result"
    }
   ],
   "source": [
    "#number of rows and columns\n",
    "RL7.shape"
   ]
  },
  {
   "cell_type": "code",
   "execution_count": 151,
   "id": "c4893000",
   "metadata": {},
   "outputs": [
    {
     "data": {
      "text/html": [
       "<div>\n",
       "<style scoped>\n",
       "    .dataframe tbody tr th:only-of-type {\n",
       "        vertical-align: middle;\n",
       "    }\n",
       "\n",
       "    .dataframe tbody tr th {\n",
       "        vertical-align: top;\n",
       "    }\n",
       "\n",
       "    .dataframe thead th {\n",
       "        text-align: right;\n",
       "    }\n",
       "</style>\n",
       "<table border=\"1\" class=\"dataframe\">\n",
       "  <thead>\n",
       "    <tr style=\"text-align: right;\">\n",
       "      <th></th>\n",
       "      <th>Unnamed: 0</th>\n",
       "      <th>Ride_ID</th>\n",
       "      <th>Rideable_Type</th>\n",
       "      <th>Time_Diff7</th>\n",
       "      <th>Lat7</th>\n",
       "      <th>Ride_Lng7</th>\n",
       "      <th>Status</th>\n",
       "    </tr>\n",
       "  </thead>\n",
       "  <tbody>\n",
       "    <tr>\n",
       "      <th>0</th>\n",
       "      <td>1</td>\n",
       "      <td>836001477B70E8A4</td>\n",
       "      <td>electric_bike</td>\n",
       "      <td>2040</td>\n",
       "      <td>0.02</td>\n",
       "      <td>0.10</td>\n",
       "      <td>casual</td>\n",
       "    </tr>\n",
       "    <tr>\n",
       "      <th>1</th>\n",
       "      <td>2</td>\n",
       "      <td>253DA2C115B06411</td>\n",
       "      <td>electric_bike</td>\n",
       "      <td>31451460</td>\n",
       "      <td>-0.04</td>\n",
       "      <td>0.10</td>\n",
       "      <td>casual</td>\n",
       "    </tr>\n",
       "    <tr>\n",
       "      <th>2</th>\n",
       "      <td>3</td>\n",
       "      <td>814623472D538F8C</td>\n",
       "      <td>electric_bike</td>\n",
       "      <td>2160</td>\n",
       "      <td>0.04</td>\n",
       "      <td>0.11</td>\n",
       "      <td>casual</td>\n",
       "    </tr>\n",
       "  </tbody>\n",
       "</table>\n",
       "</div>"
      ],
      "text/plain": [
       "   Unnamed: 0           Ride_ID  Rideable_Type  Time_Diff7  Lat7  Ride_Lng7  \\\n",
       "0           1  836001477B70E8A4  electric_bike        2040  0.02       0.10   \n",
       "1           2  253DA2C115B06411  electric_bike    31451460 -0.04       0.10   \n",
       "2           3  814623472D538F8C  electric_bike        2160  0.04       0.11   \n",
       "\n",
       "   Status  \n",
       "0  casual  \n",
       "1  casual  \n",
       "2  casual  "
      ]
     },
     "execution_count": 151,
     "metadata": {},
     "output_type": "execute_result"
    }
   ],
   "source": [
    "#view few rows of the dataset\n",
    "RL7.head(3)"
   ]
  },
  {
   "cell_type": "code",
   "execution_count": 152,
   "id": "c56c628f",
   "metadata": {},
   "outputs": [],
   "source": [
    "#import dataset\n",
    "RL8 = pd.read_csv('C:/Users/LILIAN/Desktop/Exported Datasets from R/All_RideLength/RideLength_Aug_df.csv')"
   ]
  },
  {
   "cell_type": "code",
   "execution_count": 153,
   "id": "336a70ff",
   "metadata": {},
   "outputs": [
    {
     "data": {
      "text/plain": [
       "(191, 6)"
      ]
     },
     "execution_count": 153,
     "metadata": {},
     "output_type": "execute_result"
    }
   ],
   "source": [
    "#number of rows and columns\n",
    "RL8.shape"
   ]
  },
  {
   "cell_type": "code",
   "execution_count": 154,
   "id": "16c14333",
   "metadata": {},
   "outputs": [
    {
     "data": {
      "text/html": [
       "<div>\n",
       "<style scoped>\n",
       "    .dataframe tbody tr th:only-of-type {\n",
       "        vertical-align: middle;\n",
       "    }\n",
       "\n",
       "    .dataframe tbody tr th {\n",
       "        vertical-align: top;\n",
       "    }\n",
       "\n",
       "    .dataframe thead th {\n",
       "        text-align: right;\n",
       "    }\n",
       "</style>\n",
       "<table border=\"1\" class=\"dataframe\">\n",
       "  <thead>\n",
       "    <tr style=\"text-align: right;\">\n",
       "      <th></th>\n",
       "      <th>Unnamed: 0</th>\n",
       "      <th>Ride_ID</th>\n",
       "      <th>Rideable_Type</th>\n",
       "      <th>Time_Diff8</th>\n",
       "      <th>Ride_Lng8</th>\n",
       "      <th>Status</th>\n",
       "    </tr>\n",
       "  </thead>\n",
       "  <tbody>\n",
       "    <tr>\n",
       "      <th>0</th>\n",
       "      <td>1</td>\n",
       "      <td>470807681F760A3C</td>\n",
       "      <td>electric_bike</td>\n",
       "      <td>-912639300</td>\n",
       "      <td>0.16</td>\n",
       "      <td>casual</td>\n",
       "    </tr>\n",
       "    <tr>\n",
       "      <th>1</th>\n",
       "      <td>2</td>\n",
       "      <td>466691BB71A116E9</td>\n",
       "      <td>electric_bike</td>\n",
       "      <td>4260</td>\n",
       "      <td>0.15</td>\n",
       "      <td>casual</td>\n",
       "    </tr>\n",
       "    <tr>\n",
       "      <th>2</th>\n",
       "      <td>3</td>\n",
       "      <td>F66FA88E5AB6FA16</td>\n",
       "      <td>electric_bike</td>\n",
       "      <td>3180</td>\n",
       "      <td>0.11</td>\n",
       "      <td>casual</td>\n",
       "    </tr>\n",
       "  </tbody>\n",
       "</table>\n",
       "</div>"
      ],
      "text/plain": [
       "   Unnamed: 0           Ride_ID  Rideable_Type  Time_Diff8  Ride_Lng8  Status\n",
       "0           1  470807681F760A3C  electric_bike  -912639300       0.16  casual\n",
       "1           2  466691BB71A116E9  electric_bike        4260       0.15  casual\n",
       "2           3  F66FA88E5AB6FA16  electric_bike        3180       0.11  casual"
      ]
     },
     "execution_count": 154,
     "metadata": {},
     "output_type": "execute_result"
    }
   ],
   "source": [
    "#view few rows of the dataset\n",
    "RL8.head(3)"
   ]
  },
  {
   "cell_type": "code",
   "execution_count": 155,
   "id": "782ab7fb",
   "metadata": {},
   "outputs": [],
   "source": [
    "#import dataset\n",
    "RL9 = pd.read_csv('C:/Users/LILIAN/Desktop/Exported Datasets from R/All_RideLength/RideLength_Sep_df.csv')"
   ]
  },
  {
   "cell_type": "code",
   "execution_count": 156,
   "id": "f4832cb9",
   "metadata": {},
   "outputs": [
    {
     "data": {
      "text/plain": [
       "(300, 7)"
      ]
     },
     "execution_count": 156,
     "metadata": {},
     "output_type": "execute_result"
    }
   ],
   "source": [
    "#number of rows and columns\n",
    "RL9.shape"
   ]
  },
  {
   "cell_type": "code",
   "execution_count": 157,
   "id": "db65011d",
   "metadata": {},
   "outputs": [
    {
     "data": {
      "text/html": [
       "<div>\n",
       "<style scoped>\n",
       "    .dataframe tbody tr th:only-of-type {\n",
       "        vertical-align: middle;\n",
       "    }\n",
       "\n",
       "    .dataframe tbody tr th {\n",
       "        vertical-align: top;\n",
       "    }\n",
       "\n",
       "    .dataframe thead th {\n",
       "        text-align: right;\n",
       "    }\n",
       "</style>\n",
       "<table border=\"1\" class=\"dataframe\">\n",
       "  <thead>\n",
       "    <tr style=\"text-align: right;\">\n",
       "      <th></th>\n",
       "      <th>Unnamed: 0</th>\n",
       "      <th>Ride_ID</th>\n",
       "      <th>Rideable_Type</th>\n",
       "      <th>Time_Diff9</th>\n",
       "      <th>Lat9</th>\n",
       "      <th>Ride_Lng9</th>\n",
       "      <th>Status</th>\n",
       "    </tr>\n",
       "  </thead>\n",
       "  <tbody>\n",
       "    <tr>\n",
       "      <th>0</th>\n",
       "      <td>1</td>\n",
       "      <td>CF27A083F1A0571C</td>\n",
       "      <td>docked_bike</td>\n",
       "      <td>7140</td>\n",
       "      <td>-0.206372</td>\n",
       "      <td>0.147011</td>\n",
       "      <td>casual</td>\n",
       "    </tr>\n",
       "    <tr>\n",
       "      <th>1</th>\n",
       "      <td>2</td>\n",
       "      <td>CCD9A5D26B20A80E</td>\n",
       "      <td>electric_bike</td>\n",
       "      <td>2700</td>\n",
       "      <td>-0.082163</td>\n",
       "      <td>0.115840</td>\n",
       "      <td>member</td>\n",
       "    </tr>\n",
       "    <tr>\n",
       "      <th>2</th>\n",
       "      <td>3</td>\n",
       "      <td>B4EE8797FE5B2EF1</td>\n",
       "      <td>classic_bike</td>\n",
       "      <td>31454340</td>\n",
       "      <td>0.009868</td>\n",
       "      <td>0.116343</td>\n",
       "      <td>casual</td>\n",
       "    </tr>\n",
       "  </tbody>\n",
       "</table>\n",
       "</div>"
      ],
      "text/plain": [
       "   Unnamed: 0           Ride_ID  Rideable_Type  Time_Diff9      Lat9  \\\n",
       "0           1  CF27A083F1A0571C    docked_bike        7140 -0.206372   \n",
       "1           2  CCD9A5D26B20A80E  electric_bike        2700 -0.082163   \n",
       "2           3  B4EE8797FE5B2EF1   classic_bike    31454340  0.009868   \n",
       "\n",
       "   Ride_Lng9  Status  \n",
       "0   0.147011  casual  \n",
       "1   0.115840  member  \n",
       "2   0.116343  casual  "
      ]
     },
     "execution_count": 157,
     "metadata": {},
     "output_type": "execute_result"
    }
   ],
   "source": [
    "#view few rows of the dataset\n",
    "RL9.head(3)"
   ]
  },
  {
   "cell_type": "code",
   "execution_count": 158,
   "id": "00524417",
   "metadata": {},
   "outputs": [],
   "source": [
    "#import dataset\n",
    "RL10 = pd.read_csv('C:/Users/LILIAN/Desktop/Exported Datasets from R/All_RideLength/RideLength_Oct_df.csv')"
   ]
  },
  {
   "cell_type": "code",
   "execution_count": 159,
   "id": "d8717521",
   "metadata": {},
   "outputs": [
    {
     "data": {
      "text/plain": [
       "(483, 7)"
      ]
     },
     "execution_count": 159,
     "metadata": {},
     "output_type": "execute_result"
    }
   ],
   "source": [
    "#number of rows and columns\n",
    "RL10.shape"
   ]
  },
  {
   "cell_type": "code",
   "execution_count": 160,
   "id": "bcc6d0ca",
   "metadata": {},
   "outputs": [
    {
     "data": {
      "text/html": [
       "<div>\n",
       "<style scoped>\n",
       "    .dataframe tbody tr th:only-of-type {\n",
       "        vertical-align: middle;\n",
       "    }\n",
       "\n",
       "    .dataframe tbody tr th {\n",
       "        vertical-align: top;\n",
       "    }\n",
       "\n",
       "    .dataframe thead th {\n",
       "        text-align: right;\n",
       "    }\n",
       "</style>\n",
       "<table border=\"1\" class=\"dataframe\">\n",
       "  <thead>\n",
       "    <tr style=\"text-align: right;\">\n",
       "      <th></th>\n",
       "      <th>Unnamed: 0</th>\n",
       "      <th>Ride_ID</th>\n",
       "      <th>Rideable_Type</th>\n",
       "      <th>Time_Diff10</th>\n",
       "      <th>Lat10</th>\n",
       "      <th>Ride_Lng10</th>\n",
       "      <th>Status</th>\n",
       "    </tr>\n",
       "  </thead>\n",
       "  <tbody>\n",
       "    <tr>\n",
       "      <th>0</th>\n",
       "      <td>1</td>\n",
       "      <td>2DDC27F6FA553D57</td>\n",
       "      <td>electric_bike</td>\n",
       "      <td>11940</td>\n",
       "      <td>-0.07</td>\n",
       "      <td>0.10</td>\n",
       "      <td>member</td>\n",
       "    </tr>\n",
       "    <tr>\n",
       "      <th>1</th>\n",
       "      <td>2</td>\n",
       "      <td>FBBD132B844F557F</td>\n",
       "      <td>electric_bike</td>\n",
       "      <td>2460</td>\n",
       "      <td>0.01</td>\n",
       "      <td>0.10</td>\n",
       "      <td>casual</td>\n",
       "    </tr>\n",
       "    <tr>\n",
       "      <th>2</th>\n",
       "      <td>3</td>\n",
       "      <td>F06E711ABB3AF9A9</td>\n",
       "      <td>electric_bike</td>\n",
       "      <td>2220</td>\n",
       "      <td>0.02</td>\n",
       "      <td>0.11</td>\n",
       "      <td>casual</td>\n",
       "    </tr>\n",
       "  </tbody>\n",
       "</table>\n",
       "</div>"
      ],
      "text/plain": [
       "   Unnamed: 0           Ride_ID  Rideable_Type  Time_Diff10  Lat10  \\\n",
       "0           1  2DDC27F6FA553D57  electric_bike        11940  -0.07   \n",
       "1           2  FBBD132B844F557F  electric_bike         2460   0.01   \n",
       "2           3  F06E711ABB3AF9A9  electric_bike         2220   0.02   \n",
       "\n",
       "   Ride_Lng10  Status  \n",
       "0        0.10  member  \n",
       "1        0.10  casual  \n",
       "2        0.11  casual  "
      ]
     },
     "execution_count": 160,
     "metadata": {},
     "output_type": "execute_result"
    }
   ],
   "source": [
    "#view few rows of the dataset\n",
    "RL10.head(3)"
   ]
  },
  {
   "cell_type": "code",
   "execution_count": 161,
   "id": "df15ceac",
   "metadata": {},
   "outputs": [],
   "source": [
    "#import dataset\n",
    "RL11 = pd.read_csv('C:/Users/LILIAN/Desktop/Exported Datasets from R/All_RideLength/RideLength_Nov_df.csv')"
   ]
  },
  {
   "cell_type": "code",
   "execution_count": 162,
   "id": "ade52260",
   "metadata": {},
   "outputs": [
    {
     "data": {
      "text/plain": [
       "(357, 7)"
      ]
     },
     "execution_count": 162,
     "metadata": {},
     "output_type": "execute_result"
    }
   ],
   "source": [
    "#number of rows and columns\n",
    "RL11.shape"
   ]
  },
  {
   "cell_type": "code",
   "execution_count": 163,
   "id": "f969edb6",
   "metadata": {},
   "outputs": [
    {
     "data": {
      "text/html": [
       "<div>\n",
       "<style scoped>\n",
       "    .dataframe tbody tr th:only-of-type {\n",
       "        vertical-align: middle;\n",
       "    }\n",
       "\n",
       "    .dataframe tbody tr th {\n",
       "        vertical-align: top;\n",
       "    }\n",
       "\n",
       "    .dataframe thead th {\n",
       "        text-align: right;\n",
       "    }\n",
       "</style>\n",
       "<table border=\"1\" class=\"dataframe\">\n",
       "  <thead>\n",
       "    <tr style=\"text-align: right;\">\n",
       "      <th></th>\n",
       "      <th>Unnamed: 0</th>\n",
       "      <th>Ride_ID</th>\n",
       "      <th>Rideable_Type</th>\n",
       "      <th>Time_Diff11</th>\n",
       "      <th>Lat11</th>\n",
       "      <th>Ride_Lng11</th>\n",
       "      <th>Status</th>\n",
       "    </tr>\n",
       "  </thead>\n",
       "  <tbody>\n",
       "    <tr>\n",
       "      <th>0</th>\n",
       "      <td>1</td>\n",
       "      <td>33592C5281FE8AF0</td>\n",
       "      <td>electric_bike</td>\n",
       "      <td>2760</td>\n",
       "      <td>0.010000</td>\n",
       "      <td>0.160000</td>\n",
       "      <td>casual</td>\n",
       "    </tr>\n",
       "    <tr>\n",
       "      <th>1</th>\n",
       "      <td>2</td>\n",
       "      <td>D29706971BC0650E</td>\n",
       "      <td>electric_bike</td>\n",
       "      <td>2580</td>\n",
       "      <td>0.013098</td>\n",
       "      <td>0.152258</td>\n",
       "      <td>casual</td>\n",
       "    </tr>\n",
       "    <tr>\n",
       "      <th>2</th>\n",
       "      <td>3</td>\n",
       "      <td>677CD69E7F423F26</td>\n",
       "      <td>electric_bike</td>\n",
       "      <td>2340</td>\n",
       "      <td>-0.040000</td>\n",
       "      <td>0.100000</td>\n",
       "      <td>casual</td>\n",
       "    </tr>\n",
       "  </tbody>\n",
       "</table>\n",
       "</div>"
      ],
      "text/plain": [
       "   Unnamed: 0           Ride_ID  Rideable_Type  Time_Diff11     Lat11  \\\n",
       "0           1  33592C5281FE8AF0  electric_bike         2760  0.010000   \n",
       "1           2  D29706971BC0650E  electric_bike         2580  0.013098   \n",
       "2           3  677CD69E7F423F26  electric_bike         2340 -0.040000   \n",
       "\n",
       "   Ride_Lng11  Status  \n",
       "0    0.160000  casual  \n",
       "1    0.152258  casual  \n",
       "2    0.100000  casual  "
      ]
     },
     "execution_count": 163,
     "metadata": {},
     "output_type": "execute_result"
    }
   ],
   "source": [
    "#view few rows of the dataset\n",
    "RL11.head(3)"
   ]
  },
  {
   "cell_type": "code",
   "execution_count": 164,
   "id": "f58aeef1",
   "metadata": {},
   "outputs": [],
   "source": [
    "#import dataset\n",
    "RL12 = pd.read_csv('C:/Users/LILIAN/Desktop/Exported Datasets from R/All_RideLength/RideLength_Dec_df.csv')"
   ]
  },
  {
   "cell_type": "code",
   "execution_count": 165,
   "id": "b1eb4b1f",
   "metadata": {},
   "outputs": [
    {
     "data": {
      "text/plain": [
       "(432, 7)"
      ]
     },
     "execution_count": 165,
     "metadata": {},
     "output_type": "execute_result"
    }
   ],
   "source": [
    "#number of rows and columns\n",
    "RL12.shape"
   ]
  },
  {
   "cell_type": "code",
   "execution_count": 166,
   "id": "b292e6e2",
   "metadata": {},
   "outputs": [
    {
     "data": {
      "text/html": [
       "<div>\n",
       "<style scoped>\n",
       "    .dataframe tbody tr th:only-of-type {\n",
       "        vertical-align: middle;\n",
       "    }\n",
       "\n",
       "    .dataframe tbody tr th {\n",
       "        vertical-align: top;\n",
       "    }\n",
       "\n",
       "    .dataframe thead th {\n",
       "        text-align: right;\n",
       "    }\n",
       "</style>\n",
       "<table border=\"1\" class=\"dataframe\">\n",
       "  <thead>\n",
       "    <tr style=\"text-align: right;\">\n",
       "      <th></th>\n",
       "      <th>Unnamed: 0</th>\n",
       "      <th>Ride_ID</th>\n",
       "      <th>Rideable_Type</th>\n",
       "      <th>Time_Diff12</th>\n",
       "      <th>Lat12</th>\n",
       "      <th>Ride_Lng12</th>\n",
       "      <th>Status</th>\n",
       "    </tr>\n",
       "  </thead>\n",
       "  <tbody>\n",
       "    <tr>\n",
       "      <th>0</th>\n",
       "      <td>1</td>\n",
       "      <td>88AF9A07B26AA837</td>\n",
       "      <td>electric_bike</td>\n",
       "      <td>2700</td>\n",
       "      <td>-0.03</td>\n",
       "      <td>0.11</td>\n",
       "      <td>casual</td>\n",
       "    </tr>\n",
       "    <tr>\n",
       "      <th>1</th>\n",
       "      <td>2</td>\n",
       "      <td>B587573F0E53AC28</td>\n",
       "      <td>electric_bike</td>\n",
       "      <td>2280</td>\n",
       "      <td>-0.05</td>\n",
       "      <td>0.15</td>\n",
       "      <td>casual</td>\n",
       "    </tr>\n",
       "    <tr>\n",
       "      <th>2</th>\n",
       "      <td>3</td>\n",
       "      <td>8D81EF11715FFAC9</td>\n",
       "      <td>electric_bike</td>\n",
       "      <td>4140</td>\n",
       "      <td>0.00</td>\n",
       "      <td>0.10</td>\n",
       "      <td>casual</td>\n",
       "    </tr>\n",
       "  </tbody>\n",
       "</table>\n",
       "</div>"
      ],
      "text/plain": [
       "   Unnamed: 0           Ride_ID  Rideable_Type  Time_Diff12  Lat12  \\\n",
       "0           1  88AF9A07B26AA837  electric_bike         2700  -0.03   \n",
       "1           2  B587573F0E53AC28  electric_bike         2280  -0.05   \n",
       "2           3  8D81EF11715FFAC9  electric_bike         4140   0.00   \n",
       "\n",
       "   Ride_Lng12  Status  \n",
       "0        0.11  casual  \n",
       "1        0.15  casual  \n",
       "2        0.10  casual  "
      ]
     },
     "execution_count": 166,
     "metadata": {},
     "output_type": "execute_result"
    }
   ],
   "source": [
    "#view few rows of the dataset\n",
    "RL12.head(3)"
   ]
  },
  {
   "cell_type": "code",
   "execution_count": 167,
   "id": "156ca494",
   "metadata": {},
   "outputs": [],
   "source": [
    "#MERGE THE RIDE LENGHT OF ALL MONTHS INTO AS ONE YEAR\n",
    "Ride_Lenght = pd.concat([RL1,RL2,RL3,RL4,RL5,RL6,RL7,RL8,RL9,RL10,RL11,RL12])"
   ]
  },
  {
   "cell_type": "code",
   "execution_count": 168,
   "id": "94024273",
   "metadata": {},
   "outputs": [
    {
     "data": {
      "text/plain": [
       "(2165, 39)"
      ]
     },
     "execution_count": 168,
     "metadata": {},
     "output_type": "execute_result"
    }
   ],
   "source": [
    "Ride_Lenght.shape"
   ]
  },
  {
   "cell_type": "code",
   "execution_count": 169,
   "id": "220190b4",
   "metadata": {},
   "outputs": [
    {
     "data": {
      "text/html": [
       "<div>\n",
       "<style scoped>\n",
       "    .dataframe tbody tr th:only-of-type {\n",
       "        vertical-align: middle;\n",
       "    }\n",
       "\n",
       "    .dataframe tbody tr th {\n",
       "        vertical-align: top;\n",
       "    }\n",
       "\n",
       "    .dataframe thead th {\n",
       "        text-align: right;\n",
       "    }\n",
       "</style>\n",
       "<table border=\"1\" class=\"dataframe\">\n",
       "  <thead>\n",
       "    <tr style=\"text-align: right;\">\n",
       "      <th></th>\n",
       "      <th>Unnamed: 0</th>\n",
       "      <th>Ride_ID</th>\n",
       "      <th>Rideable_Type</th>\n",
       "      <th>Time_Diff1</th>\n",
       "      <th>Lat1</th>\n",
       "      <th>Ride_Lng1</th>\n",
       "      <th>Status</th>\n",
       "      <th>Time_Diff2</th>\n",
       "      <th>Lat2</th>\n",
       "      <th>Ride_Lng2</th>\n",
       "      <th>...</th>\n",
       "      <th>Ride_Lng9</th>\n",
       "      <th>Time_Diff10</th>\n",
       "      <th>Lat10</th>\n",
       "      <th>Ride_Lng10</th>\n",
       "      <th>Time_Diff11</th>\n",
       "      <th>Lat11</th>\n",
       "      <th>Ride_Lng11</th>\n",
       "      <th>Time_Diff12</th>\n",
       "      <th>Lat12</th>\n",
       "      <th>Ride_Lng12</th>\n",
       "    </tr>\n",
       "  </thead>\n",
       "  <tbody>\n",
       "    <tr>\n",
       "      <th>0</th>\n",
       "      <td>1</td>\n",
       "      <td>4B3238841FB982FD</td>\n",
       "      <td>electric_bike</td>\n",
       "      <td>3240.0</td>\n",
       "      <td>-0.02</td>\n",
       "      <td>0.12</td>\n",
       "      <td>member</td>\n",
       "      <td>NaN</td>\n",
       "      <td>NaN</td>\n",
       "      <td>NaN</td>\n",
       "      <td>...</td>\n",
       "      <td>NaN</td>\n",
       "      <td>NaN</td>\n",
       "      <td>NaN</td>\n",
       "      <td>NaN</td>\n",
       "      <td>NaN</td>\n",
       "      <td>NaN</td>\n",
       "      <td>NaN</td>\n",
       "      <td>NaN</td>\n",
       "      <td>NaN</td>\n",
       "      <td>NaN</td>\n",
       "    </tr>\n",
       "    <tr>\n",
       "      <th>1</th>\n",
       "      <td>2</td>\n",
       "      <td>739FDF9435C1BBA5</td>\n",
       "      <td>electric_bike</td>\n",
       "      <td>1860.0</td>\n",
       "      <td>0.04</td>\n",
       "      <td>0.11</td>\n",
       "      <td>casual</td>\n",
       "      <td>NaN</td>\n",
       "      <td>NaN</td>\n",
       "      <td>NaN</td>\n",
       "      <td>...</td>\n",
       "      <td>NaN</td>\n",
       "      <td>NaN</td>\n",
       "      <td>NaN</td>\n",
       "      <td>NaN</td>\n",
       "      <td>NaN</td>\n",
       "      <td>NaN</td>\n",
       "      <td>NaN</td>\n",
       "      <td>NaN</td>\n",
       "      <td>NaN</td>\n",
       "      <td>NaN</td>\n",
       "    </tr>\n",
       "    <tr>\n",
       "      <th>2</th>\n",
       "      <td>3</td>\n",
       "      <td>3A4D8A0D73FE76C5</td>\n",
       "      <td>electric_bike</td>\n",
       "      <td>1920.0</td>\n",
       "      <td>0.04</td>\n",
       "      <td>0.11</td>\n",
       "      <td>casual</td>\n",
       "      <td>NaN</td>\n",
       "      <td>NaN</td>\n",
       "      <td>NaN</td>\n",
       "      <td>...</td>\n",
       "      <td>NaN</td>\n",
       "      <td>NaN</td>\n",
       "      <td>NaN</td>\n",
       "      <td>NaN</td>\n",
       "      <td>NaN</td>\n",
       "      <td>NaN</td>\n",
       "      <td>NaN</td>\n",
       "      <td>NaN</td>\n",
       "      <td>NaN</td>\n",
       "      <td>NaN</td>\n",
       "    </tr>\n",
       "    <tr>\n",
       "      <th>3</th>\n",
       "      <td>4</td>\n",
       "      <td>F89DD1C2DD3CD93C</td>\n",
       "      <td>electric_bike</td>\n",
       "      <td>1920.0</td>\n",
       "      <td>0.04</td>\n",
       "      <td>0.10</td>\n",
       "      <td>casual</td>\n",
       "      <td>NaN</td>\n",
       "      <td>NaN</td>\n",
       "      <td>NaN</td>\n",
       "      <td>...</td>\n",
       "      <td>NaN</td>\n",
       "      <td>NaN</td>\n",
       "      <td>NaN</td>\n",
       "      <td>NaN</td>\n",
       "      <td>NaN</td>\n",
       "      <td>NaN</td>\n",
       "      <td>NaN</td>\n",
       "      <td>NaN</td>\n",
       "      <td>NaN</td>\n",
       "      <td>NaN</td>\n",
       "    </tr>\n",
       "    <tr>\n",
       "      <th>4</th>\n",
       "      <td>5</td>\n",
       "      <td>012B379BEB322471</td>\n",
       "      <td>electric_bike</td>\n",
       "      <td>2040.0</td>\n",
       "      <td>0.04</td>\n",
       "      <td>0.11</td>\n",
       "      <td>casual</td>\n",
       "      <td>NaN</td>\n",
       "      <td>NaN</td>\n",
       "      <td>NaN</td>\n",
       "      <td>...</td>\n",
       "      <td>NaN</td>\n",
       "      <td>NaN</td>\n",
       "      <td>NaN</td>\n",
       "      <td>NaN</td>\n",
       "      <td>NaN</td>\n",
       "      <td>NaN</td>\n",
       "      <td>NaN</td>\n",
       "      <td>NaN</td>\n",
       "      <td>NaN</td>\n",
       "      <td>NaN</td>\n",
       "    </tr>\n",
       "  </tbody>\n",
       "</table>\n",
       "<p>5 rows × 39 columns</p>\n",
       "</div>"
      ],
      "text/plain": [
       "   Unnamed: 0           Ride_ID  Rideable_Type  Time_Diff1  Lat1  Ride_Lng1  \\\n",
       "0           1  4B3238841FB982FD  electric_bike      3240.0 -0.02       0.12   \n",
       "1           2  739FDF9435C1BBA5  electric_bike      1860.0  0.04       0.11   \n",
       "2           3  3A4D8A0D73FE76C5  electric_bike      1920.0  0.04       0.11   \n",
       "3           4  F89DD1C2DD3CD93C  electric_bike      1920.0  0.04       0.10   \n",
       "4           5  012B379BEB322471  electric_bike      2040.0  0.04       0.11   \n",
       "\n",
       "   Status  Time_Diff2  Lat2  Ride_Lng2  ...  Ride_Lng9  Time_Diff10  Lat10  \\\n",
       "0  member         NaN   NaN        NaN  ...        NaN          NaN    NaN   \n",
       "1  casual         NaN   NaN        NaN  ...        NaN          NaN    NaN   \n",
       "2  casual         NaN   NaN        NaN  ...        NaN          NaN    NaN   \n",
       "3  casual         NaN   NaN        NaN  ...        NaN          NaN    NaN   \n",
       "4  casual         NaN   NaN        NaN  ...        NaN          NaN    NaN   \n",
       "\n",
       "   Ride_Lng10  Time_Diff11  Lat11  Ride_Lng11  Time_Diff12  Lat12  Ride_Lng12  \n",
       "0         NaN          NaN    NaN         NaN          NaN    NaN         NaN  \n",
       "1         NaN          NaN    NaN         NaN          NaN    NaN         NaN  \n",
       "2         NaN          NaN    NaN         NaN          NaN    NaN         NaN  \n",
       "3         NaN          NaN    NaN         NaN          NaN    NaN         NaN  \n",
       "4         NaN          NaN    NaN         NaN          NaN    NaN         NaN  \n",
       "\n",
       "[5 rows x 39 columns]"
      ]
     },
     "execution_count": 169,
     "metadata": {},
     "output_type": "execute_result"
    }
   ],
   "source": [
    "Ride_Lenght.head()"
   ]
  },
  {
   "cell_type": "markdown",
   "id": "9d35867d",
   "metadata": {},
   "source": [
    "MERGE ALL DATAFRAME TO 1 YEAR"
   ]
  },
  {
   "cell_type": "code",
   "execution_count": 170,
   "id": "f48b468e",
   "metadata": {},
   "outputs": [],
   "source": [
    "#import dataset\n",
    "Jan = pd.read_csv('C:/Users/LILIAN/Desktop/Exported Datasets from R/2021_Data/Jan_df.csv')"
   ]
  },
  {
   "cell_type": "code",
   "execution_count": 171,
   "id": "87734bd2",
   "metadata": {},
   "outputs": [
    {
     "data": {
      "text/plain": [
       "(131573, 7)"
      ]
     },
     "execution_count": 171,
     "metadata": {},
     "output_type": "execute_result"
    }
   ],
   "source": [
    "#number of rows and columns\n",
    "Jan.shape"
   ]
  },
  {
   "cell_type": "code",
   "execution_count": 172,
   "id": "09468ab7",
   "metadata": {},
   "outputs": [
    {
     "data": {
      "text/html": [
       "<div>\n",
       "<style scoped>\n",
       "    .dataframe tbody tr th:only-of-type {\n",
       "        vertical-align: middle;\n",
       "    }\n",
       "\n",
       "    .dataframe tbody tr th {\n",
       "        vertical-align: top;\n",
       "    }\n",
       "\n",
       "    .dataframe thead th {\n",
       "        text-align: right;\n",
       "    }\n",
       "</style>\n",
       "<table border=\"1\" class=\"dataframe\">\n",
       "  <thead>\n",
       "    <tr style=\"text-align: right;\">\n",
       "      <th></th>\n",
       "      <th>Unnamed: 0</th>\n",
       "      <th>Ride_ID</th>\n",
       "      <th>Rideable_Type</th>\n",
       "      <th>Time_Diff1</th>\n",
       "      <th>Lat1</th>\n",
       "      <th>Ride_Lng1</th>\n",
       "      <th>Status</th>\n",
       "    </tr>\n",
       "  </thead>\n",
       "  <tbody>\n",
       "    <tr>\n",
       "      <th>0</th>\n",
       "      <td>1</td>\n",
       "      <td>70B6A9A437D4C30D</td>\n",
       "      <td>classic_bike</td>\n",
       "      <td>660</td>\n",
       "      <td>-0.01099</td>\n",
       "      <td>-0.01034</td>\n",
       "      <td>member</td>\n",
       "    </tr>\n",
       "    <tr>\n",
       "      <th>1</th>\n",
       "      <td>2</td>\n",
       "      <td>158A465D4E74C54A</td>\n",
       "      <td>electric_bike</td>\n",
       "      <td>420</td>\n",
       "      <td>0.02000</td>\n",
       "      <td>0.00000</td>\n",
       "      <td>member</td>\n",
       "    </tr>\n",
       "    <tr>\n",
       "      <th>2</th>\n",
       "      <td>3</td>\n",
       "      <td>5262016E0F1F2F9A</td>\n",
       "      <td>electric_bike</td>\n",
       "      <td>420</td>\n",
       "      <td>-0.02000</td>\n",
       "      <td>0.01000</td>\n",
       "      <td>member</td>\n",
       "    </tr>\n",
       "  </tbody>\n",
       "</table>\n",
       "</div>"
      ],
      "text/plain": [
       "   Unnamed: 0           Ride_ID  Rideable_Type  Time_Diff1     Lat1  \\\n",
       "0           1  70B6A9A437D4C30D   classic_bike         660 -0.01099   \n",
       "1           2  158A465D4E74C54A  electric_bike         420  0.02000   \n",
       "2           3  5262016E0F1F2F9A  electric_bike         420 -0.02000   \n",
       "\n",
       "   Ride_Lng1  Status  \n",
       "0   -0.01034  member  \n",
       "1    0.00000  member  \n",
       "2    0.01000  member  "
      ]
     },
     "execution_count": 172,
     "metadata": {},
     "output_type": "execute_result"
    }
   ],
   "source": [
    "#view few rows of the dataset\n",
    "Jan .head(3)"
   ]
  },
  {
   "cell_type": "code",
   "execution_count": 173,
   "id": "a98f68ad",
   "metadata": {},
   "outputs": [],
   "source": [
    "#import dataset\n",
    "Feb = pd.read_csv('C:/Users/LILIAN/Desktop/Exported Datasets from R/2021_Data/Feb_df.csv')"
   ]
  },
  {
   "cell_type": "code",
   "execution_count": 174,
   "id": "b038ae06",
   "metadata": {},
   "outputs": [
    {
     "data": {
      "text/plain": [
       "(96834, 7)"
      ]
     },
     "execution_count": 174,
     "metadata": {},
     "output_type": "execute_result"
    }
   ],
   "source": [
    "#number of rows and columns\n",
    "Feb.shape"
   ]
  },
  {
   "cell_type": "code",
   "execution_count": 175,
   "id": "a478d087",
   "metadata": {},
   "outputs": [
    {
     "data": {
      "text/html": [
       "<div>\n",
       "<style scoped>\n",
       "    .dataframe tbody tr th:only-of-type {\n",
       "        vertical-align: middle;\n",
       "    }\n",
       "\n",
       "    .dataframe tbody tr th {\n",
       "        vertical-align: top;\n",
       "    }\n",
       "\n",
       "    .dataframe thead th {\n",
       "        text-align: right;\n",
       "    }\n",
       "</style>\n",
       "<table border=\"1\" class=\"dataframe\">\n",
       "  <thead>\n",
       "    <tr style=\"text-align: right;\">\n",
       "      <th></th>\n",
       "      <th>Unnamed: 0</th>\n",
       "      <th>Ride_ID</th>\n",
       "      <th>Rideable_Type</th>\n",
       "      <th>Time_Diff2</th>\n",
       "      <th>Lat2</th>\n",
       "      <th>Ride_Lng2</th>\n",
       "      <th>Status</th>\n",
       "    </tr>\n",
       "  </thead>\n",
       "  <tbody>\n",
       "    <tr>\n",
       "      <th>0</th>\n",
       "      <td>1</td>\n",
       "      <td>E19E6F1B8D4C42ED</td>\n",
       "      <td>electric_bike</td>\n",
       "      <td>600</td>\n",
       "      <td>0.010341</td>\n",
       "      <td>0.023257</td>\n",
       "      <td>member</td>\n",
       "    </tr>\n",
       "    <tr>\n",
       "      <th>1</th>\n",
       "      <td>2</td>\n",
       "      <td>DC88F20C2C55F27F</td>\n",
       "      <td>electric_bike</td>\n",
       "      <td>240</td>\n",
       "      <td>0.000333</td>\n",
       "      <td>-0.006707</td>\n",
       "      <td>member</td>\n",
       "    </tr>\n",
       "    <tr>\n",
       "      <th>2</th>\n",
       "      <td>3</td>\n",
       "      <td>EC45C94683FE3F27</td>\n",
       "      <td>electric_bike</td>\n",
       "      <td>120</td>\n",
       "      <td>0.000313</td>\n",
       "      <td>0.003357</td>\n",
       "      <td>member</td>\n",
       "    </tr>\n",
       "  </tbody>\n",
       "</table>\n",
       "</div>"
      ],
      "text/plain": [
       "   Unnamed: 0           Ride_ID  Rideable_Type  Time_Diff2      Lat2  \\\n",
       "0           1  E19E6F1B8D4C42ED  electric_bike         600  0.010341   \n",
       "1           2  DC88F20C2C55F27F  electric_bike         240  0.000333   \n",
       "2           3  EC45C94683FE3F27  electric_bike         120  0.000313   \n",
       "\n",
       "   Ride_Lng2  Status  \n",
       "0   0.023257  member  \n",
       "1  -0.006707  member  \n",
       "2   0.003357  member  "
      ]
     },
     "execution_count": 175,
     "metadata": {},
     "output_type": "execute_result"
    }
   ],
   "source": [
    "#view few rows of the dataset\n",
    "Feb.head(3)"
   ]
  },
  {
   "cell_type": "code",
   "execution_count": 176,
   "id": "c3065ad6",
   "metadata": {},
   "outputs": [],
   "source": [
    "#import dataset\n",
    "Mar = pd.read_csv('C:/Users/LILIAN/Desktop/Exported Datasets from R/2021_Data/Mar_df.csv')"
   ]
  },
  {
   "cell_type": "code",
   "execution_count": 177,
   "id": "9608dfaf",
   "metadata": {},
   "outputs": [
    {
     "data": {
      "text/plain": [
       "(49622, 7)"
      ]
     },
     "execution_count": 177,
     "metadata": {},
     "output_type": "execute_result"
    }
   ],
   "source": [
    "#number of rows and columns\n",
    "Mar.shape"
   ]
  },
  {
   "cell_type": "code",
   "execution_count": 178,
   "id": "ec8d1110",
   "metadata": {},
   "outputs": [
    {
     "data": {
      "text/html": [
       "<div>\n",
       "<style scoped>\n",
       "    .dataframe tbody tr th:only-of-type {\n",
       "        vertical-align: middle;\n",
       "    }\n",
       "\n",
       "    .dataframe tbody tr th {\n",
       "        vertical-align: top;\n",
       "    }\n",
       "\n",
       "    .dataframe thead th {\n",
       "        text-align: right;\n",
       "    }\n",
       "</style>\n",
       "<table border=\"1\" class=\"dataframe\">\n",
       "  <thead>\n",
       "    <tr style=\"text-align: right;\">\n",
       "      <th></th>\n",
       "      <th>Unnamed: 0</th>\n",
       "      <th>Ride_ID</th>\n",
       "      <th>Rideable_Type</th>\n",
       "      <th>Time_Diff3</th>\n",
       "      <th>Lat3</th>\n",
       "      <th>Ride_Lng3</th>\n",
       "      <th>Status</th>\n",
       "    </tr>\n",
       "  </thead>\n",
       "  <tbody>\n",
       "    <tr>\n",
       "      <th>0</th>\n",
       "      <td>1</td>\n",
       "      <td>89E7AA6C29227EFF</td>\n",
       "      <td>classic_bike</td>\n",
       "      <td>420</td>\n",
       "      <td>0.008118</td>\n",
       "      <td>-0.004652</td>\n",
       "      <td>member</td>\n",
       "    </tr>\n",
       "    <tr>\n",
       "      <th>1</th>\n",
       "      <td>2</td>\n",
       "      <td>0FEFDE2603568365</td>\n",
       "      <td>classic_bike</td>\n",
       "      <td>1200</td>\n",
       "      <td>-0.006836</td>\n",
       "      <td>0.003505</td>\n",
       "      <td>casual</td>\n",
       "    </tr>\n",
       "    <tr>\n",
       "      <th>2</th>\n",
       "      <td>3</td>\n",
       "      <td>E6159D746B2DBB91</td>\n",
       "      <td>electric_bike</td>\n",
       "      <td>540</td>\n",
       "      <td>0.000929</td>\n",
       "      <td>-0.003603</td>\n",
       "      <td>member</td>\n",
       "    </tr>\n",
       "  </tbody>\n",
       "</table>\n",
       "</div>"
      ],
      "text/plain": [
       "   Unnamed: 0           Ride_ID  Rideable_Type  Time_Diff3      Lat3  \\\n",
       "0           1  89E7AA6C29227EFF   classic_bike         420  0.008118   \n",
       "1           2  0FEFDE2603568365   classic_bike        1200 -0.006836   \n",
       "2           3  E6159D746B2DBB91  electric_bike         540  0.000929   \n",
       "\n",
       "   Ride_Lng3  Status  \n",
       "0  -0.004652  member  \n",
       "1   0.003505  casual  \n",
       "2  -0.003603  member  "
      ]
     },
     "execution_count": 178,
     "metadata": {},
     "output_type": "execute_result"
    }
   ],
   "source": [
    "#view few rows of the dataset\n",
    "Mar.head(3)"
   ]
  },
  {
   "cell_type": "code",
   "execution_count": 179,
   "id": "1038b0e5",
   "metadata": {},
   "outputs": [],
   "source": [
    "#import dataset\n",
    "Apr = pd.read_csv('C:/Users/LILIAN/Desktop/Exported Datasets from R/2021_Data/Apr_df.csv')"
   ]
  },
  {
   "cell_type": "code",
   "execution_count": 180,
   "id": "21f4345d",
   "metadata": {},
   "outputs": [
    {
     "data": {
      "text/plain": [
       "(214272, 7)"
      ]
     },
     "execution_count": 180,
     "metadata": {},
     "output_type": "execute_result"
    }
   ],
   "source": [
    "#number of rows and columns\n",
    "Apr.shape"
   ]
  },
  {
   "cell_type": "code",
   "execution_count": 181,
   "id": "87a6fcfe",
   "metadata": {},
   "outputs": [
    {
     "data": {
      "text/html": [
       "<div>\n",
       "<style scoped>\n",
       "    .dataframe tbody tr th:only-of-type {\n",
       "        vertical-align: middle;\n",
       "    }\n",
       "\n",
       "    .dataframe tbody tr th {\n",
       "        vertical-align: top;\n",
       "    }\n",
       "\n",
       "    .dataframe thead th {\n",
       "        text-align: right;\n",
       "    }\n",
       "</style>\n",
       "<table border=\"1\" class=\"dataframe\">\n",
       "  <thead>\n",
       "    <tr style=\"text-align: right;\">\n",
       "      <th></th>\n",
       "      <th>Unnamed: 0</th>\n",
       "      <th>Ride_ID</th>\n",
       "      <th>Rideable_Type</th>\n",
       "      <th>Time_Diff4</th>\n",
       "      <th>Lat4</th>\n",
       "      <th>Ride_Lng4</th>\n",
       "      <th>Status</th>\n",
       "    </tr>\n",
       "  </thead>\n",
       "  <tbody>\n",
       "    <tr>\n",
       "      <th>0</th>\n",
       "      <td>1</td>\n",
       "      <td>34E6463B89188D1C</td>\n",
       "      <td>electric_bike</td>\n",
       "      <td>480</td>\n",
       "      <td>0.00</td>\n",
       "      <td>-0.03</td>\n",
       "      <td>member</td>\n",
       "    </tr>\n",
       "    <tr>\n",
       "      <th>1</th>\n",
       "      <td>2</td>\n",
       "      <td>F0B55B0D2DD86D3A</td>\n",
       "      <td>electric_bike</td>\n",
       "      <td>1020</td>\n",
       "      <td>-0.01</td>\n",
       "      <td>0.06</td>\n",
       "      <td>member</td>\n",
       "    </tr>\n",
       "    <tr>\n",
       "      <th>2</th>\n",
       "      <td>3</td>\n",
       "      <td>77D7653614151D4E</td>\n",
       "      <td>electric_bike</td>\n",
       "      <td>840</td>\n",
       "      <td>-0.01</td>\n",
       "      <td>0.03</td>\n",
       "      <td>member</td>\n",
       "    </tr>\n",
       "  </tbody>\n",
       "</table>\n",
       "</div>"
      ],
      "text/plain": [
       "   Unnamed: 0           Ride_ID  Rideable_Type  Time_Diff4  Lat4  Ride_Lng4  \\\n",
       "0           1  34E6463B89188D1C  electric_bike         480  0.00      -0.03   \n",
       "1           2  F0B55B0D2DD86D3A  electric_bike        1020 -0.01       0.06   \n",
       "2           3  77D7653614151D4E  electric_bike         840 -0.01       0.03   \n",
       "\n",
       "   Status  \n",
       "0  member  \n",
       "1  member  \n",
       "2  member  "
      ]
     },
     "execution_count": 181,
     "metadata": {},
     "output_type": "execute_result"
    }
   ],
   "source": [
    "#view few rows of the dataset\n",
    "Apr.head(3)"
   ]
  },
  {
   "cell_type": "code",
   "execution_count": 182,
   "id": "47c9cfb3",
   "metadata": {},
   "outputs": [],
   "source": [
    "#import dataset\n",
    "May = pd.read_csv('C:/Users/LILIAN/Desktop/Exported Datasets from R/2021_Data/May_df.csv')"
   ]
  },
  {
   "cell_type": "code",
   "execution_count": 183,
   "id": "aeb44817",
   "metadata": {},
   "outputs": [
    {
     "data": {
      "text/plain": [
       "(337230, 7)"
      ]
     },
     "execution_count": 183,
     "metadata": {},
     "output_type": "execute_result"
    }
   ],
   "source": [
    "#number of rows and columns\n",
    "May.shape"
   ]
  },
  {
   "cell_type": "code",
   "execution_count": 184,
   "id": "9648a06c",
   "metadata": {},
   "outputs": [
    {
     "data": {
      "text/html": [
       "<div>\n",
       "<style scoped>\n",
       "    .dataframe tbody tr th:only-of-type {\n",
       "        vertical-align: middle;\n",
       "    }\n",
       "\n",
       "    .dataframe tbody tr th {\n",
       "        vertical-align: top;\n",
       "    }\n",
       "\n",
       "    .dataframe thead th {\n",
       "        text-align: right;\n",
       "    }\n",
       "</style>\n",
       "<table border=\"1\" class=\"dataframe\">\n",
       "  <thead>\n",
       "    <tr style=\"text-align: right;\">\n",
       "      <th></th>\n",
       "      <th>Unnamed: 0</th>\n",
       "      <th>Ride_ID</th>\n",
       "      <th>Rideable_Type</th>\n",
       "      <th>Time_Diff5</th>\n",
       "      <th>Lat5</th>\n",
       "      <th>Ride_Lng5</th>\n",
       "      <th>Status</th>\n",
       "    </tr>\n",
       "  </thead>\n",
       "  <tbody>\n",
       "    <tr>\n",
       "      <th>0</th>\n",
       "      <td>1</td>\n",
       "      <td>6C992BD37A98A63F</td>\n",
       "      <td>classic_bike</td>\n",
       "      <td>1860</td>\n",
       "      <td>-0.050702</td>\n",
       "      <td>0.035218</td>\n",
       "      <td>member</td>\n",
       "    </tr>\n",
       "    <tr>\n",
       "      <th>1</th>\n",
       "      <td>2</td>\n",
       "      <td>1E0145613A209000</td>\n",
       "      <td>docked_bike</td>\n",
       "      <td>3840</td>\n",
       "      <td>0.000000</td>\n",
       "      <td>0.000000</td>\n",
       "      <td>casual</td>\n",
       "    </tr>\n",
       "    <tr>\n",
       "      <th>2</th>\n",
       "      <td>3</td>\n",
       "      <td>E498E15508A80BAD</td>\n",
       "      <td>docked_bike</td>\n",
       "      <td>126226680</td>\n",
       "      <td>0.000000</td>\n",
       "      <td>0.000000</td>\n",
       "      <td>casual</td>\n",
       "    </tr>\n",
       "  </tbody>\n",
       "</table>\n",
       "</div>"
      ],
      "text/plain": [
       "   Unnamed: 0           Ride_ID Rideable_Type  Time_Diff5      Lat5  \\\n",
       "0           1  6C992BD37A98A63F  classic_bike        1860 -0.050702   \n",
       "1           2  1E0145613A209000   docked_bike        3840  0.000000   \n",
       "2           3  E498E15508A80BAD   docked_bike   126226680  0.000000   \n",
       "\n",
       "   Ride_Lng5  Status  \n",
       "0   0.035218  member  \n",
       "1   0.000000  casual  \n",
       "2   0.000000  casual  "
      ]
     },
     "execution_count": 184,
     "metadata": {},
     "output_type": "execute_result"
    }
   ],
   "source": [
    "#view few rows of the dataset\n",
    "May.head(3)"
   ]
  },
  {
   "cell_type": "code",
   "execution_count": 185,
   "id": "bde5560d",
   "metadata": {},
   "outputs": [],
   "source": [
    "#import dataset\n",
    "Jun = pd.read_csv('C:/Users/LILIAN/Desktop/Exported Datasets from R/2021_Data/Jun_df.csv')"
   ]
  },
  {
   "cell_type": "code",
   "execution_count": 186,
   "id": "1760efa1",
   "metadata": {},
   "outputs": [
    {
     "data": {
      "text/plain": [
       "(337230, 7)"
      ]
     },
     "execution_count": 186,
     "metadata": {},
     "output_type": "execute_result"
    }
   ],
   "source": [
    "#number of rows and columns\n",
    "Jun.shape"
   ]
  },
  {
   "cell_type": "code",
   "execution_count": 187,
   "id": "0644ce8d",
   "metadata": {},
   "outputs": [
    {
     "data": {
      "text/html": [
       "<div>\n",
       "<style scoped>\n",
       "    .dataframe tbody tr th:only-of-type {\n",
       "        vertical-align: middle;\n",
       "    }\n",
       "\n",
       "    .dataframe tbody tr th {\n",
       "        vertical-align: top;\n",
       "    }\n",
       "\n",
       "    .dataframe thead th {\n",
       "        text-align: right;\n",
       "    }\n",
       "</style>\n",
       "<table border=\"1\" class=\"dataframe\">\n",
       "  <thead>\n",
       "    <tr style=\"text-align: right;\">\n",
       "      <th></th>\n",
       "      <th>Unnamed: 0</th>\n",
       "      <th>Ride_ID</th>\n",
       "      <th>Rideable_Type</th>\n",
       "      <th>Time_Diff6</th>\n",
       "      <th>Lat6</th>\n",
       "      <th>Ride_Lng6</th>\n",
       "      <th>Status</th>\n",
       "    </tr>\n",
       "  </thead>\n",
       "  <tbody>\n",
       "    <tr>\n",
       "      <th>0</th>\n",
       "      <td>1</td>\n",
       "      <td>6C992BD37A98A63F</td>\n",
       "      <td>classic_bike</td>\n",
       "      <td>1860</td>\n",
       "      <td>-0.050702</td>\n",
       "      <td>0.035218</td>\n",
       "      <td>member</td>\n",
       "    </tr>\n",
       "    <tr>\n",
       "      <th>1</th>\n",
       "      <td>2</td>\n",
       "      <td>1E0145613A209000</td>\n",
       "      <td>docked_bike</td>\n",
       "      <td>3840</td>\n",
       "      <td>0.000000</td>\n",
       "      <td>0.000000</td>\n",
       "      <td>casual</td>\n",
       "    </tr>\n",
       "    <tr>\n",
       "      <th>2</th>\n",
       "      <td>3</td>\n",
       "      <td>E498E15508A80BAD</td>\n",
       "      <td>docked_bike</td>\n",
       "      <td>126226680</td>\n",
       "      <td>0.000000</td>\n",
       "      <td>0.000000</td>\n",
       "      <td>casual</td>\n",
       "    </tr>\n",
       "  </tbody>\n",
       "</table>\n",
       "</div>"
      ],
      "text/plain": [
       "   Unnamed: 0           Ride_ID Rideable_Type  Time_Diff6      Lat6  \\\n",
       "0           1  6C992BD37A98A63F  classic_bike        1860 -0.050702   \n",
       "1           2  1E0145613A209000   docked_bike        3840  0.000000   \n",
       "2           3  E498E15508A80BAD   docked_bike   126226680  0.000000   \n",
       "\n",
       "   Ride_Lng6  Status  \n",
       "0   0.035218  member  \n",
       "1   0.000000  casual  \n",
       "2   0.000000  casual  "
      ]
     },
     "execution_count": 187,
     "metadata": {},
     "output_type": "execute_result"
    }
   ],
   "source": [
    "#view few rows of the dataset\n",
    "Jun.head(3)"
   ]
  },
  {
   "cell_type": "code",
   "execution_count": 188,
   "id": "ff3131f6",
   "metadata": {},
   "outputs": [],
   "source": [
    "#import dataset\n",
    "Jul = pd.read_csv('C:/Users/LILIAN/Desktop/Exported Datasets from R/2021_Data/Jul_df.csv')"
   ]
  },
  {
   "cell_type": "code",
   "execution_count": 189,
   "id": "21bb4846",
   "metadata": {},
   "outputs": [
    {
     "data": {
      "text/plain": [
       "(531633, 7)"
      ]
     },
     "execution_count": 189,
     "metadata": {},
     "output_type": "execute_result"
    }
   ],
   "source": [
    "#number of rows and columns\n",
    "Jul.shape"
   ]
  },
  {
   "cell_type": "code",
   "execution_count": 190,
   "id": "ec648e22",
   "metadata": {},
   "outputs": [
    {
     "data": {
      "text/html": [
       "<div>\n",
       "<style scoped>\n",
       "    .dataframe tbody tr th:only-of-type {\n",
       "        vertical-align: middle;\n",
       "    }\n",
       "\n",
       "    .dataframe tbody tr th {\n",
       "        vertical-align: top;\n",
       "    }\n",
       "\n",
       "    .dataframe thead th {\n",
       "        text-align: right;\n",
       "    }\n",
       "</style>\n",
       "<table border=\"1\" class=\"dataframe\">\n",
       "  <thead>\n",
       "    <tr style=\"text-align: right;\">\n",
       "      <th></th>\n",
       "      <th>Unnamed: 0</th>\n",
       "      <th>Ride_ID</th>\n",
       "      <th>Rideable_Type</th>\n",
       "      <th>Time_Diff7</th>\n",
       "      <th>Lat7</th>\n",
       "      <th>Ride_Lng7</th>\n",
       "      <th>Status</th>\n",
       "    </tr>\n",
       "  </thead>\n",
       "  <tbody>\n",
       "    <tr>\n",
       "      <th>0</th>\n",
       "      <td>1</td>\n",
       "      <td>C809ED75D6160B2A</td>\n",
       "      <td>electric_bike</td>\n",
       "      <td>720</td>\n",
       "      <td>0.01</td>\n",
       "      <td>-0.02</td>\n",
       "      <td>casual</td>\n",
       "    </tr>\n",
       "    <tr>\n",
       "      <th>1</th>\n",
       "      <td>2</td>\n",
       "      <td>DD59FDCE0ACACAF3</td>\n",
       "      <td>electric_bike</td>\n",
       "      <td>2700</td>\n",
       "      <td>0.09</td>\n",
       "      <td>-0.04</td>\n",
       "      <td>casual</td>\n",
       "    </tr>\n",
       "    <tr>\n",
       "      <th>2</th>\n",
       "      <td>3</td>\n",
       "      <td>0AB83CB88C43EFC2</td>\n",
       "      <td>electric_bike</td>\n",
       "      <td>60</td>\n",
       "      <td>0.00</td>\n",
       "      <td>0.00</td>\n",
       "      <td>casual</td>\n",
       "    </tr>\n",
       "  </tbody>\n",
       "</table>\n",
       "</div>"
      ],
      "text/plain": [
       "   Unnamed: 0           Ride_ID  Rideable_Type  Time_Diff7  Lat7  Ride_Lng7  \\\n",
       "0           1  C809ED75D6160B2A  electric_bike         720  0.01      -0.02   \n",
       "1           2  DD59FDCE0ACACAF3  electric_bike        2700  0.09      -0.04   \n",
       "2           3  0AB83CB88C43EFC2  electric_bike          60  0.00       0.00   \n",
       "\n",
       "   Status  \n",
       "0  casual  \n",
       "1  casual  \n",
       "2  casual  "
      ]
     },
     "execution_count": 190,
     "metadata": {},
     "output_type": "execute_result"
    }
   ],
   "source": [
    "#view few rows of the dataset\n",
    "Jul.head(3)"
   ]
  },
  {
   "cell_type": "code",
   "execution_count": 191,
   "id": "655ed72b",
   "metadata": {},
   "outputs": [],
   "source": [
    "#import dataset\n",
    "Aug = pd.read_csv('C:/Users/LILIAN/Desktop/Exported Datasets from R/2021_Data/Aug_df.csv')"
   ]
  },
  {
   "cell_type": "code",
   "execution_count": 192,
   "id": "a5105abf",
   "metadata": {},
   "outputs": [
    {
     "data": {
      "text/plain": [
       "(729595, 6)"
      ]
     },
     "execution_count": 192,
     "metadata": {},
     "output_type": "execute_result"
    }
   ],
   "source": [
    "#number of rows and columns\n",
    "Aug.shape"
   ]
  },
  {
   "cell_type": "code",
   "execution_count": 193,
   "id": "0b472711",
   "metadata": {},
   "outputs": [
    {
     "data": {
      "text/html": [
       "<div>\n",
       "<style scoped>\n",
       "    .dataframe tbody tr th:only-of-type {\n",
       "        vertical-align: middle;\n",
       "    }\n",
       "\n",
       "    .dataframe tbody tr th {\n",
       "        vertical-align: top;\n",
       "    }\n",
       "\n",
       "    .dataframe thead th {\n",
       "        text-align: right;\n",
       "    }\n",
       "</style>\n",
       "<table border=\"1\" class=\"dataframe\">\n",
       "  <thead>\n",
       "    <tr style=\"text-align: right;\">\n",
       "      <th></th>\n",
       "      <th>Unnamed: 0</th>\n",
       "      <th>Ride_ID</th>\n",
       "      <th>Rideable_Type</th>\n",
       "      <th>Time_Diff8</th>\n",
       "      <th>Ride_Lng8</th>\n",
       "      <th>Status</th>\n",
       "    </tr>\n",
       "  </thead>\n",
       "  <tbody>\n",
       "    <tr>\n",
       "      <th>0</th>\n",
       "      <td>1</td>\n",
       "      <td>99FEC93BA843FB20</td>\n",
       "      <td>electric_bike</td>\n",
       "      <td>180</td>\n",
       "      <td>0.01</td>\n",
       "      <td>member</td>\n",
       "    </tr>\n",
       "    <tr>\n",
       "      <th>1</th>\n",
       "      <td>2</td>\n",
       "      <td>06048DCFC8520CAF</td>\n",
       "      <td>electric_bike</td>\n",
       "      <td>360</td>\n",
       "      <td>0.01</td>\n",
       "      <td>member</td>\n",
       "    </tr>\n",
       "    <tr>\n",
       "      <th>2</th>\n",
       "      <td>3</td>\n",
       "      <td>9598066F68045DF2</td>\n",
       "      <td>electric_bike</td>\n",
       "      <td>360</td>\n",
       "      <td>-0.01</td>\n",
       "      <td>member</td>\n",
       "    </tr>\n",
       "  </tbody>\n",
       "</table>\n",
       "</div>"
      ],
      "text/plain": [
       "   Unnamed: 0           Ride_ID  Rideable_Type  Time_Diff8  Ride_Lng8  Status\n",
       "0           1  99FEC93BA843FB20  electric_bike         180       0.01  member\n",
       "1           2  06048DCFC8520CAF  electric_bike         360       0.01  member\n",
       "2           3  9598066F68045DF2  electric_bike         360      -0.01  member"
      ]
     },
     "execution_count": 193,
     "metadata": {},
     "output_type": "execute_result"
    }
   ],
   "source": [
    "#view few rows of the dataset\n",
    "Aug.head(3)"
   ]
  },
  {
   "cell_type": "code",
   "execution_count": 194,
   "id": "a1f8cf09",
   "metadata": {},
   "outputs": [],
   "source": [
    "#import dataset\n",
    "Sep = pd.read_csv('C:/Users/LILIAN/Desktop/Exported Datasets from R/2021_Data/Sep_df.csv')"
   ]
  },
  {
   "cell_type": "code",
   "execution_count": 195,
   "id": "0206463a",
   "metadata": {},
   "outputs": [
    {
     "data": {
      "text/plain": [
       "(822410, 7)"
      ]
     },
     "execution_count": 195,
     "metadata": {},
     "output_type": "execute_result"
    }
   ],
   "source": [
    "#number of rows and columns\n",
    "Sep.shape"
   ]
  },
  {
   "cell_type": "code",
   "execution_count": 196,
   "id": "890d18eb",
   "metadata": {},
   "outputs": [
    {
     "data": {
      "text/html": [
       "<div>\n",
       "<style scoped>\n",
       "    .dataframe tbody tr th:only-of-type {\n",
       "        vertical-align: middle;\n",
       "    }\n",
       "\n",
       "    .dataframe tbody tr th {\n",
       "        vertical-align: top;\n",
       "    }\n",
       "\n",
       "    .dataframe thead th {\n",
       "        text-align: right;\n",
       "    }\n",
       "</style>\n",
       "<table border=\"1\" class=\"dataframe\">\n",
       "  <thead>\n",
       "    <tr style=\"text-align: right;\">\n",
       "      <th></th>\n",
       "      <th>Unnamed: 0</th>\n",
       "      <th>Ride_ID</th>\n",
       "      <th>Rideable_Type</th>\n",
       "      <th>Time_Diff9</th>\n",
       "      <th>Lat9</th>\n",
       "      <th>Ride_Lng9</th>\n",
       "      <th>Status</th>\n",
       "    </tr>\n",
       "  </thead>\n",
       "  <tbody>\n",
       "    <tr>\n",
       "      <th>0</th>\n",
       "      <td>1</td>\n",
       "      <td>0A1B623926EF4E16</td>\n",
       "      <td>docked_bike</td>\n",
       "      <td>2100</td>\n",
       "      <td>-0.015384</td>\n",
       "      <td>0.023796</td>\n",
       "      <td>casual</td>\n",
       "    </tr>\n",
       "    <tr>\n",
       "      <th>1</th>\n",
       "      <td>2</td>\n",
       "      <td>B2D5583A5A5E76EE</td>\n",
       "      <td>classic_bike</td>\n",
       "      <td>1140</td>\n",
       "      <td>0.010464</td>\n",
       "      <td>-0.025231</td>\n",
       "      <td>casual</td>\n",
       "    </tr>\n",
       "    <tr>\n",
       "      <th>2</th>\n",
       "      <td>3</td>\n",
       "      <td>6F264597DDBF427A</td>\n",
       "      <td>classic_bike</td>\n",
       "      <td>1080</td>\n",
       "      <td>-0.029789</td>\n",
       "      <td>0.000372</td>\n",
       "      <td>member</td>\n",
       "    </tr>\n",
       "  </tbody>\n",
       "</table>\n",
       "</div>"
      ],
      "text/plain": [
       "   Unnamed: 0           Ride_ID Rideable_Type  Time_Diff9      Lat9  \\\n",
       "0           1  0A1B623926EF4E16   docked_bike        2100 -0.015384   \n",
       "1           2  B2D5583A5A5E76EE  classic_bike        1140  0.010464   \n",
       "2           3  6F264597DDBF427A  classic_bike        1080 -0.029789   \n",
       "\n",
       "   Ride_Lng9  Status  \n",
       "0   0.023796  casual  \n",
       "1  -0.025231  casual  \n",
       "2   0.000372  member  "
      ]
     },
     "execution_count": 196,
     "metadata": {},
     "output_type": "execute_result"
    }
   ],
   "source": [
    "#view few rows of the dataset\n",
    "Sep.head(3)"
   ]
  },
  {
   "cell_type": "code",
   "execution_count": 197,
   "id": "8570d04d",
   "metadata": {},
   "outputs": [],
   "source": [
    "#import dataset\n",
    "Oct = pd.read_csv('C:/Users/LILIAN/Desktop/Exported Datasets from R/2021_Data/Oct_df.csv')"
   ]
  },
  {
   "cell_type": "code",
   "execution_count": 198,
   "id": "95d82b04",
   "metadata": {},
   "outputs": [
    {
     "data": {
      "text/plain": [
       "(804352, 7)"
      ]
     },
     "execution_count": 198,
     "metadata": {},
     "output_type": "execute_result"
    }
   ],
   "source": [
    "#number of rows and columns\n",
    "Oct.shape"
   ]
  },
  {
   "cell_type": "code",
   "execution_count": 199,
   "id": "80ce710d",
   "metadata": {},
   "outputs": [
    {
     "data": {
      "text/html": [
       "<div>\n",
       "<style scoped>\n",
       "    .dataframe tbody tr th:only-of-type {\n",
       "        vertical-align: middle;\n",
       "    }\n",
       "\n",
       "    .dataframe tbody tr th {\n",
       "        vertical-align: top;\n",
       "    }\n",
       "\n",
       "    .dataframe thead th {\n",
       "        text-align: right;\n",
       "    }\n",
       "</style>\n",
       "<table border=\"1\" class=\"dataframe\">\n",
       "  <thead>\n",
       "    <tr style=\"text-align: right;\">\n",
       "      <th></th>\n",
       "      <th>Unnamed: 0</th>\n",
       "      <th>Ride_ID</th>\n",
       "      <th>Rideable_Type</th>\n",
       "      <th>Time_Diff10</th>\n",
       "      <th>Lat10</th>\n",
       "      <th>Ride_Lng10</th>\n",
       "      <th>Status</th>\n",
       "    </tr>\n",
       "  </thead>\n",
       "  <tbody>\n",
       "    <tr>\n",
       "      <th>0</th>\n",
       "      <td>1</td>\n",
       "      <td>99103BB87CC6C1BB</td>\n",
       "      <td>electric_bike</td>\n",
       "      <td>420</td>\n",
       "      <td>0.00</td>\n",
       "      <td>0.00</td>\n",
       "      <td>member</td>\n",
       "    </tr>\n",
       "    <tr>\n",
       "      <th>1</th>\n",
       "      <td>2</td>\n",
       "      <td>EAFCCCFB0A3FC5A1</td>\n",
       "      <td>electric_bike</td>\n",
       "      <td>960</td>\n",
       "      <td>0.00</td>\n",
       "      <td>-0.05</td>\n",
       "      <td>member</td>\n",
       "    </tr>\n",
       "    <tr>\n",
       "      <th>2</th>\n",
       "      <td>3</td>\n",
       "      <td>9EF4F46C57AD234D</td>\n",
       "      <td>electric_bike</td>\n",
       "      <td>960</td>\n",
       "      <td>-0.02</td>\n",
       "      <td>0.01</td>\n",
       "      <td>member</td>\n",
       "    </tr>\n",
       "  </tbody>\n",
       "</table>\n",
       "</div>"
      ],
      "text/plain": [
       "   Unnamed: 0           Ride_ID  Rideable_Type  Time_Diff10  Lat10  \\\n",
       "0           1  99103BB87CC6C1BB  electric_bike          420   0.00   \n",
       "1           2  EAFCCCFB0A3FC5A1  electric_bike          960   0.00   \n",
       "2           3  9EF4F46C57AD234D  electric_bike          960  -0.02   \n",
       "\n",
       "   Ride_Lng10  Status  \n",
       "0        0.00  member  \n",
       "1       -0.05  member  \n",
       "2        0.01  member  "
      ]
     },
     "execution_count": 199,
     "metadata": {},
     "output_type": "execute_result"
    }
   ],
   "source": [
    "#view few rows of the dataset\n",
    "Oct.head(3)"
   ]
  },
  {
   "cell_type": "code",
   "execution_count": 200,
   "id": "92a23cb7",
   "metadata": {},
   "outputs": [],
   "source": [
    "#import dataset\n",
    "Nov = pd.read_csv('C:/Users/LILIAN/Desktop/Exported Datasets from R/2021_Data/Nov_df.csv')"
   ]
  },
  {
   "cell_type": "code",
   "execution_count": 201,
   "id": "027328ab",
   "metadata": {},
   "outputs": [
    {
     "data": {
      "text/plain": [
       "(519380, 7)"
      ]
     },
     "execution_count": 201,
     "metadata": {},
     "output_type": "execute_result"
    }
   ],
   "source": [
    "#number of rows and columns\n",
    "Nov.shape"
   ]
  },
  {
   "cell_type": "code",
   "execution_count": 202,
   "id": "ed847fa1",
   "metadata": {},
   "outputs": [
    {
     "data": {
      "text/html": [
       "<div>\n",
       "<style scoped>\n",
       "    .dataframe tbody tr th:only-of-type {\n",
       "        vertical-align: middle;\n",
       "    }\n",
       "\n",
       "    .dataframe tbody tr th {\n",
       "        vertical-align: top;\n",
       "    }\n",
       "\n",
       "    .dataframe thead th {\n",
       "        text-align: right;\n",
       "    }\n",
       "</style>\n",
       "<table border=\"1\" class=\"dataframe\">\n",
       "  <thead>\n",
       "    <tr style=\"text-align: right;\">\n",
       "      <th></th>\n",
       "      <th>Unnamed: 0</th>\n",
       "      <th>Ride_ID</th>\n",
       "      <th>Rideable_Type</th>\n",
       "      <th>Time_Diff11</th>\n",
       "      <th>Lat11</th>\n",
       "      <th>Ride_Lng11</th>\n",
       "      <th>Status</th>\n",
       "    </tr>\n",
       "  </thead>\n",
       "  <tbody>\n",
       "    <tr>\n",
       "      <th>0</th>\n",
       "      <td>1</td>\n",
       "      <td>9A4A8801674A3995</td>\n",
       "      <td>classic_bike</td>\n",
       "      <td>300</td>\n",
       "      <td>0.004528</td>\n",
       "      <td>-0.004081</td>\n",
       "      <td>member</td>\n",
       "    </tr>\n",
       "    <tr>\n",
       "      <th>1</th>\n",
       "      <td>2</td>\n",
       "      <td>6310A715D7121C8C</td>\n",
       "      <td>electric_bike</td>\n",
       "      <td>900</td>\n",
       "      <td>-0.037039</td>\n",
       "      <td>0.011167</td>\n",
       "      <td>member</td>\n",
       "    </tr>\n",
       "    <tr>\n",
       "      <th>2</th>\n",
       "      <td>3</td>\n",
       "      <td>7EFD1EEF66C09AB3</td>\n",
       "      <td>classic_bike</td>\n",
       "      <td>1200</td>\n",
       "      <td>-0.029366</td>\n",
       "      <td>0.002103</td>\n",
       "      <td>member</td>\n",
       "    </tr>\n",
       "  </tbody>\n",
       "</table>\n",
       "</div>"
      ],
      "text/plain": [
       "   Unnamed: 0           Ride_ID  Rideable_Type  Time_Diff11     Lat11  \\\n",
       "0           1  9A4A8801674A3995   classic_bike          300  0.004528   \n",
       "1           2  6310A715D7121C8C  electric_bike          900 -0.037039   \n",
       "2           3  7EFD1EEF66C09AB3   classic_bike         1200 -0.029366   \n",
       "\n",
       "   Ride_Lng11  Status  \n",
       "0   -0.004081  member  \n",
       "1    0.011167  member  \n",
       "2    0.002103  member  "
      ]
     },
     "execution_count": 202,
     "metadata": {},
     "output_type": "execute_result"
    }
   ],
   "source": [
    "#view few rows of the dataset\n",
    "Nov.head(3)"
   ]
  },
  {
   "cell_type": "code",
   "execution_count": 203,
   "id": "a9193310",
   "metadata": {},
   "outputs": [],
   "source": [
    "#import dataset\n",
    "Dec = pd.read_csv('C:/Users/LILIAN/Desktop/Exported Datasets from R/2021_Data/Dec_df.csv')"
   ]
  },
  {
   "cell_type": "code",
   "execution_count": 204,
   "id": "033ea319",
   "metadata": {},
   "outputs": [
    {
     "data": {
      "text/plain": [
       "(631226, 7)"
      ]
     },
     "execution_count": 204,
     "metadata": {},
     "output_type": "execute_result"
    }
   ],
   "source": [
    "#number of rows and columns\n",
    "Dec.shape"
   ]
  },
  {
   "cell_type": "code",
   "execution_count": 205,
   "id": "3590e82f",
   "metadata": {},
   "outputs": [
    {
     "data": {
      "text/html": [
       "<div>\n",
       "<style scoped>\n",
       "    .dataframe tbody tr th:only-of-type {\n",
       "        vertical-align: middle;\n",
       "    }\n",
       "\n",
       "    .dataframe tbody tr th {\n",
       "        vertical-align: top;\n",
       "    }\n",
       "\n",
       "    .dataframe thead th {\n",
       "        text-align: right;\n",
       "    }\n",
       "</style>\n",
       "<table border=\"1\" class=\"dataframe\">\n",
       "  <thead>\n",
       "    <tr style=\"text-align: right;\">\n",
       "      <th></th>\n",
       "      <th>Unnamed: 0</th>\n",
       "      <th>Ride_ID</th>\n",
       "      <th>Rideable_Type</th>\n",
       "      <th>Time_Diff12</th>\n",
       "      <th>Lat12</th>\n",
       "      <th>Ride_Lng12</th>\n",
       "      <th>Status</th>\n",
       "    </tr>\n",
       "  </thead>\n",
       "  <tbody>\n",
       "    <tr>\n",
       "      <th>0</th>\n",
       "      <td>1</td>\n",
       "      <td>620BC6107255BF4C</td>\n",
       "      <td>electric_bike</td>\n",
       "      <td>180</td>\n",
       "      <td>-0.000814</td>\n",
       "      <td>-0.008495</td>\n",
       "      <td>member</td>\n",
       "    </tr>\n",
       "    <tr>\n",
       "      <th>1</th>\n",
       "      <td>2</td>\n",
       "      <td>4471C70731AB2E45</td>\n",
       "      <td>electric_bike</td>\n",
       "      <td>120</td>\n",
       "      <td>0.000000</td>\n",
       "      <td>0.010000</td>\n",
       "      <td>member</td>\n",
       "    </tr>\n",
       "    <tr>\n",
       "      <th>2</th>\n",
       "      <td>3</td>\n",
       "      <td>26CA69D43D15EE14</td>\n",
       "      <td>electric_bike</td>\n",
       "      <td>480</td>\n",
       "      <td>-0.020000</td>\n",
       "      <td>0.020000</td>\n",
       "      <td>member</td>\n",
       "    </tr>\n",
       "  </tbody>\n",
       "</table>\n",
       "</div>"
      ],
      "text/plain": [
       "   Unnamed: 0           Ride_ID  Rideable_Type  Time_Diff12     Lat12  \\\n",
       "0           1  620BC6107255BF4C  electric_bike          180 -0.000814   \n",
       "1           2  4471C70731AB2E45  electric_bike          120  0.000000   \n",
       "2           3  26CA69D43D15EE14  electric_bike          480 -0.020000   \n",
       "\n",
       "   Ride_Lng12  Status  \n",
       "0   -0.008495  member  \n",
       "1    0.010000  member  \n",
       "2    0.020000  member  "
      ]
     },
     "execution_count": 205,
     "metadata": {},
     "output_type": "execute_result"
    }
   ],
   "source": [
    "#view few rows of the dataset\n",
    "Dec.head(3)"
   ]
  },
  {
   "cell_type": "code",
   "execution_count": 206,
   "id": "899e36f8",
   "metadata": {},
   "outputs": [],
   "source": [
    "#MERGE DATAFRAME OF ALL MONTHS INTO AS ONE YEAR\n",
    "Year_2021 = pd.concat([Jan,Feb,Mar,Apr,May,Jun,Jul,Aug,Sep,Oct,Nov,Dec])"
   ]
  },
  {
   "cell_type": "code",
   "execution_count": 207,
   "id": "888b6d8c",
   "metadata": {},
   "outputs": [
    {
     "data": {
      "text/plain": [
       "(5205357, 39)"
      ]
     },
     "execution_count": 207,
     "metadata": {},
     "output_type": "execute_result"
    }
   ],
   "source": [
    "#number of rows and columns\n",
    "Year_2021.shape"
   ]
  },
  {
   "cell_type": "code",
   "execution_count": 208,
   "id": "2e33179b",
   "metadata": {},
   "outputs": [
    {
     "data": {
      "text/html": [
       "<div>\n",
       "<style scoped>\n",
       "    .dataframe tbody tr th:only-of-type {\n",
       "        vertical-align: middle;\n",
       "    }\n",
       "\n",
       "    .dataframe tbody tr th {\n",
       "        vertical-align: top;\n",
       "    }\n",
       "\n",
       "    .dataframe thead th {\n",
       "        text-align: right;\n",
       "    }\n",
       "</style>\n",
       "<table border=\"1\" class=\"dataframe\">\n",
       "  <thead>\n",
       "    <tr style=\"text-align: right;\">\n",
       "      <th></th>\n",
       "      <th>Unnamed: 0</th>\n",
       "      <th>Ride_ID</th>\n",
       "      <th>Rideable_Type</th>\n",
       "      <th>Time_Diff1</th>\n",
       "      <th>Lat1</th>\n",
       "      <th>Ride_Lng1</th>\n",
       "      <th>Status</th>\n",
       "      <th>Time_Diff2</th>\n",
       "      <th>Lat2</th>\n",
       "      <th>Ride_Lng2</th>\n",
       "      <th>...</th>\n",
       "      <th>Ride_Lng9</th>\n",
       "      <th>Time_Diff10</th>\n",
       "      <th>Lat10</th>\n",
       "      <th>Ride_Lng10</th>\n",
       "      <th>Time_Diff11</th>\n",
       "      <th>Lat11</th>\n",
       "      <th>Ride_Lng11</th>\n",
       "      <th>Time_Diff12</th>\n",
       "      <th>Lat12</th>\n",
       "      <th>Ride_Lng12</th>\n",
       "    </tr>\n",
       "  </thead>\n",
       "  <tbody>\n",
       "    <tr>\n",
       "      <th>0</th>\n",
       "      <td>1</td>\n",
       "      <td>70B6A9A437D4C30D</td>\n",
       "      <td>classic_bike</td>\n",
       "      <td>660.0</td>\n",
       "      <td>-0.01099</td>\n",
       "      <td>-0.01034</td>\n",
       "      <td>member</td>\n",
       "      <td>NaN</td>\n",
       "      <td>NaN</td>\n",
       "      <td>NaN</td>\n",
       "      <td>...</td>\n",
       "      <td>NaN</td>\n",
       "      <td>NaN</td>\n",
       "      <td>NaN</td>\n",
       "      <td>NaN</td>\n",
       "      <td>NaN</td>\n",
       "      <td>NaN</td>\n",
       "      <td>NaN</td>\n",
       "      <td>NaN</td>\n",
       "      <td>NaN</td>\n",
       "      <td>NaN</td>\n",
       "    </tr>\n",
       "    <tr>\n",
       "      <th>1</th>\n",
       "      <td>2</td>\n",
       "      <td>158A465D4E74C54A</td>\n",
       "      <td>electric_bike</td>\n",
       "      <td>420.0</td>\n",
       "      <td>0.02000</td>\n",
       "      <td>0.00000</td>\n",
       "      <td>member</td>\n",
       "      <td>NaN</td>\n",
       "      <td>NaN</td>\n",
       "      <td>NaN</td>\n",
       "      <td>...</td>\n",
       "      <td>NaN</td>\n",
       "      <td>NaN</td>\n",
       "      <td>NaN</td>\n",
       "      <td>NaN</td>\n",
       "      <td>NaN</td>\n",
       "      <td>NaN</td>\n",
       "      <td>NaN</td>\n",
       "      <td>NaN</td>\n",
       "      <td>NaN</td>\n",
       "      <td>NaN</td>\n",
       "    </tr>\n",
       "    <tr>\n",
       "      <th>2</th>\n",
       "      <td>3</td>\n",
       "      <td>5262016E0F1F2F9A</td>\n",
       "      <td>electric_bike</td>\n",
       "      <td>420.0</td>\n",
       "      <td>-0.02000</td>\n",
       "      <td>0.01000</td>\n",
       "      <td>member</td>\n",
       "      <td>NaN</td>\n",
       "      <td>NaN</td>\n",
       "      <td>NaN</td>\n",
       "      <td>...</td>\n",
       "      <td>NaN</td>\n",
       "      <td>NaN</td>\n",
       "      <td>NaN</td>\n",
       "      <td>NaN</td>\n",
       "      <td>NaN</td>\n",
       "      <td>NaN</td>\n",
       "      <td>NaN</td>\n",
       "      <td>NaN</td>\n",
       "      <td>NaN</td>\n",
       "      <td>NaN</td>\n",
       "    </tr>\n",
       "  </tbody>\n",
       "</table>\n",
       "<p>3 rows × 39 columns</p>\n",
       "</div>"
      ],
      "text/plain": [
       "   Unnamed: 0           Ride_ID  Rideable_Type  Time_Diff1     Lat1  \\\n",
       "0           1  70B6A9A437D4C30D   classic_bike       660.0 -0.01099   \n",
       "1           2  158A465D4E74C54A  electric_bike       420.0  0.02000   \n",
       "2           3  5262016E0F1F2F9A  electric_bike       420.0 -0.02000   \n",
       "\n",
       "   Ride_Lng1  Status  Time_Diff2  Lat2  Ride_Lng2  ...  Ride_Lng9  \\\n",
       "0   -0.01034  member         NaN   NaN        NaN  ...        NaN   \n",
       "1    0.00000  member         NaN   NaN        NaN  ...        NaN   \n",
       "2    0.01000  member         NaN   NaN        NaN  ...        NaN   \n",
       "\n",
       "   Time_Diff10  Lat10  Ride_Lng10  Time_Diff11  Lat11  Ride_Lng11  \\\n",
       "0          NaN    NaN         NaN          NaN    NaN         NaN   \n",
       "1          NaN    NaN         NaN          NaN    NaN         NaN   \n",
       "2          NaN    NaN         NaN          NaN    NaN         NaN   \n",
       "\n",
       "   Time_Diff12  Lat12  Ride_Lng12  \n",
       "0          NaN    NaN         NaN  \n",
       "1          NaN    NaN         NaN  \n",
       "2          NaN    NaN         NaN  \n",
       "\n",
       "[3 rows x 39 columns]"
      ]
     },
     "execution_count": 208,
     "metadata": {},
     "output_type": "execute_result"
    }
   ],
   "source": [
    "#view few rows of the dataset\n",
    "Year_2021.head(3)"
   ]
  },
  {
   "cell_type": "markdown",
   "id": "3b63a32b",
   "metadata": {},
   "source": [
    "WORKING ON FILTERERED TIME DIFFERENCE GREATER THAN 400 OF THE EACH MONTHS"
   ]
  },
  {
   "cell_type": "code",
   "execution_count": 209,
   "id": "dabdf0d7",
   "metadata": {},
   "outputs": [],
   "source": [
    "#import dataset\n",
    "TD1 = pd.read_csv('C:/Users/LILIAN/Desktop/Exported Datasets from R/All_TimeDiff/TimeDiff_Jan_df.csv')"
   ]
  },
  {
   "cell_type": "code",
   "execution_count": 210,
   "id": "b7e5355c",
   "metadata": {},
   "outputs": [
    {
     "data": {
      "text/plain": [
       "(91704, 7)"
      ]
     },
     "execution_count": 210,
     "metadata": {},
     "output_type": "execute_result"
    }
   ],
   "source": [
    "#number of rows and columns\n",
    "TD1.shape"
   ]
  },
  {
   "cell_type": "code",
   "execution_count": 211,
   "id": "6ca82aa2",
   "metadata": {},
   "outputs": [
    {
     "data": {
      "text/html": [
       "<div>\n",
       "<style scoped>\n",
       "    .dataframe tbody tr th:only-of-type {\n",
       "        vertical-align: middle;\n",
       "    }\n",
       "\n",
       "    .dataframe tbody tr th {\n",
       "        vertical-align: top;\n",
       "    }\n",
       "\n",
       "    .dataframe thead th {\n",
       "        text-align: right;\n",
       "    }\n",
       "</style>\n",
       "<table border=\"1\" class=\"dataframe\">\n",
       "  <thead>\n",
       "    <tr style=\"text-align: right;\">\n",
       "      <th></th>\n",
       "      <th>Unnamed: 0</th>\n",
       "      <th>Ride_ID</th>\n",
       "      <th>Rideable_Type</th>\n",
       "      <th>Time_Diff1</th>\n",
       "      <th>Lat1</th>\n",
       "      <th>Ride_Lng1</th>\n",
       "      <th>Status</th>\n",
       "    </tr>\n",
       "  </thead>\n",
       "  <tbody>\n",
       "    <tr>\n",
       "      <th>0</th>\n",
       "      <td>1</td>\n",
       "      <td>70B6A9A437D4C30D</td>\n",
       "      <td>classic_bike</td>\n",
       "      <td>660</td>\n",
       "      <td>-0.01099</td>\n",
       "      <td>-0.01034</td>\n",
       "      <td>member</td>\n",
       "    </tr>\n",
       "    <tr>\n",
       "      <th>1</th>\n",
       "      <td>2</td>\n",
       "      <td>158A465D4E74C54A</td>\n",
       "      <td>electric_bike</td>\n",
       "      <td>420</td>\n",
       "      <td>0.02000</td>\n",
       "      <td>0.00000</td>\n",
       "      <td>member</td>\n",
       "    </tr>\n",
       "    <tr>\n",
       "      <th>2</th>\n",
       "      <td>3</td>\n",
       "      <td>5262016E0F1F2F9A</td>\n",
       "      <td>electric_bike</td>\n",
       "      <td>420</td>\n",
       "      <td>-0.02000</td>\n",
       "      <td>0.01000</td>\n",
       "      <td>member</td>\n",
       "    </tr>\n",
       "  </tbody>\n",
       "</table>\n",
       "</div>"
      ],
      "text/plain": [
       "   Unnamed: 0           Ride_ID  Rideable_Type  Time_Diff1     Lat1  \\\n",
       "0           1  70B6A9A437D4C30D   classic_bike         660 -0.01099   \n",
       "1           2  158A465D4E74C54A  electric_bike         420  0.02000   \n",
       "2           3  5262016E0F1F2F9A  electric_bike         420 -0.02000   \n",
       "\n",
       "   Ride_Lng1  Status  \n",
       "0   -0.01034  member  \n",
       "1    0.00000  member  \n",
       "2    0.01000  member  "
      ]
     },
     "execution_count": 211,
     "metadata": {},
     "output_type": "execute_result"
    }
   ],
   "source": [
    "#view few rows of the dataset\n",
    "TD1.head(3)"
   ]
  },
  {
   "cell_type": "code",
   "execution_count": 212,
   "id": "93cb0d7b",
   "metadata": {},
   "outputs": [],
   "source": [
    "#import dataset\n",
    "TD2 = pd.read_csv('C:/Users/LILIAN/Desktop/Exported Datasets from R/All_TimeDiff/TimeDiff_Feb_df.csv')"
   ]
  },
  {
   "cell_type": "code",
   "execution_count": 213,
   "id": "f65145d0",
   "metadata": {},
   "outputs": [
    {
     "data": {
      "text/plain": [
       "(65700, 7)"
      ]
     },
     "execution_count": 213,
     "metadata": {},
     "output_type": "execute_result"
    }
   ],
   "source": [
    "#number of rows and columns\n",
    "TD2.shape"
   ]
  },
  {
   "cell_type": "code",
   "execution_count": 214,
   "id": "c1cd3e68",
   "metadata": {},
   "outputs": [
    {
     "data": {
      "text/html": [
       "<div>\n",
       "<style scoped>\n",
       "    .dataframe tbody tr th:only-of-type {\n",
       "        vertical-align: middle;\n",
       "    }\n",
       "\n",
       "    .dataframe tbody tr th {\n",
       "        vertical-align: top;\n",
       "    }\n",
       "\n",
       "    .dataframe thead th {\n",
       "        text-align: right;\n",
       "    }\n",
       "</style>\n",
       "<table border=\"1\" class=\"dataframe\">\n",
       "  <thead>\n",
       "    <tr style=\"text-align: right;\">\n",
       "      <th></th>\n",
       "      <th>Unnamed: 0</th>\n",
       "      <th>Ride_ID</th>\n",
       "      <th>Rideable_Type</th>\n",
       "      <th>Time_Diff2</th>\n",
       "      <th>Lat2</th>\n",
       "      <th>Ride_Lng2</th>\n",
       "      <th>Status</th>\n",
       "    </tr>\n",
       "  </thead>\n",
       "  <tbody>\n",
       "    <tr>\n",
       "      <th>0</th>\n",
       "      <td>1</td>\n",
       "      <td>E19E6F1B8D4C42ED</td>\n",
       "      <td>electric_bike</td>\n",
       "      <td>600</td>\n",
       "      <td>0.010341</td>\n",
       "      <td>0.023257</td>\n",
       "      <td>member</td>\n",
       "    </tr>\n",
       "    <tr>\n",
       "      <th>1</th>\n",
       "      <td>2</td>\n",
       "      <td>4FA453A75AE377DB</td>\n",
       "      <td>electric_bike</td>\n",
       "      <td>660</td>\n",
       "      <td>-0.019601</td>\n",
       "      <td>-0.006662</td>\n",
       "      <td>member</td>\n",
       "    </tr>\n",
       "    <tr>\n",
       "      <th>2</th>\n",
       "      <td>3</td>\n",
       "      <td>5D8969F88C773979</td>\n",
       "      <td>electric_bike</td>\n",
       "      <td>3180</td>\n",
       "      <td>-0.039591</td>\n",
       "      <td>0.013237</td>\n",
       "      <td>casual</td>\n",
       "    </tr>\n",
       "  </tbody>\n",
       "</table>\n",
       "</div>"
      ],
      "text/plain": [
       "   Unnamed: 0           Ride_ID  Rideable_Type  Time_Diff2      Lat2  \\\n",
       "0           1  E19E6F1B8D4C42ED  electric_bike         600  0.010341   \n",
       "1           2  4FA453A75AE377DB  electric_bike         660 -0.019601   \n",
       "2           3  5D8969F88C773979  electric_bike        3180 -0.039591   \n",
       "\n",
       "   Ride_Lng2  Status  \n",
       "0   0.023257  member  \n",
       "1  -0.006662  member  \n",
       "2   0.013237  casual  "
      ]
     },
     "execution_count": 214,
     "metadata": {},
     "output_type": "execute_result"
    }
   ],
   "source": [
    "#view few rows of the dataset\n",
    "TD2.head(3)"
   ]
  },
  {
   "cell_type": "code",
   "execution_count": 215,
   "id": "0138d912",
   "metadata": {},
   "outputs": [],
   "source": [
    "#import dataset\n",
    "TD3 = pd.read_csv('C:/Users/LILIAN/Desktop/Exported Datasets from R/All_TimeDiff/TimeDiff_Mar_df.csv')"
   ]
  },
  {
   "cell_type": "code",
   "execution_count": 216,
   "id": "a98d6323",
   "metadata": {},
   "outputs": [
    {
     "data": {
      "text/plain": [
       "(37175, 7)"
      ]
     },
     "execution_count": 216,
     "metadata": {},
     "output_type": "execute_result"
    }
   ],
   "source": [
    "#number of rows and columns\n",
    "TD3.shape"
   ]
  },
  {
   "cell_type": "code",
   "execution_count": 217,
   "id": "a0fdad42",
   "metadata": {},
   "outputs": [
    {
     "data": {
      "text/html": [
       "<div>\n",
       "<style scoped>\n",
       "    .dataframe tbody tr th:only-of-type {\n",
       "        vertical-align: middle;\n",
       "    }\n",
       "\n",
       "    .dataframe tbody tr th {\n",
       "        vertical-align: top;\n",
       "    }\n",
       "\n",
       "    .dataframe thead th {\n",
       "        text-align: right;\n",
       "    }\n",
       "</style>\n",
       "<table border=\"1\" class=\"dataframe\">\n",
       "  <thead>\n",
       "    <tr style=\"text-align: right;\">\n",
       "      <th></th>\n",
       "      <th>Unnamed: 0</th>\n",
       "      <th>Ride_ID</th>\n",
       "      <th>Rideable_Type</th>\n",
       "      <th>Time_Diff3</th>\n",
       "      <th>Lat3</th>\n",
       "      <th>Ride_Lng3</th>\n",
       "      <th>Status</th>\n",
       "    </tr>\n",
       "  </thead>\n",
       "  <tbody>\n",
       "    <tr>\n",
       "      <th>0</th>\n",
       "      <td>1</td>\n",
       "      <td>89E7AA6C29227EFF</td>\n",
       "      <td>classic_bike</td>\n",
       "      <td>420</td>\n",
       "      <td>0.008118</td>\n",
       "      <td>-0.004652</td>\n",
       "      <td>member</td>\n",
       "    </tr>\n",
       "    <tr>\n",
       "      <th>1</th>\n",
       "      <td>2</td>\n",
       "      <td>0FEFDE2603568365</td>\n",
       "      <td>classic_bike</td>\n",
       "      <td>1200</td>\n",
       "      <td>-0.006836</td>\n",
       "      <td>0.003505</td>\n",
       "      <td>casual</td>\n",
       "    </tr>\n",
       "    <tr>\n",
       "      <th>2</th>\n",
       "      <td>3</td>\n",
       "      <td>E6159D746B2DBB91</td>\n",
       "      <td>electric_bike</td>\n",
       "      <td>540</td>\n",
       "      <td>0.000929</td>\n",
       "      <td>-0.003603</td>\n",
       "      <td>member</td>\n",
       "    </tr>\n",
       "  </tbody>\n",
       "</table>\n",
       "</div>"
      ],
      "text/plain": [
       "   Unnamed: 0           Ride_ID  Rideable_Type  Time_Diff3      Lat3  \\\n",
       "0           1  89E7AA6C29227EFF   classic_bike         420  0.008118   \n",
       "1           2  0FEFDE2603568365   classic_bike        1200 -0.006836   \n",
       "2           3  E6159D746B2DBB91  electric_bike         540  0.000929   \n",
       "\n",
       "   Ride_Lng3  Status  \n",
       "0  -0.004652  member  \n",
       "1   0.003505  casual  \n",
       "2  -0.003603  member  "
      ]
     },
     "execution_count": 217,
     "metadata": {},
     "output_type": "execute_result"
    }
   ],
   "source": [
    "#view few rows of the dataset\n",
    "TD3.head(3)"
   ]
  },
  {
   "cell_type": "code",
   "execution_count": 218,
   "id": "45f9ce63",
   "metadata": {},
   "outputs": [],
   "source": [
    "#import dataset\n",
    "TD4 = pd.read_csv('C:/Users/LILIAN/Desktop/Exported Datasets from R/All_TimeDiff/TimeDiff_Apr_df.csv')"
   ]
  },
  {
   "cell_type": "code",
   "execution_count": 219,
   "id": "2704b685",
   "metadata": {},
   "outputs": [
    {
     "data": {
      "text/plain": [
       "(164553, 7)"
      ]
     },
     "execution_count": 219,
     "metadata": {},
     "output_type": "execute_result"
    }
   ],
   "source": [
    "#number of rows and columns\n",
    "TD4.shape"
   ]
  },
  {
   "cell_type": "code",
   "execution_count": 220,
   "id": "b49eb85b",
   "metadata": {},
   "outputs": [
    {
     "data": {
      "text/html": [
       "<div>\n",
       "<style scoped>\n",
       "    .dataframe tbody tr th:only-of-type {\n",
       "        vertical-align: middle;\n",
       "    }\n",
       "\n",
       "    .dataframe tbody tr th {\n",
       "        vertical-align: top;\n",
       "    }\n",
       "\n",
       "    .dataframe thead th {\n",
       "        text-align: right;\n",
       "    }\n",
       "</style>\n",
       "<table border=\"1\" class=\"dataframe\">\n",
       "  <thead>\n",
       "    <tr style=\"text-align: right;\">\n",
       "      <th></th>\n",
       "      <th>Unnamed: 0</th>\n",
       "      <th>Ride_ID</th>\n",
       "      <th>Rideable_Type</th>\n",
       "      <th>Time_Diff4</th>\n",
       "      <th>Lat4</th>\n",
       "      <th>Ride_Lng4</th>\n",
       "      <th>Status</th>\n",
       "    </tr>\n",
       "  </thead>\n",
       "  <tbody>\n",
       "    <tr>\n",
       "      <th>0</th>\n",
       "      <td>1</td>\n",
       "      <td>34E6463B89188D1C</td>\n",
       "      <td>electric_bike</td>\n",
       "      <td>480</td>\n",
       "      <td>0.00</td>\n",
       "      <td>-0.03</td>\n",
       "      <td>member</td>\n",
       "    </tr>\n",
       "    <tr>\n",
       "      <th>1</th>\n",
       "      <td>2</td>\n",
       "      <td>F0B55B0D2DD86D3A</td>\n",
       "      <td>electric_bike</td>\n",
       "      <td>1020</td>\n",
       "      <td>-0.01</td>\n",
       "      <td>0.06</td>\n",
       "      <td>member</td>\n",
       "    </tr>\n",
       "    <tr>\n",
       "      <th>2</th>\n",
       "      <td>3</td>\n",
       "      <td>77D7653614151D4E</td>\n",
       "      <td>electric_bike</td>\n",
       "      <td>840</td>\n",
       "      <td>-0.01</td>\n",
       "      <td>0.03</td>\n",
       "      <td>member</td>\n",
       "    </tr>\n",
       "  </tbody>\n",
       "</table>\n",
       "</div>"
      ],
      "text/plain": [
       "   Unnamed: 0           Ride_ID  Rideable_Type  Time_Diff4  Lat4  Ride_Lng4  \\\n",
       "0           1  34E6463B89188D1C  electric_bike         480  0.00      -0.03   \n",
       "1           2  F0B55B0D2DD86D3A  electric_bike        1020 -0.01       0.06   \n",
       "2           3  77D7653614151D4E  electric_bike         840 -0.01       0.03   \n",
       "\n",
       "   Status  \n",
       "0  member  \n",
       "1  member  \n",
       "2  member  "
      ]
     },
     "execution_count": 220,
     "metadata": {},
     "output_type": "execute_result"
    }
   ],
   "source": [
    "#view few rows of the dataset\n",
    "TD4.head(3)"
   ]
  },
  {
   "cell_type": "code",
   "execution_count": 221,
   "id": "59e40e01",
   "metadata": {},
   "outputs": [],
   "source": [
    "#import dataset\n",
    "TD5 = pd.read_csv('C:/Users/LILIAN/Desktop/Exported Datasets from R/All_TimeDiff/TimeDiff_May_df.csv')"
   ]
  },
  {
   "cell_type": "code",
   "execution_count": 222,
   "id": "d8d3f8a6",
   "metadata": {},
   "outputs": [
    {
     "data": {
      "text/plain": [
       "(263681, 7)"
      ]
     },
     "execution_count": 222,
     "metadata": {},
     "output_type": "execute_result"
    }
   ],
   "source": [
    "#number of rows and columns\n",
    "TD5.shape"
   ]
  },
  {
   "cell_type": "code",
   "execution_count": 223,
   "id": "a3bbbe5e",
   "metadata": {},
   "outputs": [
    {
     "data": {
      "text/html": [
       "<div>\n",
       "<style scoped>\n",
       "    .dataframe tbody tr th:only-of-type {\n",
       "        vertical-align: middle;\n",
       "    }\n",
       "\n",
       "    .dataframe tbody tr th {\n",
       "        vertical-align: top;\n",
       "    }\n",
       "\n",
       "    .dataframe thead th {\n",
       "        text-align: right;\n",
       "    }\n",
       "</style>\n",
       "<table border=\"1\" class=\"dataframe\">\n",
       "  <thead>\n",
       "    <tr style=\"text-align: right;\">\n",
       "      <th></th>\n",
       "      <th>Unnamed: 0</th>\n",
       "      <th>Ride_ID</th>\n",
       "      <th>Rideable_Type</th>\n",
       "      <th>Time_Diff5</th>\n",
       "      <th>Lat5</th>\n",
       "      <th>Ride_Lng5</th>\n",
       "      <th>Status</th>\n",
       "    </tr>\n",
       "  </thead>\n",
       "  <tbody>\n",
       "    <tr>\n",
       "      <th>0</th>\n",
       "      <td>1</td>\n",
       "      <td>6C992BD37A98A63F</td>\n",
       "      <td>classic_bike</td>\n",
       "      <td>1860</td>\n",
       "      <td>-0.050702</td>\n",
       "      <td>0.035218</td>\n",
       "      <td>member</td>\n",
       "    </tr>\n",
       "    <tr>\n",
       "      <th>1</th>\n",
       "      <td>2</td>\n",
       "      <td>1E0145613A209000</td>\n",
       "      <td>docked_bike</td>\n",
       "      <td>3840</td>\n",
       "      <td>0.000000</td>\n",
       "      <td>0.000000</td>\n",
       "      <td>casual</td>\n",
       "    </tr>\n",
       "    <tr>\n",
       "      <th>2</th>\n",
       "      <td>3</td>\n",
       "      <td>E498E15508A80BAD</td>\n",
       "      <td>docked_bike</td>\n",
       "      <td>126226680</td>\n",
       "      <td>0.000000</td>\n",
       "      <td>0.000000</td>\n",
       "      <td>casual</td>\n",
       "    </tr>\n",
       "  </tbody>\n",
       "</table>\n",
       "</div>"
      ],
      "text/plain": [
       "   Unnamed: 0           Ride_ID Rideable_Type  Time_Diff5      Lat5  \\\n",
       "0           1  6C992BD37A98A63F  classic_bike        1860 -0.050702   \n",
       "1           2  1E0145613A209000   docked_bike        3840  0.000000   \n",
       "2           3  E498E15508A80BAD   docked_bike   126226680  0.000000   \n",
       "\n",
       "   Ride_Lng5  Status  \n",
       "0   0.035218  member  \n",
       "1   0.000000  casual  \n",
       "2   0.000000  casual  "
      ]
     },
     "execution_count": 223,
     "metadata": {},
     "output_type": "execute_result"
    }
   ],
   "source": [
    "#view few rows of the dataset\n",
    "TD5.head(3)"
   ]
  },
  {
   "cell_type": "code",
   "execution_count": 224,
   "id": "5b40f27b",
   "metadata": {},
   "outputs": [],
   "source": [
    "#import dataset\n",
    "TD6 = pd.read_csv('C:/Users/LILIAN/Desktop/Exported Datasets from R/All_TimeDiff/TimeDiff_Jun_df.csv')"
   ]
  },
  {
   "cell_type": "code",
   "execution_count": 225,
   "id": "0814a438",
   "metadata": {},
   "outputs": [
    {
     "data": {
      "text/plain": [
       "(263681, 7)"
      ]
     },
     "execution_count": 225,
     "metadata": {},
     "output_type": "execute_result"
    }
   ],
   "source": [
    "#number of rows and columns\n",
    "TD6.shape"
   ]
  },
  {
   "cell_type": "code",
   "execution_count": 226,
   "id": "15078e7b",
   "metadata": {},
   "outputs": [
    {
     "data": {
      "text/html": [
       "<div>\n",
       "<style scoped>\n",
       "    .dataframe tbody tr th:only-of-type {\n",
       "        vertical-align: middle;\n",
       "    }\n",
       "\n",
       "    .dataframe tbody tr th {\n",
       "        vertical-align: top;\n",
       "    }\n",
       "\n",
       "    .dataframe thead th {\n",
       "        text-align: right;\n",
       "    }\n",
       "</style>\n",
       "<table border=\"1\" class=\"dataframe\">\n",
       "  <thead>\n",
       "    <tr style=\"text-align: right;\">\n",
       "      <th></th>\n",
       "      <th>Unnamed: 0</th>\n",
       "      <th>Ride_ID</th>\n",
       "      <th>Rideable_Type</th>\n",
       "      <th>Time_Diff6</th>\n",
       "      <th>Lat6</th>\n",
       "      <th>Ride_Lng6</th>\n",
       "      <th>Status</th>\n",
       "    </tr>\n",
       "  </thead>\n",
       "  <tbody>\n",
       "    <tr>\n",
       "      <th>0</th>\n",
       "      <td>1</td>\n",
       "      <td>6C992BD37A98A63F</td>\n",
       "      <td>classic_bike</td>\n",
       "      <td>1860</td>\n",
       "      <td>-0.050702</td>\n",
       "      <td>0.035218</td>\n",
       "      <td>member</td>\n",
       "    </tr>\n",
       "    <tr>\n",
       "      <th>1</th>\n",
       "      <td>2</td>\n",
       "      <td>1E0145613A209000</td>\n",
       "      <td>docked_bike</td>\n",
       "      <td>3840</td>\n",
       "      <td>0.000000</td>\n",
       "      <td>0.000000</td>\n",
       "      <td>casual</td>\n",
       "    </tr>\n",
       "    <tr>\n",
       "      <th>2</th>\n",
       "      <td>3</td>\n",
       "      <td>E498E15508A80BAD</td>\n",
       "      <td>docked_bike</td>\n",
       "      <td>126226680</td>\n",
       "      <td>0.000000</td>\n",
       "      <td>0.000000</td>\n",
       "      <td>casual</td>\n",
       "    </tr>\n",
       "  </tbody>\n",
       "</table>\n",
       "</div>"
      ],
      "text/plain": [
       "   Unnamed: 0           Ride_ID Rideable_Type  Time_Diff6      Lat6  \\\n",
       "0           1  6C992BD37A98A63F  classic_bike        1860 -0.050702   \n",
       "1           2  1E0145613A209000   docked_bike        3840  0.000000   \n",
       "2           3  E498E15508A80BAD   docked_bike   126226680  0.000000   \n",
       "\n",
       "   Ride_Lng6  Status  \n",
       "0   0.035218  member  \n",
       "1   0.000000  casual  \n",
       "2   0.000000  casual  "
      ]
     },
     "execution_count": 226,
     "metadata": {},
     "output_type": "execute_result"
    }
   ],
   "source": [
    "#view few rows of the dataset\n",
    "TD6.head(3)"
   ]
  },
  {
   "cell_type": "code",
   "execution_count": 227,
   "id": "cfb7dfb0",
   "metadata": {},
   "outputs": [],
   "source": [
    "#import dataset\n",
    "TD7 = pd.read_csv('C:/Users/LILIAN/Desktop/Exported Datasets from R/All_TimeDiff/TimeDiff_Jul_df.csv')"
   ]
  },
  {
   "cell_type": "code",
   "execution_count": 228,
   "id": "9cb580d9",
   "metadata": {},
   "outputs": [
    {
     "data": {
      "text/plain": [
       "(424615, 7)"
      ]
     },
     "execution_count": 228,
     "metadata": {},
     "output_type": "execute_result"
    }
   ],
   "source": [
    "#number of rows and columns\n",
    "TD7.shape"
   ]
  },
  {
   "cell_type": "code",
   "execution_count": 229,
   "id": "367e67b1",
   "metadata": {},
   "outputs": [
    {
     "data": {
      "text/html": [
       "<div>\n",
       "<style scoped>\n",
       "    .dataframe tbody tr th:only-of-type {\n",
       "        vertical-align: middle;\n",
       "    }\n",
       "\n",
       "    .dataframe tbody tr th {\n",
       "        vertical-align: top;\n",
       "    }\n",
       "\n",
       "    .dataframe thead th {\n",
       "        text-align: right;\n",
       "    }\n",
       "</style>\n",
       "<table border=\"1\" class=\"dataframe\">\n",
       "  <thead>\n",
       "    <tr style=\"text-align: right;\">\n",
       "      <th></th>\n",
       "      <th>Unnamed: 0</th>\n",
       "      <th>Ride_ID</th>\n",
       "      <th>Rideable_Type</th>\n",
       "      <th>Time_Diff7</th>\n",
       "      <th>Lat7</th>\n",
       "      <th>Ride_Lng7</th>\n",
       "      <th>Status</th>\n",
       "    </tr>\n",
       "  </thead>\n",
       "  <tbody>\n",
       "    <tr>\n",
       "      <th>0</th>\n",
       "      <td>1</td>\n",
       "      <td>C809ED75D6160B2A</td>\n",
       "      <td>electric_bike</td>\n",
       "      <td>720</td>\n",
       "      <td>0.01</td>\n",
       "      <td>-0.02</td>\n",
       "      <td>casual</td>\n",
       "    </tr>\n",
       "    <tr>\n",
       "      <th>1</th>\n",
       "      <td>2</td>\n",
       "      <td>DD59FDCE0ACACAF3</td>\n",
       "      <td>electric_bike</td>\n",
       "      <td>2700</td>\n",
       "      <td>0.09</td>\n",
       "      <td>-0.04</td>\n",
       "      <td>casual</td>\n",
       "    </tr>\n",
       "    <tr>\n",
       "      <th>2</th>\n",
       "      <td>3</td>\n",
       "      <td>7881AC6D39110C60</td>\n",
       "      <td>electric_bike</td>\n",
       "      <td>960</td>\n",
       "      <td>-0.02</td>\n",
       "      <td>-0.01</td>\n",
       "      <td>casual</td>\n",
       "    </tr>\n",
       "  </tbody>\n",
       "</table>\n",
       "</div>"
      ],
      "text/plain": [
       "   Unnamed: 0           Ride_ID  Rideable_Type  Time_Diff7  Lat7  Ride_Lng7  \\\n",
       "0           1  C809ED75D6160B2A  electric_bike         720  0.01      -0.02   \n",
       "1           2  DD59FDCE0ACACAF3  electric_bike        2700  0.09      -0.04   \n",
       "2           3  7881AC6D39110C60  electric_bike         960 -0.02      -0.01   \n",
       "\n",
       "   Status  \n",
       "0  casual  \n",
       "1  casual  \n",
       "2  casual  "
      ]
     },
     "execution_count": 229,
     "metadata": {},
     "output_type": "execute_result"
    }
   ],
   "source": [
    "#view few rows of the dataset\n",
    "TD7.head(3)"
   ]
  },
  {
   "cell_type": "code",
   "execution_count": 230,
   "id": "7e8687c2",
   "metadata": {},
   "outputs": [],
   "source": [
    "#import dataset\n",
    "TD8 = pd.read_csv('C:/Users/LILIAN/Desktop/Exported Datasets from R/All_TimeDiff/TimeDiff_Aug_df.csv')"
   ]
  },
  {
   "cell_type": "code",
   "execution_count": 231,
   "id": "d4ad08e7",
   "metadata": {},
   "outputs": [
    {
     "data": {
      "text/plain": [
       "(588314, 6)"
      ]
     },
     "execution_count": 231,
     "metadata": {},
     "output_type": "execute_result"
    }
   ],
   "source": [
    "#number of rows and columns\n",
    "TD8.shape"
   ]
  },
  {
   "cell_type": "code",
   "execution_count": 232,
   "id": "bc84aa30",
   "metadata": {},
   "outputs": [
    {
     "data": {
      "text/html": [
       "<div>\n",
       "<style scoped>\n",
       "    .dataframe tbody tr th:only-of-type {\n",
       "        vertical-align: middle;\n",
       "    }\n",
       "\n",
       "    .dataframe tbody tr th {\n",
       "        vertical-align: top;\n",
       "    }\n",
       "\n",
       "    .dataframe thead th {\n",
       "        text-align: right;\n",
       "    }\n",
       "</style>\n",
       "<table border=\"1\" class=\"dataframe\">\n",
       "  <thead>\n",
       "    <tr style=\"text-align: right;\">\n",
       "      <th></th>\n",
       "      <th>Unnamed: 0</th>\n",
       "      <th>Ride_ID</th>\n",
       "      <th>Rideable_Type</th>\n",
       "      <th>Time_Diff8</th>\n",
       "      <th>Ride_Lng8</th>\n",
       "      <th>Status</th>\n",
       "    </tr>\n",
       "  </thead>\n",
       "  <tbody>\n",
       "    <tr>\n",
       "      <th>0</th>\n",
       "      <td>1</td>\n",
       "      <td>B03C0FE48C412214</td>\n",
       "      <td>electric_bike</td>\n",
       "      <td>1500</td>\n",
       "      <td>0.020000</td>\n",
       "      <td>member</td>\n",
       "    </tr>\n",
       "    <tr>\n",
       "      <th>1</th>\n",
       "      <td>2</td>\n",
       "      <td>2608805637155AB6</td>\n",
       "      <td>electric_bike</td>\n",
       "      <td>540</td>\n",
       "      <td>0.010000</td>\n",
       "      <td>member</td>\n",
       "    </tr>\n",
       "    <tr>\n",
       "      <th>2</th>\n",
       "      <td>3</td>\n",
       "      <td>AF529C946F28ED42</td>\n",
       "      <td>electric_bike</td>\n",
       "      <td>540</td>\n",
       "      <td>0.013698</td>\n",
       "      <td>member</td>\n",
       "    </tr>\n",
       "  </tbody>\n",
       "</table>\n",
       "</div>"
      ],
      "text/plain": [
       "   Unnamed: 0           Ride_ID  Rideable_Type  Time_Diff8  Ride_Lng8  Status\n",
       "0           1  B03C0FE48C412214  electric_bike        1500   0.020000  member\n",
       "1           2  2608805637155AB6  electric_bike         540   0.010000  member\n",
       "2           3  AF529C946F28ED42  electric_bike         540   0.013698  member"
      ]
     },
     "execution_count": 232,
     "metadata": {},
     "output_type": "execute_result"
    }
   ],
   "source": [
    "#view few rows of the dataset\n",
    "TD8.head(3)"
   ]
  },
  {
   "cell_type": "code",
   "execution_count": 233,
   "id": "0ee2b7b1",
   "metadata": {},
   "outputs": [],
   "source": [
    "#import dataset\n",
    "TD9 = pd.read_csv('C:/Users/LILIAN/Desktop/Exported Datasets from R/All_TimeDiff/TimeDiff_Sep_df.csv')"
   ]
  },
  {
   "cell_type": "code",
   "execution_count": 234,
   "id": "f388afef",
   "metadata": {},
   "outputs": [
    {
     "data": {
      "text/plain": [
       "(660806, 7)"
      ]
     },
     "execution_count": 234,
     "metadata": {},
     "output_type": "execute_result"
    }
   ],
   "source": [
    "#number of rows and columns\n",
    "TD9.shape"
   ]
  },
  {
   "cell_type": "code",
   "execution_count": 235,
   "id": "216ac094",
   "metadata": {},
   "outputs": [
    {
     "data": {
      "text/html": [
       "<div>\n",
       "<style scoped>\n",
       "    .dataframe tbody tr th:only-of-type {\n",
       "        vertical-align: middle;\n",
       "    }\n",
       "\n",
       "    .dataframe tbody tr th {\n",
       "        vertical-align: top;\n",
       "    }\n",
       "\n",
       "    .dataframe thead th {\n",
       "        text-align: right;\n",
       "    }\n",
       "</style>\n",
       "<table border=\"1\" class=\"dataframe\">\n",
       "  <thead>\n",
       "    <tr style=\"text-align: right;\">\n",
       "      <th></th>\n",
       "      <th>Unnamed: 0</th>\n",
       "      <th>Ride_ID</th>\n",
       "      <th>Rideable_Type</th>\n",
       "      <th>Time_Diff9</th>\n",
       "      <th>Lat9</th>\n",
       "      <th>Ride_Lng9</th>\n",
       "      <th>Status</th>\n",
       "    </tr>\n",
       "  </thead>\n",
       "  <tbody>\n",
       "    <tr>\n",
       "      <th>0</th>\n",
       "      <td>1</td>\n",
       "      <td>0A1B623926EF4E16</td>\n",
       "      <td>docked_bike</td>\n",
       "      <td>2100</td>\n",
       "      <td>-0.015384</td>\n",
       "      <td>0.023796</td>\n",
       "      <td>casual</td>\n",
       "    </tr>\n",
       "    <tr>\n",
       "      <th>1</th>\n",
       "      <td>2</td>\n",
       "      <td>B2D5583A5A5E76EE</td>\n",
       "      <td>classic_bike</td>\n",
       "      <td>1140</td>\n",
       "      <td>0.010464</td>\n",
       "      <td>-0.025231</td>\n",
       "      <td>casual</td>\n",
       "    </tr>\n",
       "    <tr>\n",
       "      <th>2</th>\n",
       "      <td>3</td>\n",
       "      <td>6F264597DDBF427A</td>\n",
       "      <td>classic_bike</td>\n",
       "      <td>1080</td>\n",
       "      <td>-0.029789</td>\n",
       "      <td>0.000372</td>\n",
       "      <td>member</td>\n",
       "    </tr>\n",
       "  </tbody>\n",
       "</table>\n",
       "</div>"
      ],
      "text/plain": [
       "   Unnamed: 0           Ride_ID Rideable_Type  Time_Diff9      Lat9  \\\n",
       "0           1  0A1B623926EF4E16   docked_bike        2100 -0.015384   \n",
       "1           2  B2D5583A5A5E76EE  classic_bike        1140  0.010464   \n",
       "2           3  6F264597DDBF427A  classic_bike        1080 -0.029789   \n",
       "\n",
       "   Ride_Lng9  Status  \n",
       "0   0.023796  casual  \n",
       "1  -0.025231  casual  \n",
       "2   0.000372  member  "
      ]
     },
     "execution_count": 235,
     "metadata": {},
     "output_type": "execute_result"
    }
   ],
   "source": [
    "#view few rows of the dataset\n",
    "TD9.head(3)"
   ]
  },
  {
   "cell_type": "code",
   "execution_count": 236,
   "id": "d04b7175",
   "metadata": {},
   "outputs": [],
   "source": [
    "#import dataset\n",
    "TD10 = pd.read_csv('C:/Users/LILIAN/Desktop/Exported Datasets from R/All_TimeDiff/TimeDiff_Oct_df.csv')"
   ]
  },
  {
   "cell_type": "code",
   "execution_count": 237,
   "id": "b797fae2",
   "metadata": {},
   "outputs": [
    {
     "data": {
      "text/plain": [
       "(637314, 7)"
      ]
     },
     "execution_count": 237,
     "metadata": {},
     "output_type": "execute_result"
    }
   ],
   "source": [
    "#number of rows and columns\n",
    "TD10.shape"
   ]
  },
  {
   "cell_type": "code",
   "execution_count": 238,
   "id": "0e9770b5",
   "metadata": {},
   "outputs": [
    {
     "data": {
      "text/html": [
       "<div>\n",
       "<style scoped>\n",
       "    .dataframe tbody tr th:only-of-type {\n",
       "        vertical-align: middle;\n",
       "    }\n",
       "\n",
       "    .dataframe tbody tr th {\n",
       "        vertical-align: top;\n",
       "    }\n",
       "\n",
       "    .dataframe thead th {\n",
       "        text-align: right;\n",
       "    }\n",
       "</style>\n",
       "<table border=\"1\" class=\"dataframe\">\n",
       "  <thead>\n",
       "    <tr style=\"text-align: right;\">\n",
       "      <th></th>\n",
       "      <th>Unnamed: 0</th>\n",
       "      <th>Ride_ID</th>\n",
       "      <th>Rideable_Type</th>\n",
       "      <th>Time_Diff10</th>\n",
       "      <th>Lat10</th>\n",
       "      <th>Ride_Lng10</th>\n",
       "      <th>Status</th>\n",
       "    </tr>\n",
       "  </thead>\n",
       "  <tbody>\n",
       "    <tr>\n",
       "      <th>0</th>\n",
       "      <td>1</td>\n",
       "      <td>99103BB87CC6C1BB</td>\n",
       "      <td>electric_bike</td>\n",
       "      <td>420</td>\n",
       "      <td>0.00</td>\n",
       "      <td>0.00</td>\n",
       "      <td>member</td>\n",
       "    </tr>\n",
       "    <tr>\n",
       "      <th>1</th>\n",
       "      <td>2</td>\n",
       "      <td>EAFCCCFB0A3FC5A1</td>\n",
       "      <td>electric_bike</td>\n",
       "      <td>960</td>\n",
       "      <td>0.00</td>\n",
       "      <td>-0.05</td>\n",
       "      <td>member</td>\n",
       "    </tr>\n",
       "    <tr>\n",
       "      <th>2</th>\n",
       "      <td>3</td>\n",
       "      <td>9EF4F46C57AD234D</td>\n",
       "      <td>electric_bike</td>\n",
       "      <td>960</td>\n",
       "      <td>-0.02</td>\n",
       "      <td>0.01</td>\n",
       "      <td>member</td>\n",
       "    </tr>\n",
       "  </tbody>\n",
       "</table>\n",
       "</div>"
      ],
      "text/plain": [
       "   Unnamed: 0           Ride_ID  Rideable_Type  Time_Diff10  Lat10  \\\n",
       "0           1  99103BB87CC6C1BB  electric_bike          420   0.00   \n",
       "1           2  EAFCCCFB0A3FC5A1  electric_bike          960   0.00   \n",
       "2           3  9EF4F46C57AD234D  electric_bike          960  -0.02   \n",
       "\n",
       "   Ride_Lng10  Status  \n",
       "0        0.00  member  \n",
       "1       -0.05  member  \n",
       "2        0.01  member  "
      ]
     },
     "execution_count": 238,
     "metadata": {},
     "output_type": "execute_result"
    }
   ],
   "source": [
    "#view few rows of the dataset\n",
    "TD10.head(3)"
   ]
  },
  {
   "cell_type": "code",
   "execution_count": 239,
   "id": "93bf2797",
   "metadata": {},
   "outputs": [],
   "source": [
    "#import dataset\n",
    "TD11 = pd.read_csv('C:/Users/LILIAN/Desktop/Exported Datasets from R/All_TimeDiff/TimeDiff_Nov_df.csv')"
   ]
  },
  {
   "cell_type": "code",
   "execution_count": 240,
   "id": "d0d88d66",
   "metadata": {},
   "outputs": [
    {
     "data": {
      "text/plain": [
       "(400190, 7)"
      ]
     },
     "execution_count": 240,
     "metadata": {},
     "output_type": "execute_result"
    }
   ],
   "source": [
    "#number of rows and columns\n",
    "TD11.shape"
   ]
  },
  {
   "cell_type": "code",
   "execution_count": 241,
   "id": "d344034e",
   "metadata": {},
   "outputs": [
    {
     "data": {
      "text/html": [
       "<div>\n",
       "<style scoped>\n",
       "    .dataframe tbody tr th:only-of-type {\n",
       "        vertical-align: middle;\n",
       "    }\n",
       "\n",
       "    .dataframe tbody tr th {\n",
       "        vertical-align: top;\n",
       "    }\n",
       "\n",
       "    .dataframe thead th {\n",
       "        text-align: right;\n",
       "    }\n",
       "</style>\n",
       "<table border=\"1\" class=\"dataframe\">\n",
       "  <thead>\n",
       "    <tr style=\"text-align: right;\">\n",
       "      <th></th>\n",
       "      <th>Unnamed: 0</th>\n",
       "      <th>Ride_ID</th>\n",
       "      <th>Rideable_Type</th>\n",
       "      <th>Time_Diff11</th>\n",
       "      <th>Lat11</th>\n",
       "      <th>Ride_Lng11</th>\n",
       "      <th>Status</th>\n",
       "    </tr>\n",
       "  </thead>\n",
       "  <tbody>\n",
       "    <tr>\n",
       "      <th>0</th>\n",
       "      <td>1</td>\n",
       "      <td>6310A715D7121C8C</td>\n",
       "      <td>electric_bike</td>\n",
       "      <td>900</td>\n",
       "      <td>-0.037039</td>\n",
       "      <td>0.011167</td>\n",
       "      <td>member</td>\n",
       "    </tr>\n",
       "    <tr>\n",
       "      <th>1</th>\n",
       "      <td>2</td>\n",
       "      <td>7EFD1EEF66C09AB3</td>\n",
       "      <td>classic_bike</td>\n",
       "      <td>1200</td>\n",
       "      <td>-0.029366</td>\n",
       "      <td>0.002103</td>\n",
       "      <td>member</td>\n",
       "    </tr>\n",
       "    <tr>\n",
       "      <th>2</th>\n",
       "      <td>3</td>\n",
       "      <td>2B4A1E87DE47725F</td>\n",
       "      <td>classic_bike</td>\n",
       "      <td>600</td>\n",
       "      <td>-0.011458</td>\n",
       "      <td>0.008996</td>\n",
       "      <td>member</td>\n",
       "    </tr>\n",
       "  </tbody>\n",
       "</table>\n",
       "</div>"
      ],
      "text/plain": [
       "   Unnamed: 0           Ride_ID  Rideable_Type  Time_Diff11     Lat11  \\\n",
       "0           1  6310A715D7121C8C  electric_bike          900 -0.037039   \n",
       "1           2  7EFD1EEF66C09AB3   classic_bike         1200 -0.029366   \n",
       "2           3  2B4A1E87DE47725F   classic_bike          600 -0.011458   \n",
       "\n",
       "   Ride_Lng11  Status  \n",
       "0    0.011167  member  \n",
       "1    0.002103  member  \n",
       "2    0.008996  member  "
      ]
     },
     "execution_count": 241,
     "metadata": {},
     "output_type": "execute_result"
    }
   ],
   "source": [
    "#view few rows of the dataset\n",
    "TD11.head(3)"
   ]
  },
  {
   "cell_type": "code",
   "execution_count": 242,
   "id": "80f32268",
   "metadata": {},
   "outputs": [],
   "source": [
    "#import dataset\n",
    "TD12 = pd.read_csv('C:/Users/LILIAN/Desktop/Exported Datasets from R/All_TimeDiff/TimeDiff_Dec_df.csv')"
   ]
  },
  {
   "cell_type": "code",
   "execution_count": 243,
   "id": "68fb777e",
   "metadata": {},
   "outputs": [
    {
     "data": {
      "text/plain": [
       "(451055, 7)"
      ]
     },
     "execution_count": 243,
     "metadata": {},
     "output_type": "execute_result"
    }
   ],
   "source": [
    "#number of rows and columns\n",
    "TD12.shape"
   ]
  },
  {
   "cell_type": "code",
   "execution_count": 244,
   "id": "781ee083",
   "metadata": {},
   "outputs": [
    {
     "data": {
      "text/html": [
       "<div>\n",
       "<style scoped>\n",
       "    .dataframe tbody tr th:only-of-type {\n",
       "        vertical-align: middle;\n",
       "    }\n",
       "\n",
       "    .dataframe tbody tr th {\n",
       "        vertical-align: top;\n",
       "    }\n",
       "\n",
       "    .dataframe thead th {\n",
       "        text-align: right;\n",
       "    }\n",
       "</style>\n",
       "<table border=\"1\" class=\"dataframe\">\n",
       "  <thead>\n",
       "    <tr style=\"text-align: right;\">\n",
       "      <th></th>\n",
       "      <th>Unnamed: 0</th>\n",
       "      <th>Ride_ID</th>\n",
       "      <th>Rideable_Type</th>\n",
       "      <th>Time_Diff12</th>\n",
       "      <th>Lat12</th>\n",
       "      <th>Ride_Lng12</th>\n",
       "      <th>Status</th>\n",
       "    </tr>\n",
       "  </thead>\n",
       "  <tbody>\n",
       "    <tr>\n",
       "      <th>0</th>\n",
       "      <td>1</td>\n",
       "      <td>26CA69D43D15EE14</td>\n",
       "      <td>electric_bike</td>\n",
       "      <td>480</td>\n",
       "      <td>-0.02</td>\n",
       "      <td>0.02</td>\n",
       "      <td>member</td>\n",
       "    </tr>\n",
       "    <tr>\n",
       "      <th>1</th>\n",
       "      <td>2</td>\n",
       "      <td>BB731DE2F2EC51C5</td>\n",
       "      <td>electric_bike</td>\n",
       "      <td>540</td>\n",
       "      <td>0.00</td>\n",
       "      <td>-0.02</td>\n",
       "      <td>member</td>\n",
       "    </tr>\n",
       "    <tr>\n",
       "      <th>2</th>\n",
       "      <td>3</td>\n",
       "      <td>7176307BBC097313</td>\n",
       "      <td>electric_bike</td>\n",
       "      <td>840</td>\n",
       "      <td>-0.04</td>\n",
       "      <td>-0.01</td>\n",
       "      <td>member</td>\n",
       "    </tr>\n",
       "  </tbody>\n",
       "</table>\n",
       "</div>"
      ],
      "text/plain": [
       "   Unnamed: 0           Ride_ID  Rideable_Type  Time_Diff12  Lat12  \\\n",
       "0           1  26CA69D43D15EE14  electric_bike          480  -0.02   \n",
       "1           2  BB731DE2F2EC51C5  electric_bike          540   0.00   \n",
       "2           3  7176307BBC097313  electric_bike          840  -0.04   \n",
       "\n",
       "   Ride_Lng12  Status  \n",
       "0        0.02  member  \n",
       "1       -0.02  member  \n",
       "2       -0.01  member  "
      ]
     },
     "execution_count": 244,
     "metadata": {},
     "output_type": "execute_result"
    }
   ],
   "source": [
    "#view few rows of the dataset\n",
    "TD12.head(3)"
   ]
  },
  {
   "cell_type": "code",
   "execution_count": 359,
   "id": "0652cc36",
   "metadata": {},
   "outputs": [],
   "source": [
    "#MERGE TIME DIFFERENCE OF ALL MONTHS INTO AS ONE YEAR\n",
    "Time_Difference = pd.concat([TD1,TD2,TD3,TD4,TD5,TD6,TD7,TD8,TD9,TD10,TD11,TD12])"
   ]
  },
  {
   "cell_type": "code",
   "execution_count": 360,
   "id": "1988c0cf",
   "metadata": {},
   "outputs": [
    {
     "data": {
      "text/plain": [
       "(4048788, 39)"
      ]
     },
     "execution_count": 360,
     "metadata": {},
     "output_type": "execute_result"
    }
   ],
   "source": [
    "#number of rows and columns\n",
    "Time_Difference.shape"
   ]
  },
  {
   "cell_type": "code",
   "execution_count": 361,
   "id": "d6354402",
   "metadata": {},
   "outputs": [
    {
     "data": {
      "text/html": [
       "<div>\n",
       "<style scoped>\n",
       "    .dataframe tbody tr th:only-of-type {\n",
       "        vertical-align: middle;\n",
       "    }\n",
       "\n",
       "    .dataframe tbody tr th {\n",
       "        vertical-align: top;\n",
       "    }\n",
       "\n",
       "    .dataframe thead th {\n",
       "        text-align: right;\n",
       "    }\n",
       "</style>\n",
       "<table border=\"1\" class=\"dataframe\">\n",
       "  <thead>\n",
       "    <tr style=\"text-align: right;\">\n",
       "      <th></th>\n",
       "      <th>Unnamed: 0</th>\n",
       "      <th>Ride_ID</th>\n",
       "      <th>Rideable_Type</th>\n",
       "      <th>Time_Diff1</th>\n",
       "      <th>Lat1</th>\n",
       "      <th>Ride_Lng1</th>\n",
       "      <th>Status</th>\n",
       "      <th>Time_Diff2</th>\n",
       "      <th>Lat2</th>\n",
       "      <th>Ride_Lng2</th>\n",
       "      <th>...</th>\n",
       "      <th>Ride_Lng9</th>\n",
       "      <th>Time_Diff10</th>\n",
       "      <th>Lat10</th>\n",
       "      <th>Ride_Lng10</th>\n",
       "      <th>Time_Diff11</th>\n",
       "      <th>Lat11</th>\n",
       "      <th>Ride_Lng11</th>\n",
       "      <th>Time_Diff12</th>\n",
       "      <th>Lat12</th>\n",
       "      <th>Ride_Lng12</th>\n",
       "    </tr>\n",
       "  </thead>\n",
       "  <tbody>\n",
       "    <tr>\n",
       "      <th>0</th>\n",
       "      <td>1</td>\n",
       "      <td>70B6A9A437D4C30D</td>\n",
       "      <td>classic_bike</td>\n",
       "      <td>660.0</td>\n",
       "      <td>-0.01099</td>\n",
       "      <td>-0.01034</td>\n",
       "      <td>member</td>\n",
       "      <td>NaN</td>\n",
       "      <td>NaN</td>\n",
       "      <td>NaN</td>\n",
       "      <td>...</td>\n",
       "      <td>NaN</td>\n",
       "      <td>NaN</td>\n",
       "      <td>NaN</td>\n",
       "      <td>NaN</td>\n",
       "      <td>NaN</td>\n",
       "      <td>NaN</td>\n",
       "      <td>NaN</td>\n",
       "      <td>NaN</td>\n",
       "      <td>NaN</td>\n",
       "      <td>NaN</td>\n",
       "    </tr>\n",
       "    <tr>\n",
       "      <th>1</th>\n",
       "      <td>2</td>\n",
       "      <td>158A465D4E74C54A</td>\n",
       "      <td>electric_bike</td>\n",
       "      <td>420.0</td>\n",
       "      <td>0.02000</td>\n",
       "      <td>0.00000</td>\n",
       "      <td>member</td>\n",
       "      <td>NaN</td>\n",
       "      <td>NaN</td>\n",
       "      <td>NaN</td>\n",
       "      <td>...</td>\n",
       "      <td>NaN</td>\n",
       "      <td>NaN</td>\n",
       "      <td>NaN</td>\n",
       "      <td>NaN</td>\n",
       "      <td>NaN</td>\n",
       "      <td>NaN</td>\n",
       "      <td>NaN</td>\n",
       "      <td>NaN</td>\n",
       "      <td>NaN</td>\n",
       "      <td>NaN</td>\n",
       "    </tr>\n",
       "    <tr>\n",
       "      <th>2</th>\n",
       "      <td>3</td>\n",
       "      <td>5262016E0F1F2F9A</td>\n",
       "      <td>electric_bike</td>\n",
       "      <td>420.0</td>\n",
       "      <td>-0.02000</td>\n",
       "      <td>0.01000</td>\n",
       "      <td>member</td>\n",
       "      <td>NaN</td>\n",
       "      <td>NaN</td>\n",
       "      <td>NaN</td>\n",
       "      <td>...</td>\n",
       "      <td>NaN</td>\n",
       "      <td>NaN</td>\n",
       "      <td>NaN</td>\n",
       "      <td>NaN</td>\n",
       "      <td>NaN</td>\n",
       "      <td>NaN</td>\n",
       "      <td>NaN</td>\n",
       "      <td>NaN</td>\n",
       "      <td>NaN</td>\n",
       "      <td>NaN</td>\n",
       "    </tr>\n",
       "  </tbody>\n",
       "</table>\n",
       "<p>3 rows × 39 columns</p>\n",
       "</div>"
      ],
      "text/plain": [
       "   Unnamed: 0           Ride_ID  Rideable_Type  Time_Diff1     Lat1  \\\n",
       "0           1  70B6A9A437D4C30D   classic_bike       660.0 -0.01099   \n",
       "1           2  158A465D4E74C54A  electric_bike       420.0  0.02000   \n",
       "2           3  5262016E0F1F2F9A  electric_bike       420.0 -0.02000   \n",
       "\n",
       "   Ride_Lng1  Status  Time_Diff2  Lat2  Ride_Lng2  ...  Ride_Lng9  \\\n",
       "0   -0.01034  member         NaN   NaN        NaN  ...        NaN   \n",
       "1    0.00000  member         NaN   NaN        NaN  ...        NaN   \n",
       "2    0.01000  member         NaN   NaN        NaN  ...        NaN   \n",
       "\n",
       "   Time_Diff10  Lat10  Ride_Lng10  Time_Diff11  Lat11  Ride_Lng11  \\\n",
       "0          NaN    NaN         NaN          NaN    NaN         NaN   \n",
       "1          NaN    NaN         NaN          NaN    NaN         NaN   \n",
       "2          NaN    NaN         NaN          NaN    NaN         NaN   \n",
       "\n",
       "   Time_Diff12  Lat12  Ride_Lng12  \n",
       "0          NaN    NaN         NaN  \n",
       "1          NaN    NaN         NaN  \n",
       "2          NaN    NaN         NaN  \n",
       "\n",
       "[3 rows x 39 columns]"
      ]
     },
     "execution_count": 361,
     "metadata": {},
     "output_type": "execute_result"
    }
   ],
   "source": [
    "#view few rows of the dataset\n",
    "Time_Difference.head(3)"
   ]
  },
  {
   "cell_type": "markdown",
   "id": "c000947a",
   "metadata": {},
   "source": [
    "RIDE LENGTH LESS THAN 400 FOR ALL MONTHS"
   ]
  },
  {
   "cell_type": "code",
   "execution_count": 248,
   "id": "55931fc5",
   "metadata": {},
   "outputs": [],
   "source": [
    "#import dataset\n",
    "LRL1 = pd.read_csv('C:/Users/LILIAN/Desktop/Exported Datasets from R/All_LessRideLength/LessRideLength_Jan_df.csv')"
   ]
  },
  {
   "cell_type": "code",
   "execution_count": 249,
   "id": "c2895c48",
   "metadata": {},
   "outputs": [
    {
     "data": {
      "text/plain": [
       "(131437, 7)"
      ]
     },
     "execution_count": 249,
     "metadata": {},
     "output_type": "execute_result"
    }
   ],
   "source": [
    "#number of rows and columns\n",
    "LRL1.shape"
   ]
  },
  {
   "cell_type": "code",
   "execution_count": 250,
   "id": "3885adfe",
   "metadata": {},
   "outputs": [
    {
     "data": {
      "text/html": [
       "<div>\n",
       "<style scoped>\n",
       "    .dataframe tbody tr th:only-of-type {\n",
       "        vertical-align: middle;\n",
       "    }\n",
       "\n",
       "    .dataframe tbody tr th {\n",
       "        vertical-align: top;\n",
       "    }\n",
       "\n",
       "    .dataframe thead th {\n",
       "        text-align: right;\n",
       "    }\n",
       "</style>\n",
       "<table border=\"1\" class=\"dataframe\">\n",
       "  <thead>\n",
       "    <tr style=\"text-align: right;\">\n",
       "      <th></th>\n",
       "      <th>Unnamed: 0</th>\n",
       "      <th>Ride_ID</th>\n",
       "      <th>Rideable_Type</th>\n",
       "      <th>Time_Diff1</th>\n",
       "      <th>Lat1</th>\n",
       "      <th>Ride_Lng1</th>\n",
       "      <th>Status</th>\n",
       "    </tr>\n",
       "  </thead>\n",
       "  <tbody>\n",
       "    <tr>\n",
       "      <th>0</th>\n",
       "      <td>1</td>\n",
       "      <td>70B6A9A437D4C30D</td>\n",
       "      <td>classic_bike</td>\n",
       "      <td>660</td>\n",
       "      <td>-0.01099</td>\n",
       "      <td>-0.01034</td>\n",
       "      <td>member</td>\n",
       "    </tr>\n",
       "    <tr>\n",
       "      <th>1</th>\n",
       "      <td>2</td>\n",
       "      <td>158A465D4E74C54A</td>\n",
       "      <td>electric_bike</td>\n",
       "      <td>420</td>\n",
       "      <td>0.02000</td>\n",
       "      <td>0.00000</td>\n",
       "      <td>member</td>\n",
       "    </tr>\n",
       "    <tr>\n",
       "      <th>2</th>\n",
       "      <td>3</td>\n",
       "      <td>5262016E0F1F2F9A</td>\n",
       "      <td>electric_bike</td>\n",
       "      <td>420</td>\n",
       "      <td>-0.02000</td>\n",
       "      <td>0.01000</td>\n",
       "      <td>member</td>\n",
       "    </tr>\n",
       "  </tbody>\n",
       "</table>\n",
       "</div>"
      ],
      "text/plain": [
       "   Unnamed: 0           Ride_ID  Rideable_Type  Time_Diff1     Lat1  \\\n",
       "0           1  70B6A9A437D4C30D   classic_bike         660 -0.01099   \n",
       "1           2  158A465D4E74C54A  electric_bike         420  0.02000   \n",
       "2           3  5262016E0F1F2F9A  electric_bike         420 -0.02000   \n",
       "\n",
       "   Ride_Lng1  Status  \n",
       "0   -0.01034  member  \n",
       "1    0.00000  member  \n",
       "2    0.01000  member  "
      ]
     },
     "execution_count": 250,
     "metadata": {},
     "output_type": "execute_result"
    }
   ],
   "source": [
    "#view few rows of the dataset\n",
    "LRL1.head(3)"
   ]
  },
  {
   "cell_type": "code",
   "execution_count": 251,
   "id": "94780bba",
   "metadata": {},
   "outputs": [],
   "source": [
    "#import dataset\n",
    "LRL2 = pd.read_csv('C:/Users/LILIAN/Desktop/Exported Datasets from R/All_LessRideLength/LessRideLength_Feb_df.csv')"
   ]
  },
  {
   "cell_type": "code",
   "execution_count": 252,
   "id": "3908e604",
   "metadata": {},
   "outputs": [
    {
     "data": {
      "text/plain": [
       "(96702, 7)"
      ]
     },
     "execution_count": 252,
     "metadata": {},
     "output_type": "execute_result"
    }
   ],
   "source": [
    "#number of rows and columns\n",
    "LRL2.shape"
   ]
  },
  {
   "cell_type": "code",
   "execution_count": 253,
   "id": "8d2e7f77",
   "metadata": {},
   "outputs": [
    {
     "data": {
      "text/html": [
       "<div>\n",
       "<style scoped>\n",
       "    .dataframe tbody tr th:only-of-type {\n",
       "        vertical-align: middle;\n",
       "    }\n",
       "\n",
       "    .dataframe tbody tr th {\n",
       "        vertical-align: top;\n",
       "    }\n",
       "\n",
       "    .dataframe thead th {\n",
       "        text-align: right;\n",
       "    }\n",
       "</style>\n",
       "<table border=\"1\" class=\"dataframe\">\n",
       "  <thead>\n",
       "    <tr style=\"text-align: right;\">\n",
       "      <th></th>\n",
       "      <th>Unnamed: 0</th>\n",
       "      <th>Ride_ID</th>\n",
       "      <th>Rideable_Type</th>\n",
       "      <th>Time_Diff2</th>\n",
       "      <th>Lat2</th>\n",
       "      <th>Ride_Lng2</th>\n",
       "      <th>Status</th>\n",
       "    </tr>\n",
       "  </thead>\n",
       "  <tbody>\n",
       "    <tr>\n",
       "      <th>0</th>\n",
       "      <td>1</td>\n",
       "      <td>E19E6F1B8D4C42ED</td>\n",
       "      <td>electric_bike</td>\n",
       "      <td>600</td>\n",
       "      <td>0.010341</td>\n",
       "      <td>0.023257</td>\n",
       "      <td>member</td>\n",
       "    </tr>\n",
       "    <tr>\n",
       "      <th>1</th>\n",
       "      <td>2</td>\n",
       "      <td>DC88F20C2C55F27F</td>\n",
       "      <td>electric_bike</td>\n",
       "      <td>240</td>\n",
       "      <td>0.000333</td>\n",
       "      <td>-0.006707</td>\n",
       "      <td>member</td>\n",
       "    </tr>\n",
       "    <tr>\n",
       "      <th>2</th>\n",
       "      <td>3</td>\n",
       "      <td>EC45C94683FE3F27</td>\n",
       "      <td>electric_bike</td>\n",
       "      <td>120</td>\n",
       "      <td>0.000313</td>\n",
       "      <td>0.003357</td>\n",
       "      <td>member</td>\n",
       "    </tr>\n",
       "  </tbody>\n",
       "</table>\n",
       "</div>"
      ],
      "text/plain": [
       "   Unnamed: 0           Ride_ID  Rideable_Type  Time_Diff2      Lat2  \\\n",
       "0           1  E19E6F1B8D4C42ED  electric_bike         600  0.010341   \n",
       "1           2  DC88F20C2C55F27F  electric_bike         240  0.000333   \n",
       "2           3  EC45C94683FE3F27  electric_bike         120  0.000313   \n",
       "\n",
       "   Ride_Lng2  Status  \n",
       "0   0.023257  member  \n",
       "1  -0.006707  member  \n",
       "2   0.003357  member  "
      ]
     },
     "execution_count": 253,
     "metadata": {},
     "output_type": "execute_result"
    }
   ],
   "source": [
    "#view few rows of the dataset\n",
    "LRL2.head(3)"
   ]
  },
  {
   "cell_type": "code",
   "execution_count": 254,
   "id": "f3408336",
   "metadata": {},
   "outputs": [],
   "source": [
    "#import dataset\n",
    "LRL3 = pd.read_csv('C:/Users/LILIAN/Desktop/Exported Datasets from R/All_LessRideLength/LessRideLength_Mar_df.csv')"
   ]
  },
  {
   "cell_type": "code",
   "execution_count": 255,
   "id": "a3431365",
   "metadata": {},
   "outputs": [
    {
     "data": {
      "text/plain": [
       "(49401, 7)"
      ]
     },
     "execution_count": 255,
     "metadata": {},
     "output_type": "execute_result"
    }
   ],
   "source": [
    "#number of rows and columns\n",
    "LRL3.shape"
   ]
  },
  {
   "cell_type": "code",
   "execution_count": 256,
   "id": "5feb6fc1",
   "metadata": {},
   "outputs": [
    {
     "data": {
      "text/html": [
       "<div>\n",
       "<style scoped>\n",
       "    .dataframe tbody tr th:only-of-type {\n",
       "        vertical-align: middle;\n",
       "    }\n",
       "\n",
       "    .dataframe tbody tr th {\n",
       "        vertical-align: top;\n",
       "    }\n",
       "\n",
       "    .dataframe thead th {\n",
       "        text-align: right;\n",
       "    }\n",
       "</style>\n",
       "<table border=\"1\" class=\"dataframe\">\n",
       "  <thead>\n",
       "    <tr style=\"text-align: right;\">\n",
       "      <th></th>\n",
       "      <th>Unnamed: 0</th>\n",
       "      <th>Ride_ID</th>\n",
       "      <th>Rideable_Type</th>\n",
       "      <th>Time_Diff3</th>\n",
       "      <th>Lat3</th>\n",
       "      <th>Ride_Lng3</th>\n",
       "      <th>Status</th>\n",
       "    </tr>\n",
       "  </thead>\n",
       "  <tbody>\n",
       "    <tr>\n",
       "      <th>0</th>\n",
       "      <td>1</td>\n",
       "      <td>89E7AA6C29227EFF</td>\n",
       "      <td>classic_bike</td>\n",
       "      <td>420</td>\n",
       "      <td>0.008118</td>\n",
       "      <td>-0.004652</td>\n",
       "      <td>member</td>\n",
       "    </tr>\n",
       "    <tr>\n",
       "      <th>1</th>\n",
       "      <td>2</td>\n",
       "      <td>0FEFDE2603568365</td>\n",
       "      <td>classic_bike</td>\n",
       "      <td>1200</td>\n",
       "      <td>-0.006836</td>\n",
       "      <td>0.003505</td>\n",
       "      <td>casual</td>\n",
       "    </tr>\n",
       "    <tr>\n",
       "      <th>2</th>\n",
       "      <td>3</td>\n",
       "      <td>E6159D746B2DBB91</td>\n",
       "      <td>electric_bike</td>\n",
       "      <td>540</td>\n",
       "      <td>0.000929</td>\n",
       "      <td>-0.003603</td>\n",
       "      <td>member</td>\n",
       "    </tr>\n",
       "  </tbody>\n",
       "</table>\n",
       "</div>"
      ],
      "text/plain": [
       "   Unnamed: 0           Ride_ID  Rideable_Type  Time_Diff3      Lat3  \\\n",
       "0           1  89E7AA6C29227EFF   classic_bike         420  0.008118   \n",
       "1           2  0FEFDE2603568365   classic_bike        1200 -0.006836   \n",
       "2           3  E6159D746B2DBB91  electric_bike         540  0.000929   \n",
       "\n",
       "   Ride_Lng3  Status  \n",
       "0  -0.004652  member  \n",
       "1   0.003505  casual  \n",
       "2  -0.003603  member  "
      ]
     },
     "execution_count": 256,
     "metadata": {},
     "output_type": "execute_result"
    }
   ],
   "source": [
    "#view few rows of the dataset\n",
    "LRL3.head(3)"
   ]
  },
  {
   "cell_type": "code",
   "execution_count": 257,
   "id": "e1790065",
   "metadata": {},
   "outputs": [],
   "source": [
    "#import dataset\n",
    "LRL4 = pd.read_csv('C:/Users/LILIAN/Desktop/Exported Datasets from R/All_LessRideLength/LessRideLength_Apr_df.csv')"
   ]
  },
  {
   "cell_type": "code",
   "execution_count": 258,
   "id": "bc0d4112",
   "metadata": {},
   "outputs": [
    {
     "data": {
      "text/plain": [
       "(214051, 7)"
      ]
     },
     "execution_count": 258,
     "metadata": {},
     "output_type": "execute_result"
    }
   ],
   "source": [
    "#number of rows and columns\n",
    "LRL4.shape"
   ]
  },
  {
   "cell_type": "code",
   "execution_count": 259,
   "id": "27643511",
   "metadata": {},
   "outputs": [
    {
     "data": {
      "text/html": [
       "<div>\n",
       "<style scoped>\n",
       "    .dataframe tbody tr th:only-of-type {\n",
       "        vertical-align: middle;\n",
       "    }\n",
       "\n",
       "    .dataframe tbody tr th {\n",
       "        vertical-align: top;\n",
       "    }\n",
       "\n",
       "    .dataframe thead th {\n",
       "        text-align: right;\n",
       "    }\n",
       "</style>\n",
       "<table border=\"1\" class=\"dataframe\">\n",
       "  <thead>\n",
       "    <tr style=\"text-align: right;\">\n",
       "      <th></th>\n",
       "      <th>Unnamed: 0</th>\n",
       "      <th>Ride_ID</th>\n",
       "      <th>Rideable_Type</th>\n",
       "      <th>Time_Diff4</th>\n",
       "      <th>Lat4</th>\n",
       "      <th>Ride_Lng4</th>\n",
       "      <th>Status</th>\n",
       "    </tr>\n",
       "  </thead>\n",
       "  <tbody>\n",
       "    <tr>\n",
       "      <th>0</th>\n",
       "      <td>1</td>\n",
       "      <td>34E6463B89188D1C</td>\n",
       "      <td>electric_bike</td>\n",
       "      <td>480</td>\n",
       "      <td>0.00</td>\n",
       "      <td>-0.03</td>\n",
       "      <td>member</td>\n",
       "    </tr>\n",
       "    <tr>\n",
       "      <th>1</th>\n",
       "      <td>2</td>\n",
       "      <td>F0B55B0D2DD86D3A</td>\n",
       "      <td>electric_bike</td>\n",
       "      <td>1020</td>\n",
       "      <td>-0.01</td>\n",
       "      <td>0.06</td>\n",
       "      <td>member</td>\n",
       "    </tr>\n",
       "    <tr>\n",
       "      <th>2</th>\n",
       "      <td>3</td>\n",
       "      <td>77D7653614151D4E</td>\n",
       "      <td>electric_bike</td>\n",
       "      <td>840</td>\n",
       "      <td>-0.01</td>\n",
       "      <td>0.03</td>\n",
       "      <td>member</td>\n",
       "    </tr>\n",
       "  </tbody>\n",
       "</table>\n",
       "</div>"
      ],
      "text/plain": [
       "   Unnamed: 0           Ride_ID  Rideable_Type  Time_Diff4  Lat4  Ride_Lng4  \\\n",
       "0           1  34E6463B89188D1C  electric_bike         480  0.00      -0.03   \n",
       "1           2  F0B55B0D2DD86D3A  electric_bike        1020 -0.01       0.06   \n",
       "2           3  77D7653614151D4E  electric_bike         840 -0.01       0.03   \n",
       "\n",
       "   Status  \n",
       "0  member  \n",
       "1  member  \n",
       "2  member  "
      ]
     },
     "execution_count": 259,
     "metadata": {},
     "output_type": "execute_result"
    }
   ],
   "source": [
    "#view few rows of the dataset\n",
    "LRL4.head(3)"
   ]
  },
  {
   "cell_type": "code",
   "execution_count": 260,
   "id": "081156fd",
   "metadata": {},
   "outputs": [],
   "source": [
    "#import dataset\n",
    "LRL5 = pd.read_csv('C:/Users/LILIAN/Desktop/Exported Datasets from R/All_LessRideLength/LessRideLength_May_df.csv')"
   ]
  },
  {
   "cell_type": "code",
   "execution_count": 261,
   "id": "1b6ead90",
   "metadata": {},
   "outputs": [
    {
     "data": {
      "text/plain": [
       "(336882, 7)"
      ]
     },
     "execution_count": 261,
     "metadata": {},
     "output_type": "execute_result"
    }
   ],
   "source": [
    "#number of rows and columns\n",
    "LRL5.shape"
   ]
  },
  {
   "cell_type": "code",
   "execution_count": 262,
   "id": "673b7038",
   "metadata": {},
   "outputs": [
    {
     "data": {
      "text/html": [
       "<div>\n",
       "<style scoped>\n",
       "    .dataframe tbody tr th:only-of-type {\n",
       "        vertical-align: middle;\n",
       "    }\n",
       "\n",
       "    .dataframe tbody tr th {\n",
       "        vertical-align: top;\n",
       "    }\n",
       "\n",
       "    .dataframe thead th {\n",
       "        text-align: right;\n",
       "    }\n",
       "</style>\n",
       "<table border=\"1\" class=\"dataframe\">\n",
       "  <thead>\n",
       "    <tr style=\"text-align: right;\">\n",
       "      <th></th>\n",
       "      <th>Unnamed: 0</th>\n",
       "      <th>Ride_ID</th>\n",
       "      <th>Rideable_Type</th>\n",
       "      <th>Time_Diff5</th>\n",
       "      <th>Lat5</th>\n",
       "      <th>Ride_Lng5</th>\n",
       "      <th>Status</th>\n",
       "    </tr>\n",
       "  </thead>\n",
       "  <tbody>\n",
       "    <tr>\n",
       "      <th>0</th>\n",
       "      <td>1</td>\n",
       "      <td>6C992BD37A98A63F</td>\n",
       "      <td>classic_bike</td>\n",
       "      <td>1860</td>\n",
       "      <td>-0.050702</td>\n",
       "      <td>0.035218</td>\n",
       "      <td>member</td>\n",
       "    </tr>\n",
       "    <tr>\n",
       "      <th>1</th>\n",
       "      <td>2</td>\n",
       "      <td>1E0145613A209000</td>\n",
       "      <td>docked_bike</td>\n",
       "      <td>3840</td>\n",
       "      <td>0.000000</td>\n",
       "      <td>0.000000</td>\n",
       "      <td>casual</td>\n",
       "    </tr>\n",
       "    <tr>\n",
       "      <th>2</th>\n",
       "      <td>3</td>\n",
       "      <td>E498E15508A80BAD</td>\n",
       "      <td>docked_bike</td>\n",
       "      <td>126226680</td>\n",
       "      <td>0.000000</td>\n",
       "      <td>0.000000</td>\n",
       "      <td>casual</td>\n",
       "    </tr>\n",
       "  </tbody>\n",
       "</table>\n",
       "</div>"
      ],
      "text/plain": [
       "   Unnamed: 0           Ride_ID Rideable_Type  Time_Diff5      Lat5  \\\n",
       "0           1  6C992BD37A98A63F  classic_bike        1860 -0.050702   \n",
       "1           2  1E0145613A209000   docked_bike        3840  0.000000   \n",
       "2           3  E498E15508A80BAD   docked_bike   126226680  0.000000   \n",
       "\n",
       "   Ride_Lng5  Status  \n",
       "0   0.035218  member  \n",
       "1   0.000000  casual  \n",
       "2   0.000000  casual  "
      ]
     },
     "execution_count": 262,
     "metadata": {},
     "output_type": "execute_result"
    }
   ],
   "source": [
    "#view few rows of the dataset\n",
    "LRL5.head(3)"
   ]
  },
  {
   "cell_type": "code",
   "execution_count": 263,
   "id": "faa8a165",
   "metadata": {},
   "outputs": [],
   "source": [
    "#import dataset\n",
    "LRL6 = pd.read_csv('C:/Users/LILIAN/Desktop/Exported Datasets from R/All_LessRideLength/LessRideLength_Jun_df.csv')"
   ]
  },
  {
   "cell_type": "code",
   "execution_count": 264,
   "id": "fafff7fe",
   "metadata": {},
   "outputs": [
    {
     "data": {
      "text/plain": [
       "(336882, 7)"
      ]
     },
     "execution_count": 264,
     "metadata": {},
     "output_type": "execute_result"
    }
   ],
   "source": [
    "#number of rows and columns\n",
    "LRL6.shape"
   ]
  },
  {
   "cell_type": "code",
   "execution_count": 265,
   "id": "3bb36d1c",
   "metadata": {},
   "outputs": [
    {
     "data": {
      "text/html": [
       "<div>\n",
       "<style scoped>\n",
       "    .dataframe tbody tr th:only-of-type {\n",
       "        vertical-align: middle;\n",
       "    }\n",
       "\n",
       "    .dataframe tbody tr th {\n",
       "        vertical-align: top;\n",
       "    }\n",
       "\n",
       "    .dataframe thead th {\n",
       "        text-align: right;\n",
       "    }\n",
       "</style>\n",
       "<table border=\"1\" class=\"dataframe\">\n",
       "  <thead>\n",
       "    <tr style=\"text-align: right;\">\n",
       "      <th></th>\n",
       "      <th>Unnamed: 0</th>\n",
       "      <th>Ride_ID</th>\n",
       "      <th>Rideable_Type</th>\n",
       "      <th>Time_Diff6</th>\n",
       "      <th>Lat6</th>\n",
       "      <th>Ride_Lng6</th>\n",
       "      <th>Status</th>\n",
       "    </tr>\n",
       "  </thead>\n",
       "  <tbody>\n",
       "    <tr>\n",
       "      <th>0</th>\n",
       "      <td>1</td>\n",
       "      <td>6C992BD37A98A63F</td>\n",
       "      <td>classic_bike</td>\n",
       "      <td>1860</td>\n",
       "      <td>-0.050702</td>\n",
       "      <td>0.035218</td>\n",
       "      <td>member</td>\n",
       "    </tr>\n",
       "    <tr>\n",
       "      <th>1</th>\n",
       "      <td>2</td>\n",
       "      <td>1E0145613A209000</td>\n",
       "      <td>docked_bike</td>\n",
       "      <td>3840</td>\n",
       "      <td>0.000000</td>\n",
       "      <td>0.000000</td>\n",
       "      <td>casual</td>\n",
       "    </tr>\n",
       "    <tr>\n",
       "      <th>2</th>\n",
       "      <td>3</td>\n",
       "      <td>E498E15508A80BAD</td>\n",
       "      <td>docked_bike</td>\n",
       "      <td>126226680</td>\n",
       "      <td>0.000000</td>\n",
       "      <td>0.000000</td>\n",
       "      <td>casual</td>\n",
       "    </tr>\n",
       "  </tbody>\n",
       "</table>\n",
       "</div>"
      ],
      "text/plain": [
       "   Unnamed: 0           Ride_ID Rideable_Type  Time_Diff6      Lat6  \\\n",
       "0           1  6C992BD37A98A63F  classic_bike        1860 -0.050702   \n",
       "1           2  1E0145613A209000   docked_bike        3840  0.000000   \n",
       "2           3  E498E15508A80BAD   docked_bike   126226680  0.000000   \n",
       "\n",
       "   Ride_Lng6  Status  \n",
       "0   0.035218  member  \n",
       "1   0.000000  casual  \n",
       "2   0.000000  casual  "
      ]
     },
     "execution_count": 265,
     "metadata": {},
     "output_type": "execute_result"
    }
   ],
   "source": [
    "#view few rows of the dataset\n",
    "LRL6.head(3)"
   ]
  },
  {
   "cell_type": "code",
   "execution_count": 266,
   "id": "d8b6410e",
   "metadata": {},
   "outputs": [],
   "source": [
    "#import dataset\n",
    "LRL7 = pd.read_csv('C:/Users/LILIAN/Desktop/Exported Datasets from R/All_LessRideLength/LessRideLength_Jul_df.csv')"
   ]
  },
  {
   "cell_type": "code",
   "execution_count": 267,
   "id": "83d7f5f4",
   "metadata": {},
   "outputs": [
    {
     "data": {
      "text/plain": [
       "(531058, 7)"
      ]
     },
     "execution_count": 267,
     "metadata": {},
     "output_type": "execute_result"
    }
   ],
   "source": [
    "#number of rows and columns\n",
    "LRL7.shape"
   ]
  },
  {
   "cell_type": "code",
   "execution_count": 268,
   "id": "d4cde8f5",
   "metadata": {},
   "outputs": [
    {
     "data": {
      "text/html": [
       "<div>\n",
       "<style scoped>\n",
       "    .dataframe tbody tr th:only-of-type {\n",
       "        vertical-align: middle;\n",
       "    }\n",
       "\n",
       "    .dataframe tbody tr th {\n",
       "        vertical-align: top;\n",
       "    }\n",
       "\n",
       "    .dataframe thead th {\n",
       "        text-align: right;\n",
       "    }\n",
       "</style>\n",
       "<table border=\"1\" class=\"dataframe\">\n",
       "  <thead>\n",
       "    <tr style=\"text-align: right;\">\n",
       "      <th></th>\n",
       "      <th>Unnamed: 0</th>\n",
       "      <th>Ride_ID</th>\n",
       "      <th>Rideable_Type</th>\n",
       "      <th>Time_Diff7</th>\n",
       "      <th>Lat7</th>\n",
       "      <th>Ride_Lng7</th>\n",
       "      <th>Status</th>\n",
       "    </tr>\n",
       "  </thead>\n",
       "  <tbody>\n",
       "    <tr>\n",
       "      <th>0</th>\n",
       "      <td>1</td>\n",
       "      <td>C809ED75D6160B2A</td>\n",
       "      <td>electric_bike</td>\n",
       "      <td>720</td>\n",
       "      <td>0.01</td>\n",
       "      <td>-0.02</td>\n",
       "      <td>casual</td>\n",
       "    </tr>\n",
       "    <tr>\n",
       "      <th>1</th>\n",
       "      <td>2</td>\n",
       "      <td>DD59FDCE0ACACAF3</td>\n",
       "      <td>electric_bike</td>\n",
       "      <td>2700</td>\n",
       "      <td>0.09</td>\n",
       "      <td>-0.04</td>\n",
       "      <td>casual</td>\n",
       "    </tr>\n",
       "    <tr>\n",
       "      <th>2</th>\n",
       "      <td>3</td>\n",
       "      <td>0AB83CB88C43EFC2</td>\n",
       "      <td>electric_bike</td>\n",
       "      <td>60</td>\n",
       "      <td>0.00</td>\n",
       "      <td>0.00</td>\n",
       "      <td>casual</td>\n",
       "    </tr>\n",
       "  </tbody>\n",
       "</table>\n",
       "</div>"
      ],
      "text/plain": [
       "   Unnamed: 0           Ride_ID  Rideable_Type  Time_Diff7  Lat7  Ride_Lng7  \\\n",
       "0           1  C809ED75D6160B2A  electric_bike         720  0.01      -0.02   \n",
       "1           2  DD59FDCE0ACACAF3  electric_bike        2700  0.09      -0.04   \n",
       "2           3  0AB83CB88C43EFC2  electric_bike          60  0.00       0.00   \n",
       "\n",
       "   Status  \n",
       "0  casual  \n",
       "1  casual  \n",
       "2  casual  "
      ]
     },
     "execution_count": 268,
     "metadata": {},
     "output_type": "execute_result"
    }
   ],
   "source": [
    "#view few rows of the dataset\n",
    "LRL7.head(3)"
   ]
  },
  {
   "cell_type": "code",
   "execution_count": 269,
   "id": "a81b55e0",
   "metadata": {},
   "outputs": [],
   "source": [
    "#import dataset\n",
    "LRL8 = pd.read_csv('C:/Users/LILIAN/Desktop/Exported Datasets from R/All_LessRideLength/LessRideLength_Aug_df.csv')"
   ]
  },
  {
   "cell_type": "code",
   "execution_count": 270,
   "id": "ceac16a9",
   "metadata": {},
   "outputs": [
    {
     "data": {
      "text/plain": [
       "(728687, 6)"
      ]
     },
     "execution_count": 270,
     "metadata": {},
     "output_type": "execute_result"
    }
   ],
   "source": [
    "#number of rows and columns\n",
    "LRL8.shape"
   ]
  },
  {
   "cell_type": "code",
   "execution_count": 271,
   "id": "0149f6f2",
   "metadata": {},
   "outputs": [
    {
     "data": {
      "text/html": [
       "<div>\n",
       "<style scoped>\n",
       "    .dataframe tbody tr th:only-of-type {\n",
       "        vertical-align: middle;\n",
       "    }\n",
       "\n",
       "    .dataframe tbody tr th {\n",
       "        vertical-align: top;\n",
       "    }\n",
       "\n",
       "    .dataframe thead th {\n",
       "        text-align: right;\n",
       "    }\n",
       "</style>\n",
       "<table border=\"1\" class=\"dataframe\">\n",
       "  <thead>\n",
       "    <tr style=\"text-align: right;\">\n",
       "      <th></th>\n",
       "      <th>Unnamed: 0</th>\n",
       "      <th>Ride_ID</th>\n",
       "      <th>Rideable_Type</th>\n",
       "      <th>Time_Diff8</th>\n",
       "      <th>Ride_Lng8</th>\n",
       "      <th>Status</th>\n",
       "    </tr>\n",
       "  </thead>\n",
       "  <tbody>\n",
       "    <tr>\n",
       "      <th>0</th>\n",
       "      <td>1</td>\n",
       "      <td>99FEC93BA843FB20</td>\n",
       "      <td>electric_bike</td>\n",
       "      <td>180</td>\n",
       "      <td>0.01</td>\n",
       "      <td>member</td>\n",
       "    </tr>\n",
       "    <tr>\n",
       "      <th>1</th>\n",
       "      <td>2</td>\n",
       "      <td>06048DCFC8520CAF</td>\n",
       "      <td>electric_bike</td>\n",
       "      <td>360</td>\n",
       "      <td>0.01</td>\n",
       "      <td>member</td>\n",
       "    </tr>\n",
       "    <tr>\n",
       "      <th>2</th>\n",
       "      <td>3</td>\n",
       "      <td>9598066F68045DF2</td>\n",
       "      <td>electric_bike</td>\n",
       "      <td>360</td>\n",
       "      <td>-0.01</td>\n",
       "      <td>member</td>\n",
       "    </tr>\n",
       "  </tbody>\n",
       "</table>\n",
       "</div>"
      ],
      "text/plain": [
       "   Unnamed: 0           Ride_ID  Rideable_Type  Time_Diff8  Ride_Lng8  Status\n",
       "0           1  99FEC93BA843FB20  electric_bike         180       0.01  member\n",
       "1           2  06048DCFC8520CAF  electric_bike         360       0.01  member\n",
       "2           3  9598066F68045DF2  electric_bike         360      -0.01  member"
      ]
     },
     "execution_count": 271,
     "metadata": {},
     "output_type": "execute_result"
    }
   ],
   "source": [
    "#view few rows of the dataset\n",
    "LRL8.head(3)"
   ]
  },
  {
   "cell_type": "code",
   "execution_count": 272,
   "id": "27d4fbf6",
   "metadata": {},
   "outputs": [],
   "source": [
    "#import dataset\n",
    "LRL9 = pd.read_csv('C:/Users/LILIAN/Desktop/Exported Datasets from R/All_LessRideLength/LessRideLength_Sep_df.csv')"
   ]
  },
  {
   "cell_type": "code",
   "execution_count": 273,
   "id": "4e3cc4e1",
   "metadata": {},
   "outputs": [
    {
     "data": {
      "text/plain": [
       "(821379, 7)"
      ]
     },
     "execution_count": 273,
     "metadata": {},
     "output_type": "execute_result"
    }
   ],
   "source": [
    "#number of rows and columns\n",
    "LRL9.shape"
   ]
  },
  {
   "cell_type": "code",
   "execution_count": 274,
   "id": "48e41025",
   "metadata": {},
   "outputs": [
    {
     "data": {
      "text/html": [
       "<div>\n",
       "<style scoped>\n",
       "    .dataframe tbody tr th:only-of-type {\n",
       "        vertical-align: middle;\n",
       "    }\n",
       "\n",
       "    .dataframe tbody tr th {\n",
       "        vertical-align: top;\n",
       "    }\n",
       "\n",
       "    .dataframe thead th {\n",
       "        text-align: right;\n",
       "    }\n",
       "</style>\n",
       "<table border=\"1\" class=\"dataframe\">\n",
       "  <thead>\n",
       "    <tr style=\"text-align: right;\">\n",
       "      <th></th>\n",
       "      <th>Unnamed: 0</th>\n",
       "      <th>Ride_ID</th>\n",
       "      <th>Rideable_Type</th>\n",
       "      <th>Time_Diff9</th>\n",
       "      <th>Lat9</th>\n",
       "      <th>Ride_Lng9</th>\n",
       "      <th>Status</th>\n",
       "    </tr>\n",
       "  </thead>\n",
       "  <tbody>\n",
       "    <tr>\n",
       "      <th>0</th>\n",
       "      <td>1</td>\n",
       "      <td>0A1B623926EF4E16</td>\n",
       "      <td>docked_bike</td>\n",
       "      <td>2100</td>\n",
       "      <td>-0.015384</td>\n",
       "      <td>0.023796</td>\n",
       "      <td>casual</td>\n",
       "    </tr>\n",
       "    <tr>\n",
       "      <th>1</th>\n",
       "      <td>2</td>\n",
       "      <td>B2D5583A5A5E76EE</td>\n",
       "      <td>classic_bike</td>\n",
       "      <td>1140</td>\n",
       "      <td>0.010464</td>\n",
       "      <td>-0.025231</td>\n",
       "      <td>casual</td>\n",
       "    </tr>\n",
       "    <tr>\n",
       "      <th>2</th>\n",
       "      <td>3</td>\n",
       "      <td>6F264597DDBF427A</td>\n",
       "      <td>classic_bike</td>\n",
       "      <td>1080</td>\n",
       "      <td>-0.029789</td>\n",
       "      <td>0.000372</td>\n",
       "      <td>member</td>\n",
       "    </tr>\n",
       "  </tbody>\n",
       "</table>\n",
       "</div>"
      ],
      "text/plain": [
       "   Unnamed: 0           Ride_ID Rideable_Type  Time_Diff9      Lat9  \\\n",
       "0           1  0A1B623926EF4E16   docked_bike        2100 -0.015384   \n",
       "1           2  B2D5583A5A5E76EE  classic_bike        1140  0.010464   \n",
       "2           3  6F264597DDBF427A  classic_bike        1080 -0.029789   \n",
       "\n",
       "   Ride_Lng9  Status  \n",
       "0   0.023796  casual  \n",
       "1  -0.025231  casual  \n",
       "2   0.000372  member  "
      ]
     },
     "execution_count": 274,
     "metadata": {},
     "output_type": "execute_result"
    }
   ],
   "source": [
    "#view few rows of the dataset\n",
    "LRL9.head(3)"
   ]
  },
  {
   "cell_type": "code",
   "execution_count": 275,
   "id": "03943772",
   "metadata": {},
   "outputs": [],
   "source": [
    "#import dataset\n",
    "LRL10 = pd.read_csv('C:/Users/LILIAN/Desktop/Exported Datasets from R/All_LessRideLength/LessRideLength_Oct_df.csv')"
   ]
  },
  {
   "cell_type": "code",
   "execution_count": 276,
   "id": "a260727a",
   "metadata": {},
   "outputs": [
    {
     "data": {
      "text/plain": [
       "(803163, 7)"
      ]
     },
     "execution_count": 276,
     "metadata": {},
     "output_type": "execute_result"
    }
   ],
   "source": [
    "#number of rows and columns\n",
    "LRL10.shape"
   ]
  },
  {
   "cell_type": "code",
   "execution_count": 277,
   "id": "a9285cd9",
   "metadata": {},
   "outputs": [
    {
     "data": {
      "text/html": [
       "<div>\n",
       "<style scoped>\n",
       "    .dataframe tbody tr th:only-of-type {\n",
       "        vertical-align: middle;\n",
       "    }\n",
       "\n",
       "    .dataframe tbody tr th {\n",
       "        vertical-align: top;\n",
       "    }\n",
       "\n",
       "    .dataframe thead th {\n",
       "        text-align: right;\n",
       "    }\n",
       "</style>\n",
       "<table border=\"1\" class=\"dataframe\">\n",
       "  <thead>\n",
       "    <tr style=\"text-align: right;\">\n",
       "      <th></th>\n",
       "      <th>Unnamed: 0</th>\n",
       "      <th>Ride_ID</th>\n",
       "      <th>Rideable_Type</th>\n",
       "      <th>Time_Diff10</th>\n",
       "      <th>Lat10</th>\n",
       "      <th>Ride_Lng10</th>\n",
       "      <th>Status</th>\n",
       "    </tr>\n",
       "  </thead>\n",
       "  <tbody>\n",
       "    <tr>\n",
       "      <th>0</th>\n",
       "      <td>1</td>\n",
       "      <td>99103BB87CC6C1BB</td>\n",
       "      <td>electric_bike</td>\n",
       "      <td>420</td>\n",
       "      <td>0.00</td>\n",
       "      <td>0.00</td>\n",
       "      <td>member</td>\n",
       "    </tr>\n",
       "    <tr>\n",
       "      <th>1</th>\n",
       "      <td>2</td>\n",
       "      <td>EAFCCCFB0A3FC5A1</td>\n",
       "      <td>electric_bike</td>\n",
       "      <td>960</td>\n",
       "      <td>0.00</td>\n",
       "      <td>-0.05</td>\n",
       "      <td>member</td>\n",
       "    </tr>\n",
       "    <tr>\n",
       "      <th>2</th>\n",
       "      <td>3</td>\n",
       "      <td>9EF4F46C57AD234D</td>\n",
       "      <td>electric_bike</td>\n",
       "      <td>960</td>\n",
       "      <td>-0.02</td>\n",
       "      <td>0.01</td>\n",
       "      <td>member</td>\n",
       "    </tr>\n",
       "  </tbody>\n",
       "</table>\n",
       "</div>"
      ],
      "text/plain": [
       "   Unnamed: 0           Ride_ID  Rideable_Type  Time_Diff10  Lat10  \\\n",
       "0           1  99103BB87CC6C1BB  electric_bike          420   0.00   \n",
       "1           2  EAFCCCFB0A3FC5A1  electric_bike          960   0.00   \n",
       "2           3  9EF4F46C57AD234D  electric_bike          960  -0.02   \n",
       "\n",
       "   Ride_Lng10  Status  \n",
       "0        0.00  member  \n",
       "1       -0.05  member  \n",
       "2        0.01  member  "
      ]
     },
     "execution_count": 277,
     "metadata": {},
     "output_type": "execute_result"
    }
   ],
   "source": [
    "#view few rows of the dataset\n",
    "LRL10.head(3)"
   ]
  },
  {
   "cell_type": "code",
   "execution_count": 278,
   "id": "1c757b24",
   "metadata": {},
   "outputs": [],
   "source": [
    "#import dataset\n",
    "LRL11 = pd.read_csv('C:/Users/LILIAN/Desktop/Exported Datasets from R/All_LessRideLength/LessRideLength_Nov_df.csv')"
   ]
  },
  {
   "cell_type": "code",
   "execution_count": 279,
   "id": "1a5e1402",
   "metadata": {},
   "outputs": [
    {
     "data": {
      "text/plain": [
       "(518557, 7)"
      ]
     },
     "execution_count": 279,
     "metadata": {},
     "output_type": "execute_result"
    }
   ],
   "source": [
    "#number of rows and columns\n",
    "LRL11.shape"
   ]
  },
  {
   "cell_type": "code",
   "execution_count": 280,
   "id": "08016f10",
   "metadata": {},
   "outputs": [
    {
     "data": {
      "text/html": [
       "<div>\n",
       "<style scoped>\n",
       "    .dataframe tbody tr th:only-of-type {\n",
       "        vertical-align: middle;\n",
       "    }\n",
       "\n",
       "    .dataframe tbody tr th {\n",
       "        vertical-align: top;\n",
       "    }\n",
       "\n",
       "    .dataframe thead th {\n",
       "        text-align: right;\n",
       "    }\n",
       "</style>\n",
       "<table border=\"1\" class=\"dataframe\">\n",
       "  <thead>\n",
       "    <tr style=\"text-align: right;\">\n",
       "      <th></th>\n",
       "      <th>Unnamed: 0</th>\n",
       "      <th>Ride_ID</th>\n",
       "      <th>Rideable_Type</th>\n",
       "      <th>Time_Diff11</th>\n",
       "      <th>Lat11</th>\n",
       "      <th>Ride_Lng11</th>\n",
       "      <th>Status</th>\n",
       "    </tr>\n",
       "  </thead>\n",
       "  <tbody>\n",
       "    <tr>\n",
       "      <th>0</th>\n",
       "      <td>1</td>\n",
       "      <td>9A4A8801674A3995</td>\n",
       "      <td>classic_bike</td>\n",
       "      <td>300</td>\n",
       "      <td>0.004528</td>\n",
       "      <td>-0.004081</td>\n",
       "      <td>member</td>\n",
       "    </tr>\n",
       "    <tr>\n",
       "      <th>1</th>\n",
       "      <td>2</td>\n",
       "      <td>6310A715D7121C8C</td>\n",
       "      <td>electric_bike</td>\n",
       "      <td>900</td>\n",
       "      <td>-0.037039</td>\n",
       "      <td>0.011167</td>\n",
       "      <td>member</td>\n",
       "    </tr>\n",
       "    <tr>\n",
       "      <th>2</th>\n",
       "      <td>3</td>\n",
       "      <td>7EFD1EEF66C09AB3</td>\n",
       "      <td>classic_bike</td>\n",
       "      <td>1200</td>\n",
       "      <td>-0.029366</td>\n",
       "      <td>0.002103</td>\n",
       "      <td>member</td>\n",
       "    </tr>\n",
       "  </tbody>\n",
       "</table>\n",
       "</div>"
      ],
      "text/plain": [
       "   Unnamed: 0           Ride_ID  Rideable_Type  Time_Diff11     Lat11  \\\n",
       "0           1  9A4A8801674A3995   classic_bike          300  0.004528   \n",
       "1           2  6310A715D7121C8C  electric_bike          900 -0.037039   \n",
       "2           3  7EFD1EEF66C09AB3   classic_bike         1200 -0.029366   \n",
       "\n",
       "   Ride_Lng11  Status  \n",
       "0   -0.004081  member  \n",
       "1    0.011167  member  \n",
       "2    0.002103  member  "
      ]
     },
     "execution_count": 280,
     "metadata": {},
     "output_type": "execute_result"
    }
   ],
   "source": [
    "#view few rows of the dataset\n",
    "LRL11.head(3)"
   ]
  },
  {
   "cell_type": "code",
   "execution_count": 281,
   "id": "c8bb2c6a",
   "metadata": {},
   "outputs": [],
   "source": [
    "#import dataset\n",
    "LRL12 = pd.read_csv('C:/Users/LILIAN/Desktop/Exported Datasets from R/All_LessRideLength/LessRideLength_Dec_df.csv')"
   ]
  },
  {
   "cell_type": "code",
   "execution_count": 282,
   "id": "c823cf80",
   "metadata": {},
   "outputs": [
    {
     "data": {
      "text/plain": [
       "(630310, 7)"
      ]
     },
     "execution_count": 282,
     "metadata": {},
     "output_type": "execute_result"
    }
   ],
   "source": [
    "#number of rows and columns\n",
    "LRL12.shape"
   ]
  },
  {
   "cell_type": "code",
   "execution_count": 283,
   "id": "a8bf5687",
   "metadata": {},
   "outputs": [
    {
     "data": {
      "text/html": [
       "<div>\n",
       "<style scoped>\n",
       "    .dataframe tbody tr th:only-of-type {\n",
       "        vertical-align: middle;\n",
       "    }\n",
       "\n",
       "    .dataframe tbody tr th {\n",
       "        vertical-align: top;\n",
       "    }\n",
       "\n",
       "    .dataframe thead th {\n",
       "        text-align: right;\n",
       "    }\n",
       "</style>\n",
       "<table border=\"1\" class=\"dataframe\">\n",
       "  <thead>\n",
       "    <tr style=\"text-align: right;\">\n",
       "      <th></th>\n",
       "      <th>Unnamed: 0</th>\n",
       "      <th>Ride_ID</th>\n",
       "      <th>Rideable_Type</th>\n",
       "      <th>Time_Diff12</th>\n",
       "      <th>Lat12</th>\n",
       "      <th>Ride_Lng12</th>\n",
       "      <th>Status</th>\n",
       "    </tr>\n",
       "  </thead>\n",
       "  <tbody>\n",
       "    <tr>\n",
       "      <th>0</th>\n",
       "      <td>1</td>\n",
       "      <td>620BC6107255BF4C</td>\n",
       "      <td>electric_bike</td>\n",
       "      <td>180</td>\n",
       "      <td>-0.000814</td>\n",
       "      <td>-0.008495</td>\n",
       "      <td>member</td>\n",
       "    </tr>\n",
       "    <tr>\n",
       "      <th>1</th>\n",
       "      <td>2</td>\n",
       "      <td>4471C70731AB2E45</td>\n",
       "      <td>electric_bike</td>\n",
       "      <td>120</td>\n",
       "      <td>0.000000</td>\n",
       "      <td>0.010000</td>\n",
       "      <td>member</td>\n",
       "    </tr>\n",
       "    <tr>\n",
       "      <th>2</th>\n",
       "      <td>3</td>\n",
       "      <td>26CA69D43D15EE14</td>\n",
       "      <td>electric_bike</td>\n",
       "      <td>480</td>\n",
       "      <td>-0.020000</td>\n",
       "      <td>0.020000</td>\n",
       "      <td>member</td>\n",
       "    </tr>\n",
       "  </tbody>\n",
       "</table>\n",
       "</div>"
      ],
      "text/plain": [
       "   Unnamed: 0           Ride_ID  Rideable_Type  Time_Diff12     Lat12  \\\n",
       "0           1  620BC6107255BF4C  electric_bike          180 -0.000814   \n",
       "1           2  4471C70731AB2E45  electric_bike          120  0.000000   \n",
       "2           3  26CA69D43D15EE14  electric_bike          480 -0.020000   \n",
       "\n",
       "   Ride_Lng12  Status  \n",
       "0   -0.008495  member  \n",
       "1    0.010000  member  \n",
       "2    0.020000  member  "
      ]
     },
     "execution_count": 283,
     "metadata": {},
     "output_type": "execute_result"
    }
   ],
   "source": [
    "#view few rows of the dataset\n",
    "LRL12.head(3)"
   ]
  },
  {
   "cell_type": "code",
   "execution_count": 347,
   "id": "c24773fa",
   "metadata": {},
   "outputs": [],
   "source": [
    "#MERGE TIME DIFFERENCE OF ALL MONTHS INTO AS ONE YEAR\n",
    "Less_Ride_Lenght = pd.concat([LRL1,LRL2,LRL3,LRL4,LRL5,LRL6,LRL7,LRL8,LRL9,LRL10,LRL11,LRL12])"
   ]
  },
  {
   "cell_type": "code",
   "execution_count": 348,
   "id": "943ad5d4",
   "metadata": {},
   "outputs": [
    {
     "data": {
      "text/plain": [
       "(5198509, 39)"
      ]
     },
     "execution_count": 348,
     "metadata": {},
     "output_type": "execute_result"
    }
   ],
   "source": [
    "#number of rows and columns\n",
    "Less_Ride_Lenght.shape"
   ]
  },
  {
   "cell_type": "code",
   "execution_count": 350,
   "id": "fa9432b8",
   "metadata": {},
   "outputs": [
    {
     "data": {
      "text/html": [
       "<div>\n",
       "<style scoped>\n",
       "    .dataframe tbody tr th:only-of-type {\n",
       "        vertical-align: middle;\n",
       "    }\n",
       "\n",
       "    .dataframe tbody tr th {\n",
       "        vertical-align: top;\n",
       "    }\n",
       "\n",
       "    .dataframe thead th {\n",
       "        text-align: right;\n",
       "    }\n",
       "</style>\n",
       "<table border=\"1\" class=\"dataframe\">\n",
       "  <thead>\n",
       "    <tr style=\"text-align: right;\">\n",
       "      <th></th>\n",
       "      <th>Unnamed: 0</th>\n",
       "      <th>Ride_ID</th>\n",
       "      <th>Rideable_Type</th>\n",
       "      <th>Time_Diff1</th>\n",
       "      <th>Lat1</th>\n",
       "      <th>Ride_Lng1</th>\n",
       "      <th>Status</th>\n",
       "      <th>Time_Diff2</th>\n",
       "      <th>Lat2</th>\n",
       "      <th>Ride_Lng2</th>\n",
       "      <th>...</th>\n",
       "      <th>Ride_Lng9</th>\n",
       "      <th>Time_Diff10</th>\n",
       "      <th>Lat10</th>\n",
       "      <th>Ride_Lng10</th>\n",
       "      <th>Time_Diff11</th>\n",
       "      <th>Lat11</th>\n",
       "      <th>Ride_Lng11</th>\n",
       "      <th>Time_Diff12</th>\n",
       "      <th>Lat12</th>\n",
       "      <th>Ride_Lng12</th>\n",
       "    </tr>\n",
       "  </thead>\n",
       "  <tbody>\n",
       "    <tr>\n",
       "      <th>0</th>\n",
       "      <td>1</td>\n",
       "      <td>70B6A9A437D4C30D</td>\n",
       "      <td>classic_bike</td>\n",
       "      <td>660.0</td>\n",
       "      <td>-0.01099</td>\n",
       "      <td>-0.01034</td>\n",
       "      <td>member</td>\n",
       "      <td>NaN</td>\n",
       "      <td>NaN</td>\n",
       "      <td>NaN</td>\n",
       "      <td>...</td>\n",
       "      <td>NaN</td>\n",
       "      <td>NaN</td>\n",
       "      <td>NaN</td>\n",
       "      <td>NaN</td>\n",
       "      <td>NaN</td>\n",
       "      <td>NaN</td>\n",
       "      <td>NaN</td>\n",
       "      <td>NaN</td>\n",
       "      <td>NaN</td>\n",
       "      <td>NaN</td>\n",
       "    </tr>\n",
       "    <tr>\n",
       "      <th>1</th>\n",
       "      <td>2</td>\n",
       "      <td>158A465D4E74C54A</td>\n",
       "      <td>electric_bike</td>\n",
       "      <td>420.0</td>\n",
       "      <td>0.02000</td>\n",
       "      <td>0.00000</td>\n",
       "      <td>member</td>\n",
       "      <td>NaN</td>\n",
       "      <td>NaN</td>\n",
       "      <td>NaN</td>\n",
       "      <td>...</td>\n",
       "      <td>NaN</td>\n",
       "      <td>NaN</td>\n",
       "      <td>NaN</td>\n",
       "      <td>NaN</td>\n",
       "      <td>NaN</td>\n",
       "      <td>NaN</td>\n",
       "      <td>NaN</td>\n",
       "      <td>NaN</td>\n",
       "      <td>NaN</td>\n",
       "      <td>NaN</td>\n",
       "    </tr>\n",
       "    <tr>\n",
       "      <th>2</th>\n",
       "      <td>3</td>\n",
       "      <td>5262016E0F1F2F9A</td>\n",
       "      <td>electric_bike</td>\n",
       "      <td>420.0</td>\n",
       "      <td>-0.02000</td>\n",
       "      <td>0.01000</td>\n",
       "      <td>member</td>\n",
       "      <td>NaN</td>\n",
       "      <td>NaN</td>\n",
       "      <td>NaN</td>\n",
       "      <td>...</td>\n",
       "      <td>NaN</td>\n",
       "      <td>NaN</td>\n",
       "      <td>NaN</td>\n",
       "      <td>NaN</td>\n",
       "      <td>NaN</td>\n",
       "      <td>NaN</td>\n",
       "      <td>NaN</td>\n",
       "      <td>NaN</td>\n",
       "      <td>NaN</td>\n",
       "      <td>NaN</td>\n",
       "    </tr>\n",
       "  </tbody>\n",
       "</table>\n",
       "<p>3 rows × 39 columns</p>\n",
       "</div>"
      ],
      "text/plain": [
       "   Unnamed: 0           Ride_ID  Rideable_Type  Time_Diff1     Lat1  \\\n",
       "0           1  70B6A9A437D4C30D   classic_bike       660.0 -0.01099   \n",
       "1           2  158A465D4E74C54A  electric_bike       420.0  0.02000   \n",
       "2           3  5262016E0F1F2F9A  electric_bike       420.0 -0.02000   \n",
       "\n",
       "   Ride_Lng1  Status  Time_Diff2  Lat2  Ride_Lng2  ...  Ride_Lng9  \\\n",
       "0   -0.01034  member         NaN   NaN        NaN  ...        NaN   \n",
       "1    0.00000  member         NaN   NaN        NaN  ...        NaN   \n",
       "2    0.01000  member         NaN   NaN        NaN  ...        NaN   \n",
       "\n",
       "   Time_Diff10  Lat10  Ride_Lng10  Time_Diff11  Lat11  Ride_Lng11  \\\n",
       "0          NaN    NaN         NaN          NaN    NaN         NaN   \n",
       "1          NaN    NaN         NaN          NaN    NaN         NaN   \n",
       "2          NaN    NaN         NaN          NaN    NaN         NaN   \n",
       "\n",
       "   Time_Diff12  Lat12  Ride_Lng12  \n",
       "0          NaN    NaN         NaN  \n",
       "1          NaN    NaN         NaN  \n",
       "2          NaN    NaN         NaN  \n",
       "\n",
       "[3 rows x 39 columns]"
      ]
     },
     "execution_count": 350,
     "metadata": {},
     "output_type": "execute_result"
    }
   ],
   "source": [
    "#view few rows of the dataset\n",
    "Less_Ride_Lenght.head(3)"
   ]
  },
  {
   "cell_type": "markdown",
   "id": "4c1071cd",
   "metadata": {},
   "source": [
    "WORKING ON THE TIME DIFFERENCE LESS THAN 400 FOR ALL MONTHS"
   ]
  },
  {
   "cell_type": "code",
   "execution_count": 287,
   "id": "3e9a57a6",
   "metadata": {},
   "outputs": [],
   "source": [
    "#import dataset\n",
    "LT1 = pd.read_csv('C:/Users/LILIAN/Desktop/Exported Datasets from R/All_LessTimeDiff/LessTimeDiff_Jan_df.csv')"
   ]
  },
  {
   "cell_type": "code",
   "execution_count": 288,
   "id": "ca453aee",
   "metadata": {},
   "outputs": [
    {
     "data": {
      "text/plain": [
       "(39869, 7)"
      ]
     },
     "execution_count": 288,
     "metadata": {},
     "output_type": "execute_result"
    }
   ],
   "source": [
    "#number of rows and columns\n",
    "LT1.shape"
   ]
  },
  {
   "cell_type": "code",
   "execution_count": 289,
   "id": "ce6a0260",
   "metadata": {},
   "outputs": [
    {
     "data": {
      "text/html": [
       "<div>\n",
       "<style scoped>\n",
       "    .dataframe tbody tr th:only-of-type {\n",
       "        vertical-align: middle;\n",
       "    }\n",
       "\n",
       "    .dataframe tbody tr th {\n",
       "        vertical-align: top;\n",
       "    }\n",
       "\n",
       "    .dataframe thead th {\n",
       "        text-align: right;\n",
       "    }\n",
       "</style>\n",
       "<table border=\"1\" class=\"dataframe\">\n",
       "  <thead>\n",
       "    <tr style=\"text-align: right;\">\n",
       "      <th></th>\n",
       "      <th>Unnamed: 0</th>\n",
       "      <th>Ride_ID</th>\n",
       "      <th>Rideable_Type</th>\n",
       "      <th>Time_Diff1</th>\n",
       "      <th>Lat1</th>\n",
       "      <th>Ride_Lng1</th>\n",
       "      <th>Status</th>\n",
       "    </tr>\n",
       "  </thead>\n",
       "  <tbody>\n",
       "    <tr>\n",
       "      <th>0</th>\n",
       "      <td>1</td>\n",
       "      <td>BE119628E44F871E</td>\n",
       "      <td>electric_bike</td>\n",
       "      <td>360</td>\n",
       "      <td>0.01</td>\n",
       "      <td>0.0</td>\n",
       "      <td>member</td>\n",
       "    </tr>\n",
       "    <tr>\n",
       "      <th>1</th>\n",
       "      <td>2</td>\n",
       "      <td>69AF78D57854E110</td>\n",
       "      <td>electric_bike</td>\n",
       "      <td>120</td>\n",
       "      <td>0.00</td>\n",
       "      <td>0.0</td>\n",
       "      <td>member</td>\n",
       "    </tr>\n",
       "    <tr>\n",
       "      <th>2</th>\n",
       "      <td>3</td>\n",
       "      <td>05F41F5137B5048E</td>\n",
       "      <td>electric_bike</td>\n",
       "      <td>0</td>\n",
       "      <td>0.00</td>\n",
       "      <td>0.0</td>\n",
       "      <td>member</td>\n",
       "    </tr>\n",
       "  </tbody>\n",
       "</table>\n",
       "</div>"
      ],
      "text/plain": [
       "   Unnamed: 0           Ride_ID  Rideable_Type  Time_Diff1  Lat1  Ride_Lng1  \\\n",
       "0           1  BE119628E44F871E  electric_bike         360  0.01        0.0   \n",
       "1           2  69AF78D57854E110  electric_bike         120  0.00        0.0   \n",
       "2           3  05F41F5137B5048E  electric_bike           0  0.00        0.0   \n",
       "\n",
       "   Status  \n",
       "0  member  \n",
       "1  member  \n",
       "2  member  "
      ]
     },
     "execution_count": 289,
     "metadata": {},
     "output_type": "execute_result"
    }
   ],
   "source": [
    "#view few rows of the dataset\n",
    "LT1.head(3)"
   ]
  },
  {
   "cell_type": "code",
   "execution_count": 290,
   "id": "417760fe",
   "metadata": {},
   "outputs": [],
   "source": [
    "#import dataset\n",
    "LT2 = pd.read_csv('C:/Users/LILIAN/Desktop/Exported Datasets from R/All_LessTimeDiff/LessTimeDiff_Feb_df.csv')"
   ]
  },
  {
   "cell_type": "code",
   "execution_count": 291,
   "id": "31d3344e",
   "metadata": {},
   "outputs": [
    {
     "data": {
      "text/plain": [
       "(31134, 7)"
      ]
     },
     "execution_count": 291,
     "metadata": {},
     "output_type": "execute_result"
    }
   ],
   "source": [
    "#number of rows and columns\n",
    "LT2.shape"
   ]
  },
  {
   "cell_type": "code",
   "execution_count": 292,
   "id": "7afe1282",
   "metadata": {},
   "outputs": [
    {
     "data": {
      "text/html": [
       "<div>\n",
       "<style scoped>\n",
       "    .dataframe tbody tr th:only-of-type {\n",
       "        vertical-align: middle;\n",
       "    }\n",
       "\n",
       "    .dataframe tbody tr th {\n",
       "        vertical-align: top;\n",
       "    }\n",
       "\n",
       "    .dataframe thead th {\n",
       "        text-align: right;\n",
       "    }\n",
       "</style>\n",
       "<table border=\"1\" class=\"dataframe\">\n",
       "  <thead>\n",
       "    <tr style=\"text-align: right;\">\n",
       "      <th></th>\n",
       "      <th>Unnamed: 0</th>\n",
       "      <th>Ride_ID</th>\n",
       "      <th>Rideable_Type</th>\n",
       "      <th>Time_Diff2</th>\n",
       "      <th>Lat2</th>\n",
       "      <th>Ride_Lng2</th>\n",
       "      <th>Status</th>\n",
       "    </tr>\n",
       "  </thead>\n",
       "  <tbody>\n",
       "    <tr>\n",
       "      <th>0</th>\n",
       "      <td>1</td>\n",
       "      <td>DC88F20C2C55F27F</td>\n",
       "      <td>electric_bike</td>\n",
       "      <td>240</td>\n",
       "      <td>0.000333</td>\n",
       "      <td>-0.006707</td>\n",
       "      <td>member</td>\n",
       "    </tr>\n",
       "    <tr>\n",
       "      <th>1</th>\n",
       "      <td>2</td>\n",
       "      <td>EC45C94683FE3F27</td>\n",
       "      <td>electric_bike</td>\n",
       "      <td>120</td>\n",
       "      <td>0.000313</td>\n",
       "      <td>0.003357</td>\n",
       "      <td>member</td>\n",
       "    </tr>\n",
       "    <tr>\n",
       "      <th>2</th>\n",
       "      <td>3</td>\n",
       "      <td>BE5E8EB4E7263A0B</td>\n",
       "      <td>electric_bike</td>\n",
       "      <td>0</td>\n",
       "      <td>0.000326</td>\n",
       "      <td>0.003303</td>\n",
       "      <td>casual</td>\n",
       "    </tr>\n",
       "  </tbody>\n",
       "</table>\n",
       "</div>"
      ],
      "text/plain": [
       "   Unnamed: 0           Ride_ID  Rideable_Type  Time_Diff2      Lat2  \\\n",
       "0           1  DC88F20C2C55F27F  electric_bike         240  0.000333   \n",
       "1           2  EC45C94683FE3F27  electric_bike         120  0.000313   \n",
       "2           3  BE5E8EB4E7263A0B  electric_bike           0  0.000326   \n",
       "\n",
       "   Ride_Lng2  Status  \n",
       "0  -0.006707  member  \n",
       "1   0.003357  member  \n",
       "2   0.003303  casual  "
      ]
     },
     "execution_count": 292,
     "metadata": {},
     "output_type": "execute_result"
    }
   ],
   "source": [
    "#view few rows of the dataset\n",
    "LT2.head(3)"
   ]
  },
  {
   "cell_type": "code",
   "execution_count": 293,
   "id": "fd5745a2",
   "metadata": {},
   "outputs": [],
   "source": [
    "#import dataset\n",
    "LT3 = pd.read_csv('C:/Users/LILIAN/Desktop/Exported Datasets from R/All_LessTimeDiff/LessTimeDiff_Mar_df.csv')"
   ]
  },
  {
   "cell_type": "code",
   "execution_count": 294,
   "id": "73a574f2",
   "metadata": {},
   "outputs": [
    {
     "data": {
      "text/plain": [
       "(12447, 7)"
      ]
     },
     "execution_count": 294,
     "metadata": {},
     "output_type": "execute_result"
    }
   ],
   "source": [
    "#number of rows and columns\n",
    "LT3.shape"
   ]
  },
  {
   "cell_type": "code",
   "execution_count": 295,
   "id": "3a22fcd8",
   "metadata": {},
   "outputs": [
    {
     "data": {
      "text/html": [
       "<div>\n",
       "<style scoped>\n",
       "    .dataframe tbody tr th:only-of-type {\n",
       "        vertical-align: middle;\n",
       "    }\n",
       "\n",
       "    .dataframe tbody tr th {\n",
       "        vertical-align: top;\n",
       "    }\n",
       "\n",
       "    .dataframe thead th {\n",
       "        text-align: right;\n",
       "    }\n",
       "</style>\n",
       "<table border=\"1\" class=\"dataframe\">\n",
       "  <thead>\n",
       "    <tr style=\"text-align: right;\">\n",
       "      <th></th>\n",
       "      <th>Unnamed: 0</th>\n",
       "      <th>Ride_ID</th>\n",
       "      <th>Rideable_Type</th>\n",
       "      <th>Time_Diff3</th>\n",
       "      <th>Lat3</th>\n",
       "      <th>Ride_Lng3</th>\n",
       "      <th>Status</th>\n",
       "    </tr>\n",
       "  </thead>\n",
       "  <tbody>\n",
       "    <tr>\n",
       "      <th>0</th>\n",
       "      <td>1</td>\n",
       "      <td>B32D3199F1C2E75B</td>\n",
       "      <td>classic_bike</td>\n",
       "      <td>300</td>\n",
       "      <td>-0.007485</td>\n",
       "      <td>0.001866</td>\n",
       "      <td>member</td>\n",
       "    </tr>\n",
       "    <tr>\n",
       "      <th>1</th>\n",
       "      <td>2</td>\n",
       "      <td>BDAA7E3494E8D545</td>\n",
       "      <td>electric_bike</td>\n",
       "      <td>360</td>\n",
       "      <td>0.000922</td>\n",
       "      <td>0.011726</td>\n",
       "      <td>casual</td>\n",
       "    </tr>\n",
       "    <tr>\n",
       "      <th>2</th>\n",
       "      <td>3</td>\n",
       "      <td>A772742351171257</td>\n",
       "      <td>classic_bike</td>\n",
       "      <td>60</td>\n",
       "      <td>0.000000</td>\n",
       "      <td>0.000000</td>\n",
       "      <td>casual</td>\n",
       "    </tr>\n",
       "  </tbody>\n",
       "</table>\n",
       "</div>"
      ],
      "text/plain": [
       "   Unnamed: 0           Ride_ID  Rideable_Type  Time_Diff3      Lat3  \\\n",
       "0           1  B32D3199F1C2E75B   classic_bike         300 -0.007485   \n",
       "1           2  BDAA7E3494E8D545  electric_bike         360  0.000922   \n",
       "2           3  A772742351171257   classic_bike          60  0.000000   \n",
       "\n",
       "   Ride_Lng3  Status  \n",
       "0   0.001866  member  \n",
       "1   0.011726  casual  \n",
       "2   0.000000  casual  "
      ]
     },
     "execution_count": 295,
     "metadata": {},
     "output_type": "execute_result"
    }
   ],
   "source": [
    "#view few rows of the dataset\n",
    "LT3.head(3)"
   ]
  },
  {
   "cell_type": "code",
   "execution_count": 296,
   "id": "b36b4fd6",
   "metadata": {},
   "outputs": [],
   "source": [
    "#import dataset\n",
    "LT4 = pd.read_csv('C:/Users/LILIAN/Desktop/Exported Datasets from R/All_LessTimeDiff/LessTimeDiff_Apr_df.csv')"
   ]
  },
  {
   "cell_type": "code",
   "execution_count": 297,
   "id": "db7542ca",
   "metadata": {},
   "outputs": [
    {
     "data": {
      "text/plain": [
       "(49719, 7)"
      ]
     },
     "execution_count": 297,
     "metadata": {},
     "output_type": "execute_result"
    }
   ],
   "source": [
    "#number of rows and columns\n",
    "LT4.shape"
   ]
  },
  {
   "cell_type": "code",
   "execution_count": 298,
   "id": "8385f31a",
   "metadata": {},
   "outputs": [
    {
     "data": {
      "text/html": [
       "<div>\n",
       "<style scoped>\n",
       "    .dataframe tbody tr th:only-of-type {\n",
       "        vertical-align: middle;\n",
       "    }\n",
       "\n",
       "    .dataframe tbody tr th {\n",
       "        vertical-align: top;\n",
       "    }\n",
       "\n",
       "    .dataframe thead th {\n",
       "        text-align: right;\n",
       "    }\n",
       "</style>\n",
       "<table border=\"1\" class=\"dataframe\">\n",
       "  <thead>\n",
       "    <tr style=\"text-align: right;\">\n",
       "      <th></th>\n",
       "      <th>Unnamed: 0</th>\n",
       "      <th>Ride_ID</th>\n",
       "      <th>Rideable_Type</th>\n",
       "      <th>Time_Diff4</th>\n",
       "      <th>Lat4</th>\n",
       "      <th>Ride_Lng4</th>\n",
       "      <th>Status</th>\n",
       "    </tr>\n",
       "  </thead>\n",
       "  <tbody>\n",
       "    <tr>\n",
       "      <th>0</th>\n",
       "      <td>1</td>\n",
       "      <td>D13DFEC4E0E0C49A</td>\n",
       "      <td>classic_bike</td>\n",
       "      <td>60</td>\n",
       "      <td>0.00</td>\n",
       "      <td>0.0</td>\n",
       "      <td>member</td>\n",
       "    </tr>\n",
       "    <tr>\n",
       "      <th>1</th>\n",
       "      <td>2</td>\n",
       "      <td>29310BC06D57BD2E</td>\n",
       "      <td>electric_bike</td>\n",
       "      <td>240</td>\n",
       "      <td>-0.01</td>\n",
       "      <td>0.0</td>\n",
       "      <td>member</td>\n",
       "    </tr>\n",
       "    <tr>\n",
       "      <th>2</th>\n",
       "      <td>3</td>\n",
       "      <td>F314FD7673D0C9C8</td>\n",
       "      <td>electric_bike</td>\n",
       "      <td>180</td>\n",
       "      <td>0.00</td>\n",
       "      <td>0.0</td>\n",
       "      <td>member</td>\n",
       "    </tr>\n",
       "  </tbody>\n",
       "</table>\n",
       "</div>"
      ],
      "text/plain": [
       "   Unnamed: 0           Ride_ID  Rideable_Type  Time_Diff4  Lat4  Ride_Lng4  \\\n",
       "0           1  D13DFEC4E0E0C49A   classic_bike          60  0.00        0.0   \n",
       "1           2  29310BC06D57BD2E  electric_bike         240 -0.01        0.0   \n",
       "2           3  F314FD7673D0C9C8  electric_bike         180  0.00        0.0   \n",
       "\n",
       "   Status  \n",
       "0  member  \n",
       "1  member  \n",
       "2  member  "
      ]
     },
     "execution_count": 298,
     "metadata": {},
     "output_type": "execute_result"
    }
   ],
   "source": [
    "#view few rows of the dataset\n",
    "LT4.head(3)"
   ]
  },
  {
   "cell_type": "code",
   "execution_count": 304,
   "id": "ba51c32c",
   "metadata": {},
   "outputs": [],
   "source": [
    "#import dataset\n",
    "LT5 = pd.read_csv('C:/Users/LILIAN/Desktop/Exported Datasets from R/All_LessTimeDiff/LessTimeDiff_May_df.csv')"
   ]
  },
  {
   "cell_type": "code",
   "execution_count": 305,
   "id": "e5a692e5",
   "metadata": {},
   "outputs": [
    {
     "data": {
      "text/plain": [
       "(73549, 7)"
      ]
     },
     "execution_count": 305,
     "metadata": {},
     "output_type": "execute_result"
    }
   ],
   "source": [
    "#number of rows and columns\n",
    "LT5.shape"
   ]
  },
  {
   "cell_type": "code",
   "execution_count": 306,
   "id": "48cc3eeb",
   "metadata": {},
   "outputs": [
    {
     "data": {
      "text/html": [
       "<div>\n",
       "<style scoped>\n",
       "    .dataframe tbody tr th:only-of-type {\n",
       "        vertical-align: middle;\n",
       "    }\n",
       "\n",
       "    .dataframe tbody tr th {\n",
       "        vertical-align: top;\n",
       "    }\n",
       "\n",
       "    .dataframe thead th {\n",
       "        text-align: right;\n",
       "    }\n",
       "</style>\n",
       "<table border=\"1\" class=\"dataframe\">\n",
       "  <thead>\n",
       "    <tr style=\"text-align: right;\">\n",
       "      <th></th>\n",
       "      <th>Unnamed: 0</th>\n",
       "      <th>Ride_ID</th>\n",
       "      <th>Rideable_Type</th>\n",
       "      <th>Time_Diff5</th>\n",
       "      <th>Lat5</th>\n",
       "      <th>Ride_Lng5</th>\n",
       "      <th>Status</th>\n",
       "    </tr>\n",
       "  </thead>\n",
       "  <tbody>\n",
       "    <tr>\n",
       "      <th>0</th>\n",
       "      <td>1</td>\n",
       "      <td>097E76F3651B1AC1</td>\n",
       "      <td>classic_bike</td>\n",
       "      <td>0</td>\n",
       "      <td>0.0</td>\n",
       "      <td>0.0</td>\n",
       "      <td>casual</td>\n",
       "    </tr>\n",
       "    <tr>\n",
       "      <th>1</th>\n",
       "      <td>2</td>\n",
       "      <td>53C38EB01E6FA5C4</td>\n",
       "      <td>classic_bike</td>\n",
       "      <td>60</td>\n",
       "      <td>0.0</td>\n",
       "      <td>0.0</td>\n",
       "      <td>casual</td>\n",
       "    </tr>\n",
       "    <tr>\n",
       "      <th>2</th>\n",
       "      <td>3</td>\n",
       "      <td>04218447AAC80BD1</td>\n",
       "      <td>classic_bike</td>\n",
       "      <td>120</td>\n",
       "      <td>0.0</td>\n",
       "      <td>0.0</td>\n",
       "      <td>casual</td>\n",
       "    </tr>\n",
       "  </tbody>\n",
       "</table>\n",
       "</div>"
      ],
      "text/plain": [
       "   Unnamed: 0           Ride_ID Rideable_Type  Time_Diff5  Lat5  Ride_Lng5  \\\n",
       "0           1  097E76F3651B1AC1  classic_bike           0   0.0        0.0   \n",
       "1           2  53C38EB01E6FA5C4  classic_bike          60   0.0        0.0   \n",
       "2           3  04218447AAC80BD1  classic_bike         120   0.0        0.0   \n",
       "\n",
       "   Status  \n",
       "0  casual  \n",
       "1  casual  \n",
       "2  casual  "
      ]
     },
     "execution_count": 306,
     "metadata": {},
     "output_type": "execute_result"
    }
   ],
   "source": [
    "#view few rows of the dataset\n",
    "LT5.head(3)"
   ]
  },
  {
   "cell_type": "code",
   "execution_count": 307,
   "id": "9bc546f6",
   "metadata": {},
   "outputs": [],
   "source": [
    "#import dataset\n",
    "LT6 = pd.read_csv('C:/Users/LILIAN/Desktop/Exported Datasets from R/All_LessTimeDiff/LessTimeDiff_Jun_df.csv')"
   ]
  },
  {
   "cell_type": "code",
   "execution_count": 308,
   "id": "b4485012",
   "metadata": {},
   "outputs": [
    {
     "data": {
      "text/plain": [
       "(73549, 7)"
      ]
     },
     "execution_count": 308,
     "metadata": {},
     "output_type": "execute_result"
    }
   ],
   "source": [
    "#number of rows and columns\n",
    "LT6.shape"
   ]
  },
  {
   "cell_type": "code",
   "execution_count": 309,
   "id": "f5e6e363",
   "metadata": {},
   "outputs": [
    {
     "data": {
      "text/html": [
       "<div>\n",
       "<style scoped>\n",
       "    .dataframe tbody tr th:only-of-type {\n",
       "        vertical-align: middle;\n",
       "    }\n",
       "\n",
       "    .dataframe tbody tr th {\n",
       "        vertical-align: top;\n",
       "    }\n",
       "\n",
       "    .dataframe thead th {\n",
       "        text-align: right;\n",
       "    }\n",
       "</style>\n",
       "<table border=\"1\" class=\"dataframe\">\n",
       "  <thead>\n",
       "    <tr style=\"text-align: right;\">\n",
       "      <th></th>\n",
       "      <th>Unnamed: 0</th>\n",
       "      <th>Ride_ID</th>\n",
       "      <th>Rideable_Type</th>\n",
       "      <th>Time_Diff6</th>\n",
       "      <th>Lat6</th>\n",
       "      <th>Ride_Lng6</th>\n",
       "      <th>Status</th>\n",
       "    </tr>\n",
       "  </thead>\n",
       "  <tbody>\n",
       "    <tr>\n",
       "      <th>0</th>\n",
       "      <td>1</td>\n",
       "      <td>097E76F3651B1AC1</td>\n",
       "      <td>classic_bike</td>\n",
       "      <td>0</td>\n",
       "      <td>0.0</td>\n",
       "      <td>0.0</td>\n",
       "      <td>casual</td>\n",
       "    </tr>\n",
       "    <tr>\n",
       "      <th>1</th>\n",
       "      <td>2</td>\n",
       "      <td>53C38EB01E6FA5C4</td>\n",
       "      <td>classic_bike</td>\n",
       "      <td>60</td>\n",
       "      <td>0.0</td>\n",
       "      <td>0.0</td>\n",
       "      <td>casual</td>\n",
       "    </tr>\n",
       "    <tr>\n",
       "      <th>2</th>\n",
       "      <td>3</td>\n",
       "      <td>04218447AAC80BD1</td>\n",
       "      <td>classic_bike</td>\n",
       "      <td>120</td>\n",
       "      <td>0.0</td>\n",
       "      <td>0.0</td>\n",
       "      <td>casual</td>\n",
       "    </tr>\n",
       "  </tbody>\n",
       "</table>\n",
       "</div>"
      ],
      "text/plain": [
       "   Unnamed: 0           Ride_ID Rideable_Type  Time_Diff6  Lat6  Ride_Lng6  \\\n",
       "0           1  097E76F3651B1AC1  classic_bike           0   0.0        0.0   \n",
       "1           2  53C38EB01E6FA5C4  classic_bike          60   0.0        0.0   \n",
       "2           3  04218447AAC80BD1  classic_bike         120   0.0        0.0   \n",
       "\n",
       "   Status  \n",
       "0  casual  \n",
       "1  casual  \n",
       "2  casual  "
      ]
     },
     "execution_count": 309,
     "metadata": {},
     "output_type": "execute_result"
    }
   ],
   "source": [
    "#view few rows of the dataset\n",
    "LT6.head(3)"
   ]
  },
  {
   "cell_type": "code",
   "execution_count": 310,
   "id": "545b467e",
   "metadata": {},
   "outputs": [],
   "source": [
    "#import dataset\n",
    "LT7 = pd.read_csv('C:/Users/LILIAN/Desktop/Exported Datasets from R/All_LessTimeDiff/LessTimeDiff_Jul_df.csv')"
   ]
  },
  {
   "cell_type": "code",
   "execution_count": 311,
   "id": "b804c6d4",
   "metadata": {},
   "outputs": [
    {
     "data": {
      "text/plain": [
       "(107018, 7)"
      ]
     },
     "execution_count": 311,
     "metadata": {},
     "output_type": "execute_result"
    }
   ],
   "source": [
    "#number of rows and columns\n",
    "LT7.shape"
   ]
  },
  {
   "cell_type": "code",
   "execution_count": 312,
   "id": "66719259",
   "metadata": {},
   "outputs": [
    {
     "data": {
      "text/html": [
       "<div>\n",
       "<style scoped>\n",
       "    .dataframe tbody tr th:only-of-type {\n",
       "        vertical-align: middle;\n",
       "    }\n",
       "\n",
       "    .dataframe tbody tr th {\n",
       "        vertical-align: top;\n",
       "    }\n",
       "\n",
       "    .dataframe thead th {\n",
       "        text-align: right;\n",
       "    }\n",
       "</style>\n",
       "<table border=\"1\" class=\"dataframe\">\n",
       "  <thead>\n",
       "    <tr style=\"text-align: right;\">\n",
       "      <th></th>\n",
       "      <th>Unnamed: 0</th>\n",
       "      <th>Ride_ID</th>\n",
       "      <th>Rideable_Type</th>\n",
       "      <th>Time_Diff7</th>\n",
       "      <th>Lat7</th>\n",
       "      <th>Ride_Lng7</th>\n",
       "      <th>Status</th>\n",
       "    </tr>\n",
       "  </thead>\n",
       "  <tbody>\n",
       "    <tr>\n",
       "      <th>0</th>\n",
       "      <td>1</td>\n",
       "      <td>0AB83CB88C43EFC2</td>\n",
       "      <td>electric_bike</td>\n",
       "      <td>60</td>\n",
       "      <td>0.000000</td>\n",
       "      <td>0.00000</td>\n",
       "      <td>casual</td>\n",
       "    </tr>\n",
       "    <tr>\n",
       "      <th>1</th>\n",
       "      <td>2</td>\n",
       "      <td>E3D0CC2FE1359880</td>\n",
       "      <td>electric_bike</td>\n",
       "      <td>180</td>\n",
       "      <td>0.000000</td>\n",
       "      <td>0.00000</td>\n",
       "      <td>casual</td>\n",
       "    </tr>\n",
       "    <tr>\n",
       "      <th>2</th>\n",
       "      <td>3</td>\n",
       "      <td>2E8574B3B98F8509</td>\n",
       "      <td>electric_bike</td>\n",
       "      <td>360</td>\n",
       "      <td>0.008868</td>\n",
       "      <td>0.00363</td>\n",
       "      <td>casual</td>\n",
       "    </tr>\n",
       "  </tbody>\n",
       "</table>\n",
       "</div>"
      ],
      "text/plain": [
       "   Unnamed: 0           Ride_ID  Rideable_Type  Time_Diff7      Lat7  \\\n",
       "0           1  0AB83CB88C43EFC2  electric_bike          60  0.000000   \n",
       "1           2  E3D0CC2FE1359880  electric_bike         180  0.000000   \n",
       "2           3  2E8574B3B98F8509  electric_bike         360  0.008868   \n",
       "\n",
       "   Ride_Lng7  Status  \n",
       "0    0.00000  casual  \n",
       "1    0.00000  casual  \n",
       "2    0.00363  casual  "
      ]
     },
     "execution_count": 312,
     "metadata": {},
     "output_type": "execute_result"
    }
   ],
   "source": [
    "#view few rows of the dataset\n",
    "LT7.head(3)"
   ]
  },
  {
   "cell_type": "code",
   "execution_count": 313,
   "id": "826ec92a",
   "metadata": {},
   "outputs": [],
   "source": [
    "#import dataset\n",
    "LT8 = pd.read_csv('C:/Users/LILIAN/Desktop/Exported Datasets from R/All_LessTimeDiff/LessTimeDiff_Aug_df.csv')"
   ]
  },
  {
   "cell_type": "code",
   "execution_count": 314,
   "id": "f35a2ac4",
   "metadata": {},
   "outputs": [
    {
     "data": {
      "text/plain": [
       "(141281, 6)"
      ]
     },
     "execution_count": 314,
     "metadata": {},
     "output_type": "execute_result"
    }
   ],
   "source": [
    "#number of rows and columns\n",
    "LT8.shape"
   ]
  },
  {
   "cell_type": "code",
   "execution_count": 315,
   "id": "2653918c",
   "metadata": {},
   "outputs": [
    {
     "data": {
      "text/html": [
       "<div>\n",
       "<style scoped>\n",
       "    .dataframe tbody tr th:only-of-type {\n",
       "        vertical-align: middle;\n",
       "    }\n",
       "\n",
       "    .dataframe tbody tr th {\n",
       "        vertical-align: top;\n",
       "    }\n",
       "\n",
       "    .dataframe thead th {\n",
       "        text-align: right;\n",
       "    }\n",
       "</style>\n",
       "<table border=\"1\" class=\"dataframe\">\n",
       "  <thead>\n",
       "    <tr style=\"text-align: right;\">\n",
       "      <th></th>\n",
       "      <th>Unnamed: 0</th>\n",
       "      <th>Ride_ID</th>\n",
       "      <th>Rideable_Type</th>\n",
       "      <th>Time_Diff8</th>\n",
       "      <th>Ride_Lng8</th>\n",
       "      <th>Status</th>\n",
       "    </tr>\n",
       "  </thead>\n",
       "  <tbody>\n",
       "    <tr>\n",
       "      <th>0</th>\n",
       "      <td>1</td>\n",
       "      <td>99FEC93BA843FB20</td>\n",
       "      <td>electric_bike</td>\n",
       "      <td>180</td>\n",
       "      <td>0.01</td>\n",
       "      <td>member</td>\n",
       "    </tr>\n",
       "    <tr>\n",
       "      <th>1</th>\n",
       "      <td>2</td>\n",
       "      <td>06048DCFC8520CAF</td>\n",
       "      <td>electric_bike</td>\n",
       "      <td>360</td>\n",
       "      <td>0.01</td>\n",
       "      <td>member</td>\n",
       "    </tr>\n",
       "    <tr>\n",
       "      <th>2</th>\n",
       "      <td>3</td>\n",
       "      <td>9598066F68045DF2</td>\n",
       "      <td>electric_bike</td>\n",
       "      <td>360</td>\n",
       "      <td>-0.01</td>\n",
       "      <td>member</td>\n",
       "    </tr>\n",
       "  </tbody>\n",
       "</table>\n",
       "</div>"
      ],
      "text/plain": [
       "   Unnamed: 0           Ride_ID  Rideable_Type  Time_Diff8  Ride_Lng8  Status\n",
       "0           1  99FEC93BA843FB20  electric_bike         180       0.01  member\n",
       "1           2  06048DCFC8520CAF  electric_bike         360       0.01  member\n",
       "2           3  9598066F68045DF2  electric_bike         360      -0.01  member"
      ]
     },
     "execution_count": 315,
     "metadata": {},
     "output_type": "execute_result"
    }
   ],
   "source": [
    "#view few rows of the dataset\n",
    "LT8.head(3)"
   ]
  },
  {
   "cell_type": "code",
   "execution_count": 316,
   "id": "00c46eee",
   "metadata": {},
   "outputs": [],
   "source": [
    "#import dataset\n",
    "LT9 = pd.read_csv('C:/Users/LILIAN/Desktop/Exported Datasets from R/All_LessTimeDiff/LessTimeDiff_Sep_df.csv')"
   ]
  },
  {
   "cell_type": "code",
   "execution_count": 317,
   "id": "a2495fa3",
   "metadata": {},
   "outputs": [
    {
     "data": {
      "text/plain": [
       "(161604, 7)"
      ]
     },
     "execution_count": 317,
     "metadata": {},
     "output_type": "execute_result"
    }
   ],
   "source": [
    "#number of rows and columns\n",
    "LT9.shape"
   ]
  },
  {
   "cell_type": "code",
   "execution_count": 318,
   "id": "312381df",
   "metadata": {},
   "outputs": [
    {
     "data": {
      "text/html": [
       "<div>\n",
       "<style scoped>\n",
       "    .dataframe tbody tr th:only-of-type {\n",
       "        vertical-align: middle;\n",
       "    }\n",
       "\n",
       "    .dataframe tbody tr th {\n",
       "        vertical-align: top;\n",
       "    }\n",
       "\n",
       "    .dataframe thead th {\n",
       "        text-align: right;\n",
       "    }\n",
       "</style>\n",
       "<table border=\"1\" class=\"dataframe\">\n",
       "  <thead>\n",
       "    <tr style=\"text-align: right;\">\n",
       "      <th></th>\n",
       "      <th>Unnamed: 0</th>\n",
       "      <th>Ride_ID</th>\n",
       "      <th>Rideable_Type</th>\n",
       "      <th>Time_Diff9</th>\n",
       "      <th>Lat9</th>\n",
       "      <th>Ride_Lng9</th>\n",
       "      <th>Status</th>\n",
       "    </tr>\n",
       "  </thead>\n",
       "  <tbody>\n",
       "    <tr>\n",
       "      <th>0</th>\n",
       "      <td>1</td>\n",
       "      <td>62DC2B32872F9BA8</td>\n",
       "      <td>electric_bike</td>\n",
       "      <td>360</td>\n",
       "      <td>-0.013559</td>\n",
       "      <td>0.008393</td>\n",
       "      <td>casual</td>\n",
       "    </tr>\n",
       "    <tr>\n",
       "      <th>1</th>\n",
       "      <td>2</td>\n",
       "      <td>9E5DF66EF8177915</td>\n",
       "      <td>classic_bike</td>\n",
       "      <td>300</td>\n",
       "      <td>-0.005390</td>\n",
       "      <td>0.005363</td>\n",
       "      <td>member</td>\n",
       "    </tr>\n",
       "    <tr>\n",
       "      <th>2</th>\n",
       "      <td>3</td>\n",
       "      <td>91C00A02A1B89907</td>\n",
       "      <td>classic_bike</td>\n",
       "      <td>360</td>\n",
       "      <td>-0.005646</td>\n",
       "      <td>-0.009372</td>\n",
       "      <td>member</td>\n",
       "    </tr>\n",
       "  </tbody>\n",
       "</table>\n",
       "</div>"
      ],
      "text/plain": [
       "   Unnamed: 0           Ride_ID  Rideable_Type  Time_Diff9      Lat9  \\\n",
       "0           1  62DC2B32872F9BA8  electric_bike         360 -0.013559   \n",
       "1           2  9E5DF66EF8177915   classic_bike         300 -0.005390   \n",
       "2           3  91C00A02A1B89907   classic_bike         360 -0.005646   \n",
       "\n",
       "   Ride_Lng9  Status  \n",
       "0   0.008393  casual  \n",
       "1   0.005363  member  \n",
       "2  -0.009372  member  "
      ]
     },
     "execution_count": 318,
     "metadata": {},
     "output_type": "execute_result"
    }
   ],
   "source": [
    "#view few rows of the dataset\n",
    "LT9.head(3)"
   ]
  },
  {
   "cell_type": "code",
   "execution_count": 319,
   "id": "0106eb41",
   "metadata": {},
   "outputs": [],
   "source": [
    "#import dataset\n",
    "LT10 = pd.read_csv('C:/Users/LILIAN/Desktop/Exported Datasets from R/All_LessTimeDiff/LessTimeDiff_Oct_df.csv')"
   ]
  },
  {
   "cell_type": "code",
   "execution_count": 320,
   "id": "c25062c4",
   "metadata": {},
   "outputs": [
    {
     "data": {
      "text/plain": [
       "(167038, 7)"
      ]
     },
     "execution_count": 320,
     "metadata": {},
     "output_type": "execute_result"
    }
   ],
   "source": [
    "#number of rows and columns\n",
    "LT10.shape"
   ]
  },
  {
   "cell_type": "code",
   "execution_count": 321,
   "id": "9b396b05",
   "metadata": {},
   "outputs": [
    {
     "data": {
      "text/html": [
       "<div>\n",
       "<style scoped>\n",
       "    .dataframe tbody tr th:only-of-type {\n",
       "        vertical-align: middle;\n",
       "    }\n",
       "\n",
       "    .dataframe tbody tr th {\n",
       "        vertical-align: top;\n",
       "    }\n",
       "\n",
       "    .dataframe thead th {\n",
       "        text-align: right;\n",
       "    }\n",
       "</style>\n",
       "<table border=\"1\" class=\"dataframe\">\n",
       "  <thead>\n",
       "    <tr style=\"text-align: right;\">\n",
       "      <th></th>\n",
       "      <th>Unnamed: 0</th>\n",
       "      <th>Ride_ID</th>\n",
       "      <th>Rideable_Type</th>\n",
       "      <th>Time_Diff10</th>\n",
       "      <th>Lat10</th>\n",
       "      <th>Ride_Lng10</th>\n",
       "      <th>Status</th>\n",
       "    </tr>\n",
       "  </thead>\n",
       "  <tbody>\n",
       "    <tr>\n",
       "      <th>0</th>\n",
       "      <td>1</td>\n",
       "      <td>612F12C94A964F3E</td>\n",
       "      <td>electric_bike</td>\n",
       "      <td>360</td>\n",
       "      <td>0.010000</td>\n",
       "      <td>-0.010000</td>\n",
       "      <td>member</td>\n",
       "    </tr>\n",
       "    <tr>\n",
       "      <th>1</th>\n",
       "      <td>2</td>\n",
       "      <td>C67017767EED2251</td>\n",
       "      <td>electric_bike</td>\n",
       "      <td>360</td>\n",
       "      <td>-0.010874</td>\n",
       "      <td>0.019146</td>\n",
       "      <td>member</td>\n",
       "    </tr>\n",
       "    <tr>\n",
       "      <th>2</th>\n",
       "      <td>3</td>\n",
       "      <td>ABC4532F2B4983AB</td>\n",
       "      <td>electric_bike</td>\n",
       "      <td>60</td>\n",
       "      <td>0.000000</td>\n",
       "      <td>0.000000</td>\n",
       "      <td>member</td>\n",
       "    </tr>\n",
       "  </tbody>\n",
       "</table>\n",
       "</div>"
      ],
      "text/plain": [
       "   Unnamed: 0           Ride_ID  Rideable_Type  Time_Diff10     Lat10  \\\n",
       "0           1  612F12C94A964F3E  electric_bike          360  0.010000   \n",
       "1           2  C67017767EED2251  electric_bike          360 -0.010874   \n",
       "2           3  ABC4532F2B4983AB  electric_bike           60  0.000000   \n",
       "\n",
       "   Ride_Lng10  Status  \n",
       "0   -0.010000  member  \n",
       "1    0.019146  member  \n",
       "2    0.000000  member  "
      ]
     },
     "execution_count": 321,
     "metadata": {},
     "output_type": "execute_result"
    }
   ],
   "source": [
    "#view few rows of the dataset\n",
    "LT10.head(3)"
   ]
  },
  {
   "cell_type": "code",
   "execution_count": 322,
   "id": "65f7380e",
   "metadata": {},
   "outputs": [],
   "source": [
    "#import dataset\n",
    "LT11 = pd.read_csv('C:/Users/LILIAN/Desktop/Exported Datasets from R/All_LessTimeDiff/LessTimeDiff_Nov_df.csv')"
   ]
  },
  {
   "cell_type": "code",
   "execution_count": 323,
   "id": "1ee72421",
   "metadata": {},
   "outputs": [
    {
     "data": {
      "text/plain": [
       "(119190, 7)"
      ]
     },
     "execution_count": 323,
     "metadata": {},
     "output_type": "execute_result"
    }
   ],
   "source": [
    "#number of rows and columns\n",
    "LT11.shape"
   ]
  },
  {
   "cell_type": "code",
   "execution_count": 324,
   "id": "a08f9e8a",
   "metadata": {},
   "outputs": [
    {
     "data": {
      "text/html": [
       "<div>\n",
       "<style scoped>\n",
       "    .dataframe tbody tr th:only-of-type {\n",
       "        vertical-align: middle;\n",
       "    }\n",
       "\n",
       "    .dataframe tbody tr th {\n",
       "        vertical-align: top;\n",
       "    }\n",
       "\n",
       "    .dataframe thead th {\n",
       "        text-align: right;\n",
       "    }\n",
       "</style>\n",
       "<table border=\"1\" class=\"dataframe\">\n",
       "  <thead>\n",
       "    <tr style=\"text-align: right;\">\n",
       "      <th></th>\n",
       "      <th>Unnamed: 0</th>\n",
       "      <th>Ride_ID</th>\n",
       "      <th>Rideable_Type</th>\n",
       "      <th>Time_Diff11</th>\n",
       "      <th>Lat11</th>\n",
       "      <th>Ride_Lng11</th>\n",
       "      <th>Status</th>\n",
       "    </tr>\n",
       "  </thead>\n",
       "  <tbody>\n",
       "    <tr>\n",
       "      <th>0</th>\n",
       "      <td>1</td>\n",
       "      <td>9A4A8801674A3995</td>\n",
       "      <td>classic_bike</td>\n",
       "      <td>300</td>\n",
       "      <td>0.004528</td>\n",
       "      <td>-0.004081</td>\n",
       "      <td>member</td>\n",
       "    </tr>\n",
       "    <tr>\n",
       "      <th>1</th>\n",
       "      <td>2</td>\n",
       "      <td>27F7E6CF8B6E24EE</td>\n",
       "      <td>classic_bike</td>\n",
       "      <td>180</td>\n",
       "      <td>-0.000373</td>\n",
       "      <td>-0.008840</td>\n",
       "      <td>member</td>\n",
       "    </tr>\n",
       "    <tr>\n",
       "      <th>2</th>\n",
       "      <td>3</td>\n",
       "      <td>E0EECCB868B7DA13</td>\n",
       "      <td>classic_bike</td>\n",
       "      <td>300</td>\n",
       "      <td>-0.004848</td>\n",
       "      <td>-0.008161</td>\n",
       "      <td>member</td>\n",
       "    </tr>\n",
       "  </tbody>\n",
       "</table>\n",
       "</div>"
      ],
      "text/plain": [
       "   Unnamed: 0           Ride_ID Rideable_Type  Time_Diff11     Lat11  \\\n",
       "0           1  9A4A8801674A3995  classic_bike          300  0.004528   \n",
       "1           2  27F7E6CF8B6E24EE  classic_bike          180 -0.000373   \n",
       "2           3  E0EECCB868B7DA13  classic_bike          300 -0.004848   \n",
       "\n",
       "   Ride_Lng11  Status  \n",
       "0   -0.004081  member  \n",
       "1   -0.008840  member  \n",
       "2   -0.008161  member  "
      ]
     },
     "execution_count": 324,
     "metadata": {},
     "output_type": "execute_result"
    }
   ],
   "source": [
    "#view few rows of the dataset\n",
    "LT11.head(3)"
   ]
  },
  {
   "cell_type": "code",
   "execution_count": 325,
   "id": "88c77861",
   "metadata": {},
   "outputs": [],
   "source": [
    "#import dataset\n",
    "LT12 = pd.read_csv('C:/Users/LILIAN/Desktop/Exported Datasets from R/All_LessTimeDiff/LessTimeDiff_Dec_df.csv')"
   ]
  },
  {
   "cell_type": "code",
   "execution_count": 326,
   "id": "49cd35ee",
   "metadata": {},
   "outputs": [
    {
     "data": {
      "text/plain": [
       "(180171, 7)"
      ]
     },
     "execution_count": 326,
     "metadata": {},
     "output_type": "execute_result"
    }
   ],
   "source": [
    "#number of rows and columns\n",
    "LT12.shape"
   ]
  },
  {
   "cell_type": "code",
   "execution_count": 327,
   "id": "52f444c1",
   "metadata": {},
   "outputs": [
    {
     "data": {
      "text/html": [
       "<div>\n",
       "<style scoped>\n",
       "    .dataframe tbody tr th:only-of-type {\n",
       "        vertical-align: middle;\n",
       "    }\n",
       "\n",
       "    .dataframe tbody tr th {\n",
       "        vertical-align: top;\n",
       "    }\n",
       "\n",
       "    .dataframe thead th {\n",
       "        text-align: right;\n",
       "    }\n",
       "</style>\n",
       "<table border=\"1\" class=\"dataframe\">\n",
       "  <thead>\n",
       "    <tr style=\"text-align: right;\">\n",
       "      <th></th>\n",
       "      <th>Unnamed: 0</th>\n",
       "      <th>Ride_ID</th>\n",
       "      <th>Rideable_Type</th>\n",
       "      <th>Time_Diff12</th>\n",
       "      <th>Lat12</th>\n",
       "      <th>Ride_Lng12</th>\n",
       "      <th>Status</th>\n",
       "    </tr>\n",
       "  </thead>\n",
       "  <tbody>\n",
       "    <tr>\n",
       "      <th>0</th>\n",
       "      <td>1</td>\n",
       "      <td>620BC6107255BF4C</td>\n",
       "      <td>electric_bike</td>\n",
       "      <td>180</td>\n",
       "      <td>-0.000814</td>\n",
       "      <td>-0.008495</td>\n",
       "      <td>member</td>\n",
       "    </tr>\n",
       "    <tr>\n",
       "      <th>1</th>\n",
       "      <td>2</td>\n",
       "      <td>4471C70731AB2E45</td>\n",
       "      <td>electric_bike</td>\n",
       "      <td>120</td>\n",
       "      <td>0.000000</td>\n",
       "      <td>0.010000</td>\n",
       "      <td>member</td>\n",
       "    </tr>\n",
       "    <tr>\n",
       "      <th>2</th>\n",
       "      <td>3</td>\n",
       "      <td>362947F0437E1514</td>\n",
       "      <td>electric_bike</td>\n",
       "      <td>120</td>\n",
       "      <td>0.000000</td>\n",
       "      <td>0.000000</td>\n",
       "      <td>member</td>\n",
       "    </tr>\n",
       "  </tbody>\n",
       "</table>\n",
       "</div>"
      ],
      "text/plain": [
       "   Unnamed: 0           Ride_ID  Rideable_Type  Time_Diff12     Lat12  \\\n",
       "0           1  620BC6107255BF4C  electric_bike          180 -0.000814   \n",
       "1           2  4471C70731AB2E45  electric_bike          120  0.000000   \n",
       "2           3  362947F0437E1514  electric_bike          120  0.000000   \n",
       "\n",
       "   Ride_Lng12  Status  \n",
       "0   -0.008495  member  \n",
       "1    0.010000  member  \n",
       "2    0.000000  member  "
      ]
     },
     "execution_count": 327,
     "metadata": {},
     "output_type": "execute_result"
    }
   ],
   "source": [
    "#view few rows of the dataset\n",
    "LT12.head(3)"
   ]
  },
  {
   "cell_type": "code",
   "execution_count": 328,
   "id": "70fbabfc",
   "metadata": {},
   "outputs": [],
   "source": [
    "#MERGE TIME DIFFERENCE OF ALL MONTHS INTO AS ONE YEAR\n",
    "Less_Time_Diff = pd.concat([LT1,LT2,LT3,LT4,LT5,LT6,LT7,LT8,LT9,LT10,LT11,LT12])"
   ]
  },
  {
   "cell_type": "code",
   "execution_count": 329,
   "id": "c999fd2a",
   "metadata": {},
   "outputs": [
    {
     "data": {
      "text/plain": [
       "(1156569, 39)"
      ]
     },
     "execution_count": 329,
     "metadata": {},
     "output_type": "execute_result"
    }
   ],
   "source": [
    "#number of rows and columns\n",
    "Less_Time_Diff.shape"
   ]
  },
  {
   "cell_type": "code",
   "execution_count": 330,
   "id": "74beeb45",
   "metadata": {},
   "outputs": [
    {
     "data": {
      "text/html": [
       "<div>\n",
       "<style scoped>\n",
       "    .dataframe tbody tr th:only-of-type {\n",
       "        vertical-align: middle;\n",
       "    }\n",
       "\n",
       "    .dataframe tbody tr th {\n",
       "        vertical-align: top;\n",
       "    }\n",
       "\n",
       "    .dataframe thead th {\n",
       "        text-align: right;\n",
       "    }\n",
       "</style>\n",
       "<table border=\"1\" class=\"dataframe\">\n",
       "  <thead>\n",
       "    <tr style=\"text-align: right;\">\n",
       "      <th></th>\n",
       "      <th>Unnamed: 0</th>\n",
       "      <th>Ride_ID</th>\n",
       "      <th>Rideable_Type</th>\n",
       "      <th>Time_Diff1</th>\n",
       "      <th>Lat1</th>\n",
       "      <th>Ride_Lng1</th>\n",
       "      <th>Status</th>\n",
       "      <th>Time_Diff2</th>\n",
       "      <th>Lat2</th>\n",
       "      <th>Ride_Lng2</th>\n",
       "      <th>...</th>\n",
       "      <th>Ride_Lng9</th>\n",
       "      <th>Time_Diff10</th>\n",
       "      <th>Lat10</th>\n",
       "      <th>Ride_Lng10</th>\n",
       "      <th>Time_Diff11</th>\n",
       "      <th>Lat11</th>\n",
       "      <th>Ride_Lng11</th>\n",
       "      <th>Time_Diff12</th>\n",
       "      <th>Lat12</th>\n",
       "      <th>Ride_Lng12</th>\n",
       "    </tr>\n",
       "  </thead>\n",
       "  <tbody>\n",
       "    <tr>\n",
       "      <th>0</th>\n",
       "      <td>1</td>\n",
       "      <td>BE119628E44F871E</td>\n",
       "      <td>electric_bike</td>\n",
       "      <td>360.0</td>\n",
       "      <td>0.01</td>\n",
       "      <td>0.0</td>\n",
       "      <td>member</td>\n",
       "      <td>NaN</td>\n",
       "      <td>NaN</td>\n",
       "      <td>NaN</td>\n",
       "      <td>...</td>\n",
       "      <td>NaN</td>\n",
       "      <td>NaN</td>\n",
       "      <td>NaN</td>\n",
       "      <td>NaN</td>\n",
       "      <td>NaN</td>\n",
       "      <td>NaN</td>\n",
       "      <td>NaN</td>\n",
       "      <td>NaN</td>\n",
       "      <td>NaN</td>\n",
       "      <td>NaN</td>\n",
       "    </tr>\n",
       "    <tr>\n",
       "      <th>1</th>\n",
       "      <td>2</td>\n",
       "      <td>69AF78D57854E110</td>\n",
       "      <td>electric_bike</td>\n",
       "      <td>120.0</td>\n",
       "      <td>0.00</td>\n",
       "      <td>0.0</td>\n",
       "      <td>member</td>\n",
       "      <td>NaN</td>\n",
       "      <td>NaN</td>\n",
       "      <td>NaN</td>\n",
       "      <td>...</td>\n",
       "      <td>NaN</td>\n",
       "      <td>NaN</td>\n",
       "      <td>NaN</td>\n",
       "      <td>NaN</td>\n",
       "      <td>NaN</td>\n",
       "      <td>NaN</td>\n",
       "      <td>NaN</td>\n",
       "      <td>NaN</td>\n",
       "      <td>NaN</td>\n",
       "      <td>NaN</td>\n",
       "    </tr>\n",
       "    <tr>\n",
       "      <th>2</th>\n",
       "      <td>3</td>\n",
       "      <td>05F41F5137B5048E</td>\n",
       "      <td>electric_bike</td>\n",
       "      <td>0.0</td>\n",
       "      <td>0.00</td>\n",
       "      <td>0.0</td>\n",
       "      <td>member</td>\n",
       "      <td>NaN</td>\n",
       "      <td>NaN</td>\n",
       "      <td>NaN</td>\n",
       "      <td>...</td>\n",
       "      <td>NaN</td>\n",
       "      <td>NaN</td>\n",
       "      <td>NaN</td>\n",
       "      <td>NaN</td>\n",
       "      <td>NaN</td>\n",
       "      <td>NaN</td>\n",
       "      <td>NaN</td>\n",
       "      <td>NaN</td>\n",
       "      <td>NaN</td>\n",
       "      <td>NaN</td>\n",
       "    </tr>\n",
       "  </tbody>\n",
       "</table>\n",
       "<p>3 rows × 39 columns</p>\n",
       "</div>"
      ],
      "text/plain": [
       "   Unnamed: 0           Ride_ID  Rideable_Type  Time_Diff1  Lat1  Ride_Lng1  \\\n",
       "0           1  BE119628E44F871E  electric_bike       360.0  0.01        0.0   \n",
       "1           2  69AF78D57854E110  electric_bike       120.0  0.00        0.0   \n",
       "2           3  05F41F5137B5048E  electric_bike         0.0  0.00        0.0   \n",
       "\n",
       "   Status  Time_Diff2  Lat2  Ride_Lng2  ...  Ride_Lng9  Time_Diff10  Lat10  \\\n",
       "0  member         NaN   NaN        NaN  ...        NaN          NaN    NaN   \n",
       "1  member         NaN   NaN        NaN  ...        NaN          NaN    NaN   \n",
       "2  member         NaN   NaN        NaN  ...        NaN          NaN    NaN   \n",
       "\n",
       "   Ride_Lng10  Time_Diff11  Lat11  Ride_Lng11  Time_Diff12  Lat12  Ride_Lng12  \n",
       "0         NaN          NaN    NaN         NaN          NaN    NaN         NaN  \n",
       "1         NaN          NaN    NaN         NaN          NaN    NaN         NaN  \n",
       "2         NaN          NaN    NaN         NaN          NaN    NaN         NaN  \n",
       "\n",
       "[3 rows x 39 columns]"
      ]
     },
     "execution_count": 330,
     "metadata": {},
     "output_type": "execute_result"
    }
   ],
   "source": [
    "#view few rows of the dataset\n",
    "Less_Time_Diff.head(3)"
   ]
  },
  {
   "cell_type": "markdown",
   "id": "865b6db2",
   "metadata": {},
   "source": []
  },
  {
   "cell_type": "markdown",
   "id": "79939ea4",
   "metadata": {},
   "source": [
    "LT =LESS TIME DIFFERENCE\n",
    "RL = RIDE LENGTH\n",
    "TD = TIME DIFFERENCE\n",
    "LRL = LESS RIDE LENGTH\n",
    "Year_2021"
   ]
  },
  {
   "cell_type": "code",
   "execution_count": null,
   "id": "2c841ce5",
   "metadata": {},
   "outputs": [],
   "source": [
    "#EXPORT DATASETS"
   ]
  },
  {
   "cell_type": "code",
   "execution_count": 365,
   "id": "55422578",
   "metadata": {},
   "outputs": [],
   "source": [
    "Less_Ride_Lenght.to_csv(r'C:/Users/LILIAN/Desktop/Exported Datasets from R/Less_Ride_Lenght.csv')"
   ]
  },
  {
   "cell_type": "code",
   "execution_count": 355,
   "id": "b68aaeac",
   "metadata": {},
   "outputs": [],
   "source": [
    "Year_2021.to_csv(r'C:/Users/LILIAN/Desktop/Exported Datasets from R/Year_2021.csv')"
   ]
  },
  {
   "cell_type": "code",
   "execution_count": 356,
   "id": "b6011fc8",
   "metadata": {},
   "outputs": [],
   "source": [
    "Less_Time_Diff.to_csv(r'C:/Users/LILIAN/Desktop/Exported Datasets from R/Less_Time_Diff.csv')"
   ]
  },
  {
   "cell_type": "code",
   "execution_count": 357,
   "id": "3a2a54ca",
   "metadata": {},
   "outputs": [],
   "source": [
    "Ride_Lenght.to_csv(r'C:/Users/LILIAN/Desktop/Exported Datasets from R/Ride_Lenght.csv')"
   ]
  },
  {
   "cell_type": "code",
   "execution_count": 364,
   "id": "f50555d6",
   "metadata": {},
   "outputs": [],
   "source": [
    "Time_Difference.to_csv(r'C:/Users/LILIAN/Desktop/Exported Datasets from R.csv')"
   ]
  },
  {
   "cell_type": "code",
   "execution_count": null,
   "id": "0eafc3a2",
   "metadata": {},
   "outputs": [],
   "source": []
  },
  {
   "cell_type": "code",
   "execution_count": null,
   "id": "70467eb4",
   "metadata": {},
   "outputs": [],
   "source": []
  }
 ],
 "metadata": {
  "kernelspec": {
   "display_name": "Python 3",
   "language": "python",
   "name": "python3"
  },
  "language_info": {
   "codemirror_mode": {
    "name": "ipython",
    "version": 3
   },
   "file_extension": ".py",
   "mimetype": "text/x-python",
   "name": "python",
   "nbconvert_exporter": "python",
   "pygments_lexer": "ipython3",
   "version": "3.8.8"
  }
 },
 "nbformat": 4,
 "nbformat_minor": 5
}
