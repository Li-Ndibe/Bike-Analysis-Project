{
 "cells": [
  {
   "cell_type": "markdown",
   "id": "404b00bf",
   "metadata": {},
   "source": [
    "MERGE ALL DATAFRAME TO 1 YEAR"
   ]
  },
  {
   "cell_type": "code",
   "execution_count": 75,
   "id": "cd14ff1e",
   "metadata": {},
   "outputs": [],
   "source": [
    "import pandas as pd"
   ]
  },
  {
   "cell_type": "code",
   "execution_count": 76,
   "id": "a9712b6f",
   "metadata": {},
   "outputs": [],
   "source": [
    "#import dataset\n",
    "January = pd.read_csv('C:/Users/LILIAN/Desktop/Exported Datasets from R/2021_Data/January.csv')"
   ]
  },
  {
   "cell_type": "code",
   "execution_count": 77,
   "id": "8eb2b697",
   "metadata": {},
   "outputs": [
    {
     "data": {
      "text/plain": [
       "(131573, 7)"
      ]
     },
     "execution_count": 77,
     "metadata": {},
     "output_type": "execute_result"
    }
   ],
   "source": [
    "#number of rows and columns\n",
    "January.shape"
   ]
  },
  {
   "cell_type": "code",
   "execution_count": 78,
   "id": "4b4b4cbc",
   "metadata": {},
   "outputs": [],
   "source": [
    "#import dataset\n",
    "February = pd.read_csv('C:/Users/LILIAN/Desktop/Exported Datasets from R/2021_Data/February.csv')"
   ]
  },
  {
   "cell_type": "code",
   "execution_count": 79,
   "id": "7d21f058",
   "metadata": {},
   "outputs": [
    {
     "data": {
      "text/plain": [
       "(96834, 7)"
      ]
     },
     "execution_count": 79,
     "metadata": {},
     "output_type": "execute_result"
    }
   ],
   "source": [
    "#number of rows and columns\n",
    "February.shape"
   ]
  },
  {
   "cell_type": "code",
   "execution_count": 80,
   "id": "7cbb0b7e",
   "metadata": {},
   "outputs": [],
   "source": [
    "#import dataset\n",
    "March = pd.read_csv('C:/Users/LILIAN/Desktop/Exported Datasets from R/2021_Data/March.csv')"
   ]
  },
  {
   "cell_type": "code",
   "execution_count": 81,
   "id": "97d6b978",
   "metadata": {},
   "outputs": [
    {
     "data": {
      "text/plain": [
       "(49622, 7)"
      ]
     },
     "execution_count": 81,
     "metadata": {},
     "output_type": "execute_result"
    }
   ],
   "source": [
    "#number of rows and columns\n",
    "March.shape"
   ]
  },
  {
   "cell_type": "code",
   "execution_count": 82,
   "id": "964ebcf5",
   "metadata": {},
   "outputs": [],
   "source": [
    "#import dataset\n",
    "April = pd.read_csv('C:/Users/LILIAN/Desktop/Exported Datasets from R/2021_Data/April.csv')"
   ]
  },
  {
   "cell_type": "code",
   "execution_count": 83,
   "id": "90f1409f",
   "metadata": {},
   "outputs": [
    {
     "data": {
      "text/plain": [
       "(214272, 7)"
      ]
     },
     "execution_count": 83,
     "metadata": {},
     "output_type": "execute_result"
    }
   ],
   "source": [
    "#number of rows and columns\n",
    "April.shape"
   ]
  },
  {
   "cell_type": "code",
   "execution_count": 84,
   "id": "fdae9fc5",
   "metadata": {},
   "outputs": [],
   "source": [
    "#import dataset\n",
    "May = pd.read_csv('C:/Users/LILIAN/Desktop/Exported Datasets from R/2021_Data/May.csv')"
   ]
  },
  {
   "cell_type": "code",
   "execution_count": 85,
   "id": "0d982313",
   "metadata": {},
   "outputs": [
    {
     "data": {
      "text/plain": [
       "(337230, 7)"
      ]
     },
     "execution_count": 85,
     "metadata": {},
     "output_type": "execute_result"
    }
   ],
   "source": [
    "#number of rows and columns\n",
    "May.shape"
   ]
  },
  {
   "cell_type": "code",
   "execution_count": 86,
   "id": "53889269",
   "metadata": {},
   "outputs": [],
   "source": [
    "#import dataset\n",
    "June= pd.read_csv('C:/Users/LILIAN/Desktop/Exported Datasets from R/2021_Data/June.csv')"
   ]
  },
  {
   "cell_type": "code",
   "execution_count": 87,
   "id": "ed21378c",
   "metadata": {},
   "outputs": [
    {
     "data": {
      "text/plain": [
       "(337230, 7)"
      ]
     },
     "execution_count": 87,
     "metadata": {},
     "output_type": "execute_result"
    }
   ],
   "source": [
    "#number of rows and columns\n",
    "June.shape"
   ]
  },
  {
   "cell_type": "code",
   "execution_count": 88,
   "id": "70c3c044",
   "metadata": {},
   "outputs": [],
   "source": [
    "#import dataset\n",
    "July = pd.read_csv('C:/Users/LILIAN/Desktop/Exported Datasets from R/2021_Data/July.csv')"
   ]
  },
  {
   "cell_type": "code",
   "execution_count": 89,
   "id": "50a91cd4",
   "metadata": {},
   "outputs": [
    {
     "data": {
      "text/plain": [
       "(531633, 7)"
      ]
     },
     "execution_count": 89,
     "metadata": {},
     "output_type": "execute_result"
    }
   ],
   "source": [
    "#number of rows and columns\n",
    "July.shape"
   ]
  },
  {
   "cell_type": "code",
   "execution_count": 90,
   "id": "8ef67c6a",
   "metadata": {},
   "outputs": [],
   "source": [
    "#import dataset\n",
    "August = pd.read_csv('C:/Users/LILIAN/Desktop/Exported Datasets from R/2021_Data/August.csv')"
   ]
  },
  {
   "cell_type": "code",
   "execution_count": 91,
   "id": "42d8758b",
   "metadata": {},
   "outputs": [
    {
     "data": {
      "text/plain": [
       "(729595, 6)"
      ]
     },
     "execution_count": 91,
     "metadata": {},
     "output_type": "execute_result"
    }
   ],
   "source": [
    "#number of rows and columns\n",
    "August.shape"
   ]
  },
  {
   "cell_type": "code",
   "execution_count": 92,
   "id": "4e9bc4e8",
   "metadata": {},
   "outputs": [],
   "source": [
    "#import dataset\n",
    "September = pd.read_csv('C:/Users/LILIAN/Desktop/Exported Datasets from R/2021_Data/September.csv')"
   ]
  },
  {
   "cell_type": "code",
   "execution_count": 93,
   "id": "d5a3eb6c",
   "metadata": {},
   "outputs": [
    {
     "data": {
      "text/plain": [
       "(822410, 7)"
      ]
     },
     "execution_count": 93,
     "metadata": {},
     "output_type": "execute_result"
    }
   ],
   "source": [
    "#number of rows and columns\n",
    "September.shape"
   ]
  },
  {
   "cell_type": "code",
   "execution_count": 94,
   "id": "f1021449",
   "metadata": {},
   "outputs": [],
   "source": [
    "#import dataset\n",
    "October = pd.read_csv('C:/Users/LILIAN/Desktop/Exported Datasets from R/2021_Data/October.csv')"
   ]
  },
  {
   "cell_type": "code",
   "execution_count": 95,
   "id": "59afc10e",
   "metadata": {},
   "outputs": [
    {
     "data": {
      "text/plain": [
       "(804352, 7)"
      ]
     },
     "execution_count": 95,
     "metadata": {},
     "output_type": "execute_result"
    }
   ],
   "source": [
    "#number of rows and columns\n",
    "October.shape"
   ]
  },
  {
   "cell_type": "code",
   "execution_count": 96,
   "id": "721de600",
   "metadata": {},
   "outputs": [],
   "source": [
    "#import dataset\n",
    "November = pd.read_csv('C:/Users/LILIAN/Desktop/Exported Datasets from R/2021_Data/November.csv')"
   ]
  },
  {
   "cell_type": "code",
   "execution_count": 97,
   "id": "e51443b1",
   "metadata": {},
   "outputs": [
    {
     "data": {
      "text/plain": [
       "(519380, 7)"
      ]
     },
     "execution_count": 97,
     "metadata": {},
     "output_type": "execute_result"
    }
   ],
   "source": [
    "#number of rows and columns\n",
    "November.shape"
   ]
  },
  {
   "cell_type": "code",
   "execution_count": 98,
   "id": "a4a812c3",
   "metadata": {},
   "outputs": [],
   "source": [
    "#import dataset\n",
    "December = pd.read_csv('C:/Users/LILIAN/Desktop/Exported Datasets from R/2021_Data/December.csv')"
   ]
  },
  {
   "cell_type": "code",
   "execution_count": 107,
   "id": "137f689b",
   "metadata": {},
   "outputs": [
    {
     "data": {
      "text/plain": [
       "(631226, 7)"
      ]
     },
     "execution_count": 107,
     "metadata": {},
     "output_type": "execute_result"
    }
   ],
   "source": [
    "#number of rows and columns\n",
    "December.shape"
   ]
  },
  {
   "cell_type": "code",
   "execution_count": 68,
   "id": "80931fdd",
   "metadata": {},
   "outputs": [],
   "source": [
    "#MERGE DATAFRAME OF ALL MONTHS INTO AS ONE YEAR\n",
    "Year_2021 = [January,February,March,April,May,June,July,August,September,October,November,December]"
   ]
  },
  {
   "cell_type": "code",
   "execution_count": 69,
   "id": "17d54200",
   "metadata": {},
   "outputs": [],
   "source": [
    "Months_in_2021 = pd.concat(Year_2021, keys=['January','February','March','April','May','June','July','August','September','October','November','December'])"
   ]
  },
  {
   "cell_type": "code",
   "execution_count": 70,
   "id": "e97f1938",
   "metadata": {},
   "outputs": [
    {
     "data": {
      "text/html": [
       "<div>\n",
       "<style scoped>\n",
       "    .dataframe tbody tr th:only-of-type {\n",
       "        vertical-align: middle;\n",
       "    }\n",
       "\n",
       "    .dataframe tbody tr th {\n",
       "        vertical-align: top;\n",
       "    }\n",
       "\n",
       "    .dataframe thead th {\n",
       "        text-align: right;\n",
       "    }\n",
       "</style>\n",
       "<table border=\"1\" class=\"dataframe\">\n",
       "  <thead>\n",
       "    <tr style=\"text-align: right;\">\n",
       "      <th></th>\n",
       "      <th></th>\n",
       "      <th>Unnamed: 0</th>\n",
       "      <th>Ride_ID</th>\n",
       "      <th>Rideable_Type</th>\n",
       "      <th>Time_Diff</th>\n",
       "      <th>Lat</th>\n",
       "      <th>Ride_Lng</th>\n",
       "      <th>Status</th>\n",
       "    </tr>\n",
       "  </thead>\n",
       "  <tbody>\n",
       "    <tr>\n",
       "      <th rowspan=\"5\" valign=\"top\">January</th>\n",
       "      <th>0</th>\n",
       "      <td>1</td>\n",
       "      <td>70B6A9A437D4C30D</td>\n",
       "      <td>classic_bike</td>\n",
       "      <td>660</td>\n",
       "      <td>-0.010990</td>\n",
       "      <td>-0.010340</td>\n",
       "      <td>member</td>\n",
       "    </tr>\n",
       "    <tr>\n",
       "      <th>1</th>\n",
       "      <td>2</td>\n",
       "      <td>158A465D4E74C54A</td>\n",
       "      <td>electric_bike</td>\n",
       "      <td>420</td>\n",
       "      <td>0.020000</td>\n",
       "      <td>0.000000</td>\n",
       "      <td>member</td>\n",
       "    </tr>\n",
       "    <tr>\n",
       "      <th>2</th>\n",
       "      <td>3</td>\n",
       "      <td>5262016E0F1F2F9A</td>\n",
       "      <td>electric_bike</td>\n",
       "      <td>420</td>\n",
       "      <td>-0.020000</td>\n",
       "      <td>0.010000</td>\n",
       "      <td>member</td>\n",
       "    </tr>\n",
       "    <tr>\n",
       "      <th>3</th>\n",
       "      <td>4</td>\n",
       "      <td>BE119628E44F871E</td>\n",
       "      <td>electric_bike</td>\n",
       "      <td>360</td>\n",
       "      <td>0.010000</td>\n",
       "      <td>0.000000</td>\n",
       "      <td>member</td>\n",
       "    </tr>\n",
       "    <tr>\n",
       "      <th>4</th>\n",
       "      <td>5</td>\n",
       "      <td>69AF78D57854E110</td>\n",
       "      <td>electric_bike</td>\n",
       "      <td>120</td>\n",
       "      <td>0.000000</td>\n",
       "      <td>0.000000</td>\n",
       "      <td>member</td>\n",
       "    </tr>\n",
       "    <tr>\n",
       "      <th>...</th>\n",
       "      <th>...</th>\n",
       "      <td>...</td>\n",
       "      <td>...</td>\n",
       "      <td>...</td>\n",
       "      <td>...</td>\n",
       "      <td>...</td>\n",
       "      <td>...</td>\n",
       "      <td>...</td>\n",
       "    </tr>\n",
       "    <tr>\n",
       "      <th rowspan=\"5\" valign=\"top\">December</th>\n",
       "      <th>631221</th>\n",
       "      <td>631222</td>\n",
       "      <td>BA077FDD42DABF12</td>\n",
       "      <td>classic_bike</td>\n",
       "      <td>1320</td>\n",
       "      <td>0.032688</td>\n",
       "      <td>-0.011941</td>\n",
       "      <td>casual</td>\n",
       "    </tr>\n",
       "    <tr>\n",
       "      <th>631222</th>\n",
       "      <td>631223</td>\n",
       "      <td>B7D99254E798AA6B</td>\n",
       "      <td>classic_bike</td>\n",
       "      <td>1380</td>\n",
       "      <td>0.028219</td>\n",
       "      <td>0.011684</td>\n",
       "      <td>casual</td>\n",
       "    </tr>\n",
       "    <tr>\n",
       "      <th>631223</th>\n",
       "      <td>631224</td>\n",
       "      <td>BCCFD66DA466400F</td>\n",
       "      <td>electric_bike</td>\n",
       "      <td>300</td>\n",
       "      <td>-0.009954</td>\n",
       "      <td>0.004414</td>\n",
       "      <td>member</td>\n",
       "    </tr>\n",
       "    <tr>\n",
       "      <th>631224</th>\n",
       "      <td>631225</td>\n",
       "      <td>623E0F6F50CDD6E4</td>\n",
       "      <td>classic_bike</td>\n",
       "      <td>360</td>\n",
       "      <td>-0.009875</td>\n",
       "      <td>0.004573</td>\n",
       "      <td>member</td>\n",
       "    </tr>\n",
       "    <tr>\n",
       "      <th>631225</th>\n",
       "      <td>631226</td>\n",
       "      <td>83FA6AC52B7B7A7B</td>\n",
       "      <td>classic_bike</td>\n",
       "      <td>1560</td>\n",
       "      <td>0.043210</td>\n",
       "      <td>-0.003951</td>\n",
       "      <td>member</td>\n",
       "    </tr>\n",
       "  </tbody>\n",
       "</table>\n",
       "<p>5205357 rows × 7 columns</p>\n",
       "</div>"
      ],
      "text/plain": [
       "                 Unnamed: 0           Ride_ID  Rideable_Type  Time_Diff  \\\n",
       "January  0                1  70B6A9A437D4C30D   classic_bike        660   \n",
       "         1                2  158A465D4E74C54A  electric_bike        420   \n",
       "         2                3  5262016E0F1F2F9A  electric_bike        420   \n",
       "         3                4  BE119628E44F871E  electric_bike        360   \n",
       "         4                5  69AF78D57854E110  electric_bike        120   \n",
       "...                     ...               ...            ...        ...   \n",
       "December 631221      631222  BA077FDD42DABF12   classic_bike       1320   \n",
       "         631222      631223  B7D99254E798AA6B   classic_bike       1380   \n",
       "         631223      631224  BCCFD66DA466400F  electric_bike        300   \n",
       "         631224      631225  623E0F6F50CDD6E4   classic_bike        360   \n",
       "         631225      631226  83FA6AC52B7B7A7B   classic_bike       1560   \n",
       "\n",
       "                      Lat  Ride_Lng  Status  \n",
       "January  0      -0.010990 -0.010340  member  \n",
       "         1       0.020000  0.000000  member  \n",
       "         2      -0.020000  0.010000  member  \n",
       "         3       0.010000  0.000000  member  \n",
       "         4       0.000000  0.000000  member  \n",
       "...                   ...       ...     ...  \n",
       "December 631221  0.032688 -0.011941  casual  \n",
       "         631222  0.028219  0.011684  casual  \n",
       "         631223 -0.009954  0.004414  member  \n",
       "         631224 -0.009875  0.004573  member  \n",
       "         631225  0.043210 -0.003951  member  \n",
       "\n",
       "[5205357 rows x 7 columns]"
      ]
     },
     "execution_count": 70,
     "metadata": {},
     "output_type": "execute_result"
    }
   ],
   "source": [
    "Months_in_2021"
   ]
  },
  {
   "cell_type": "code",
   "execution_count": 71,
   "id": "3dcf9d46",
   "metadata": {},
   "outputs": [
    {
     "data": {
      "text/plain": [
       "(5205357, 7)"
      ]
     },
     "execution_count": 71,
     "metadata": {},
     "output_type": "execute_result"
    }
   ],
   "source": [
    "Months_in_2021.shape"
   ]
  },
  {
   "cell_type": "code",
   "execution_count": 72,
   "id": "dbb3ff8d",
   "metadata": {},
   "outputs": [
    {
     "data": {
      "text/html": [
       "<div>\n",
       "<style scoped>\n",
       "    .dataframe tbody tr th:only-of-type {\n",
       "        vertical-align: middle;\n",
       "    }\n",
       "\n",
       "    .dataframe tbody tr th {\n",
       "        vertical-align: top;\n",
       "    }\n",
       "\n",
       "    .dataframe thead th {\n",
       "        text-align: right;\n",
       "    }\n",
       "</style>\n",
       "<table border=\"1\" class=\"dataframe\">\n",
       "  <thead>\n",
       "    <tr style=\"text-align: right;\">\n",
       "      <th></th>\n",
       "      <th></th>\n",
       "      <th>Unnamed: 0</th>\n",
       "      <th>Ride_ID</th>\n",
       "      <th>Rideable_Type</th>\n",
       "      <th>Time_Diff</th>\n",
       "      <th>Lat</th>\n",
       "      <th>Ride_Lng</th>\n",
       "      <th>Status</th>\n",
       "    </tr>\n",
       "  </thead>\n",
       "  <tbody>\n",
       "    <tr>\n",
       "      <th rowspan=\"3\" valign=\"top\">January</th>\n",
       "      <th>0</th>\n",
       "      <td>1</td>\n",
       "      <td>70B6A9A437D4C30D</td>\n",
       "      <td>classic_bike</td>\n",
       "      <td>660</td>\n",
       "      <td>-0.01099</td>\n",
       "      <td>-0.01034</td>\n",
       "      <td>member</td>\n",
       "    </tr>\n",
       "    <tr>\n",
       "      <th>1</th>\n",
       "      <td>2</td>\n",
       "      <td>158A465D4E74C54A</td>\n",
       "      <td>electric_bike</td>\n",
       "      <td>420</td>\n",
       "      <td>0.02000</td>\n",
       "      <td>0.00000</td>\n",
       "      <td>member</td>\n",
       "    </tr>\n",
       "    <tr>\n",
       "      <th>2</th>\n",
       "      <td>3</td>\n",
       "      <td>5262016E0F1F2F9A</td>\n",
       "      <td>electric_bike</td>\n",
       "      <td>420</td>\n",
       "      <td>-0.02000</td>\n",
       "      <td>0.01000</td>\n",
       "      <td>member</td>\n",
       "    </tr>\n",
       "  </tbody>\n",
       "</table>\n",
       "</div>"
      ],
      "text/plain": [
       "           Unnamed: 0           Ride_ID  Rideable_Type  Time_Diff      Lat  \\\n",
       "January 0           1  70B6A9A437D4C30D   classic_bike        660 -0.01099   \n",
       "        1           2  158A465D4E74C54A  electric_bike        420  0.02000   \n",
       "        2           3  5262016E0F1F2F9A  electric_bike        420 -0.02000   \n",
       "\n",
       "           Ride_Lng  Status  \n",
       "January 0  -0.01034  member  \n",
       "        1   0.00000  member  \n",
       "        2   0.01000  member  "
      ]
     },
     "execution_count": 72,
     "metadata": {},
     "output_type": "execute_result"
    }
   ],
   "source": [
    "Months_in_2021.head(3)"
   ]
  },
  {
   "cell_type": "code",
   "execution_count": 74,
   "id": "45cbebee",
   "metadata": {},
   "outputs": [],
   "source": [
    "#EXPORT THE DATASET\n",
    "Months_in_2021.to_csv(r'C:/Users/LILIAN/Desktop/Exported Datasets from R/Months_in_2021.csv')"
   ]
  }
 ],
 "metadata": {
  "kernelspec": {
   "display_name": "Python 3",
   "language": "python",
   "name": "python3"
  },
  "language_info": {
   "codemirror_mode": {
    "name": "ipython",
    "version": 3
   },
   "file_extension": ".py",
   "mimetype": "text/x-python",
   "name": "python",
   "nbconvert_exporter": "python",
   "pygments_lexer": "ipython3",
   "version": "3.8.8"
  }
 },
 "nbformat": 4,
 "nbformat_minor": 5
}
